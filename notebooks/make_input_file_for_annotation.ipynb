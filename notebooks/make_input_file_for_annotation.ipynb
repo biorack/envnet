{
 "cells": [
  {
   "cell_type": "code",
   "execution_count": 1,
   "id": "f2a31009",
   "metadata": {},
   "outputs": [],
   "source": [
    "import pandas as pd\n",
    "import os\n",
    "import subprocess"
   ]
  },
  {
   "cell_type": "code",
   "execution_count": 16,
   "id": "abe89b25",
   "metadata": {},
   "outputs": [
    {
     "name": "stdout",
     "output_type": "stream",
     "text": [
      "Column Heading: parquet\n",
      "   /global/cfs/cdirs/metatlas/projects/carbon_network/raw_data/metatlas/20230223_EB_MdR_101544-059_SynDAC_20230223_QE144_C18-EP_USDAY72350_NEG_MS2_29_RS-HA-NA_1__18_deconvoluted.parquet\n",
      "Column Heading: h5\n",
      "   /global/cfs/cdirs/metatlas/projects/carbon_network/raw_data/metatlas/20230223_EB_MdR_101544-059_SynDAC_20230223_QE144_C18-EP_USDAY72350_NEG_MS2_29_RS-HA-NA_1__18.h5\n",
      "Column Heading: environmental_subclass\n",
      "   Suwannee River Humic Acid Standard III\n",
      "Column Heading: original_file_type\n",
      "   h5\n",
      "Column Heading: lcmsrun_observed\n",
      "   metatlas/20230223_EB_MdR_101544-059_SynDAC_20230223_QE144_C18-EP_USDAY72350_NEG_MS2_29_RS-HA-NA_1__18\n"
     ]
    }
   ],
   "source": [
    "filename  = '/global/homes/b/bpb/repos/envnet/scripts/my_files_test.csv'\n",
    "df = pd.read_csv(filename)\n",
    "for c in df.columns:\n",
    "    print('Column Heading:',c)\n",
    "    print('  ',df.loc[0,c])\n",
    "\n",
    "\n",
    "\n"
   ]
  },
  {
   "cell_type": "code",
   "execution_count": 22,
   "id": "ed83c7cc",
   "metadata": {},
   "outputs": [
    {
     "name": "stdout",
     "output_type": "stream",
     "text": [
      "Wrote /global/homes/b/bpb/repos/envnet/results/full_build_20250908_181404/input_for_annotation.csv with 1389 rows\n"
     ]
    }
   ],
   "source": [
    "\n",
    "filename = '/global/homes/b/bpb/repos/envnet/scripts/my_files.csv'\n",
    "df = pd.read_csv(filename)\n",
    "# replace all text having 'carbon_network/raw_data' with 'envnet_build_files' in the entire dataframe\n",
    "for c in df.columns:\n",
    "    df[c] = df[c].str.replace('carbon_network/raw_data', 'envnet_build_files', regex=False)\n",
    "df = df[~df['parquet'].str.contains('MSV000081030')]\n",
    "idx = df['parquet'].str.contains('_deconvoluted.parquet')\n",
    "df.loc[~idx,'parquet'] = df.loc[~idx,'parquet'].str.replace('.parquet','_deconvoluted.parquet', regex=False)\n",
    "df['lcmsrun_observed'] = df['h5'].apply(lambda x: x.replace('.h5',''))\n",
    "df['lcmsrun_observed'] = df['lcmsrun_observed'].str.replace('/global/cfs/cdirs/metatlas/projects/envnet_build_files/','', regex=False)\n",
    "df['original_file_type'] = 'h5'\n",
    "output_path = '/global/homes/b/bpb/repos/envnet/results/full_build_20250908_181404'\n",
    "output_filename = os.path.join(output_path,'input_for_annotation.csv')\n",
    "df.to_csv(output_filename, index=False)\n",
    "print(f'Wrote {output_filename} with {len(df)} rows')"
   ]
  },
  {
   "cell_type": "code",
   "execution_count": null,
   "id": "5c9cca52",
   "metadata": {},
   "outputs": [
    {
     "name": "stdout",
     "output_type": "stream",
     "text": [
      "(1389, 3)\n",
      "/global/cfs/cdirs/metatlas/projects/envnet_build_files/metatlas/20230223_EB_MdR_101544-059_SynDAC_20230223_QE144_C18-EP_USDAY72350_NEG_MS2_29_RS-HA-NA_1__18_deconvoluted.parquet\n",
      "True\n",
      "/global/cfs/cdirs/metatlas/projects/envnet_build_files/metatlas/20221219_EB_MdR_101544-059_PyrToDAC_20221219_EXP120A_C18-EP_USDAY63672_NEG_MS2_8_FAIII-1mg-NA_1__48_deconvoluted.parquet\n",
      "True\n",
      "/global/cfs/cdirs/metatlas/projects/envnet_build_files/metatlas/20230113_EB_MdR_101544-059_FRCgwater_20230105_EXP120A_C18-EP_USDAY72349_NEG_MS2_13_SRFA3-H2O-fil-NA-NA_1__18_deconvoluted.parquet\n",
      "True\n",
      "/global/cfs/cdirs/metatlas/projects/envnet_build_files/metatlas/20230113_EB_MdR_101544-059_FRCgwater_20230105_EXP120A_C18-EP_USDAY72349_NEG_MS2_14_SRFA3-H2O-unfil-NA-NA_1__36_deconvoluted.parquet\n",
      "True\n",
      "/global/cfs/cdirs/metatlas/projects/envnet_build_files/metatlas/20230113_EB_MdR_101544-059_FRCgwater_20230105_EXP120A_C18-EP_USDAY72349_NEG_MS2_15_SRFA3-MeOH-fil-NA-NA_1__12_deconvoluted.parquet\n",
      "True\n"
     ]
    }
   ],
   "source": [
    "\n",
    "\n",
    "# use recursive find to get all parquet files\n",
    "# use linux find since it is much faster than glob\n",
    "cmd = \"find /global/cfs/cdirs/metatlas/projects/envnet_build_files/ -name '*_deconvoluted.parquet'\"\n",
    "# run command\n",
    "result = subprocess.run(cmd, shell=True, capture_output=True, text=True)\n",
    "files = result.stdout.splitlines()\n",
    "len(files)\n",
    "files = [f for f in files if \"MSV000081030\" not in f] # MetaboLights MTBLS144 - GNPS Dissolved organic matter produced by Thalassiosira pseudonana\n",
    "\n",
    "\n",
    "# filename = '/global/homes/b/bpb/repos/envnet/scripts/my_files.csv'\n",
    "# df = pd.read_csv(filename)\n",
    "# # replace all text having 'carbon_network/raw_data' with 'envnet_build_files' in the entire dataframe\n",
    "# for c in df.columns:\n",
    "#     df[c] = df[c].str.replace('carbon_network/raw_data', 'envnet_build_files', regex=False)\n",
    "# df = df[~df['parquet'].str.contains('MSV000081030')]\n",
    "# idx = df['parquet'].str.contains('_deconvoluted.parquet')\n",
    "# df.loc[~idx,'parquet'] = df.loc[~idx,'parquet'].str.replace('.parquet','_deconvoluted.parquet', regex=False)\n",
    "\n",
    "# print(df.shape)\n",
    "# df.to_csv('/global/homes/b/bpb/repos/envnet/scripts/build_files.csv', index=False)\n",
    "# for f in df.head()['parquet'].tolist():\n",
    "#     print(f)\n",
    "#     print(os.path.exists(f))"
   ]
  },
  {
   "cell_type": "code",
   "execution_count": null,
   "id": "9baddd33",
   "metadata": {},
   "outputs": [],
   "source": []
  },
  {
   "cell_type": "code",
   "execution_count": null,
   "id": "d265f449",
   "metadata": {},
   "outputs": [],
   "source": [
    "# # remove MSV000081030 files.  These seem to be not environmental\n",
    "\n",
    "print(len(files))\n",
    "# files = [f for f in files if \"MSV000088008\" not in f]\n",
    "\n",
    "# # files = [f for f in files if \"DOM_Interlab-LCMS_Lab024\" not in f]\n",
    "# len(files)"
   ]
  },
  {
   "cell_type": "code",
   "execution_count": null,
   "id": "32c083a4",
   "metadata": {},
   "outputs": [],
   "source": [
    "import os\n",
    "for f in files:\n",
    "    mzml_filename = f.replace(\"_deconvoluted.parquet\", \".mzML\")\n",
    "    h5_filename = f.replace(\"_deconvoluted.parquet\", \".h5\")\n",
    "    if not os.path.exists(mzml_filename):\n",
    "        print(f)\n",
    "    if not os.path.exists(h5_filename):\n",
    "        print(f)"
   ]
  }
 ],
 "metadata": {
  "kernelspec": {
   "display_name": "Python 3",
   "language": "python",
   "name": "python3"
  },
  "language_info": {
   "codemirror_mode": {
    "name": "ipython",
    "version": 3
   },
   "file_extension": ".py",
   "mimetype": "text/x-python",
   "name": "python",
   "nbconvert_exporter": "python",
   "pygments_lexer": "ipython3",
   "version": "3.8.18"
  }
 },
 "nbformat": 4,
 "nbformat_minor": 5
}
