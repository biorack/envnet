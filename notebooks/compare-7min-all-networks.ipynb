{
 "cells": [
  {
   "cell_type": "code",
   "execution_count": 1,
   "id": "2bcfb431",
   "metadata": {},
   "outputs": [],
   "source": [
    "import pandas as pd\n",
    "import numpy as np\n",
    "import networkx as nx\n",
    "import matplotlib.pyplot as plt\n",
    "from pathlib import Path\n",
    "import os\n",
    "\n",
    "\n"
   ]
  },
  {
   "cell_type": "code",
   "execution_count": 2,
   "id": "9baddd33",
   "metadata": {},
   "outputs": [],
   "source": [
    "seven_min_filename = '/global/homes/b/bpb/repos/envnet/results/temp_data/toy_network-freshconversion-0p05-allfiles-7minutes.graphml'\n",
    "all_filename = '/global/homes/b/bpb/repos/envnet/results/temp_data/toy_network-freshconversion-0p05.graphml'\n",
    "g7 = nx.read_graphml(seven_min_filename)\n",
    "g_all = nx.read_graphml(all_filename)"
   ]
  },
  {
   "cell_type": "code",
   "execution_count": 20,
   "id": "8775637d",
   "metadata": {},
   "outputs": [],
   "source": [
    "def get_node_metadata(network):\n",
    "    metadata = {}\n",
    "    for node in network.nodes(data=True):\n",
    "        metadata[node[0]] = node[1]\n",
    "    df = pd.DataFrame(metadata).T\n",
    "    df.index.name = 'node_id'\n",
    "    df.reset_index(inplace=True,drop=False)\n",
    "    df['massive'] = df['filename'].apply(lambda x: x.split('/')[9] if 'MSV0' in x else x.split('/')[7])\n",
    "    return df\n",
    "df_7 = get_node_metadata(g7)\n",
    "df_all = get_node_metadata(g_all)"
   ]
  },
  {
   "cell_type": "code",
   "execution_count": 21,
   "id": "00291497",
   "metadata": {},
   "outputs": [
    {
     "data": {
      "text/plain": [
       "MSV000088823    3742\n",
       "MSV000087995    1958\n",
       "MSV000088008    1317\n",
       "MSV000087692     900\n",
       "MSV000087322     743\n",
       "MSV000092487     638\n",
       "MSV000090678     409\n",
       "MSV000087702     389\n",
       "metatlas         345\n",
       "MSV000092677     305\n",
       "MSV000087861     303\n",
       "MSV000093514     234\n",
       "MSV000092604     197\n",
       "MSV000092520     161\n",
       "MSV000087608     154\n",
       "MSV000092720     148\n",
       "MSV000087588     144\n",
       "MSV000081030      89\n",
       "MSV000087572      82\n",
       "MSV000089688      69\n",
       "MSV000091211      65\n",
       "MSV000092394      45\n",
       "MSV000087935      26\n",
       "MSV000089591      25\n",
       "MSV000092114      18\n",
       "MSV000088187      10\n",
       "MSV000087951      10\n",
       "MSV000090282       8\n",
       "MSV000090798       7\n",
       "MSV000090695       1\n",
       "Name: massive, dtype: int64"
      ]
     },
     "execution_count": 21,
     "metadata": {},
     "output_type": "execute_result"
    }
   ],
   "source": [
    "df_all[df_all['rt']>7]['massive'].value_counts().head(40)"
   ]
  },
  {
   "cell_type": "code",
   "execution_count": 4,
   "id": "8ed48796",
   "metadata": {},
   "outputs": [
    {
     "data": {
      "text/html": [
       "<div>\n",
       "<style scoped>\n",
       "    .dataframe tbody tr th:only-of-type {\n",
       "        vertical-align: middle;\n",
       "    }\n",
       "\n",
       "    .dataframe tbody tr th {\n",
       "        vertical-align: top;\n",
       "    }\n",
       "\n",
       "    .dataframe thead th {\n",
       "        text-align: right;\n",
       "    }\n",
       "</style>\n",
       "<table border=\"1\" class=\"dataframe\">\n",
       "  <thead>\n",
       "    <tr style=\"text-align: right;\">\n",
       "      <th></th>\n",
       "      <th>node_id</th>\n",
       "      <th>temp_index</th>\n",
       "      <th>rt</th>\n",
       "      <th>count</th>\n",
       "      <th>precursor_mz</th>\n",
       "      <th>sum_frag_intensity</th>\n",
       "      <th>max_frag_intensity</th>\n",
       "      <th>isolated_precursor_mz</th>\n",
       "      <th>filename</th>\n",
       "      <th>basename</th>\n",
       "      <th>...</th>\n",
       "      <th>p_to_c</th>\n",
       "      <th>c</th>\n",
       "      <th>h</th>\n",
       "      <th>o</th>\n",
       "      <th>n</th>\n",
       "      <th>s</th>\n",
       "      <th>p</th>\n",
       "      <th>has_library_match</th>\n",
       "      <th>is_singleton</th>\n",
       "      <th>n_to_p</th>\n",
       "    </tr>\n",
       "  </thead>\n",
       "  <tbody>\n",
       "  </tbody>\n",
       "</table>\n",
       "<p>0 rows × 42 columns</p>\n",
       "</div>"
      ],
      "text/plain": [
       "Empty DataFrame\n",
       "Columns: [node_id, temp_index, rt, count, precursor_mz, sum_frag_intensity, max_frag_intensity, isolated_precursor_mz, filename, basename, coisolated_precursor_count, assumed_adduct, predicted_formula, estimated_fdr, predicted_mass, mass_error, num_datapoints, peak_area, peak_height, mz_centroid, rt_peak, duplicate_cluster_index, num_duplicates, dbe, dbe_ai, dbe_ai_mod, ai_mod, ai, nosc, h_to_c, o_to_c, n_to_c, p_to_c, c, h, o, n, s, p, has_library_match, is_singleton, n_to_p]\n",
       "Index: []\n",
       "\n",
       "[0 rows x 42 columns]"
      ]
     },
     "execution_count": 4,
     "metadata": {},
     "output_type": "execute_result"
    }
   ],
   "source": [
    "df_7[df_7['rt']>7]"
   ]
  }
 ],
 "metadata": {
  "kernelspec": {
   "display_name": "Python 3",
   "language": "python",
   "name": "python3"
  },
  "language_info": {
   "codemirror_mode": {
    "name": "ipython",
    "version": 3
   },
   "file_extension": ".py",
   "mimetype": "text/x-python",
   "name": "python",
   "nbconvert_exporter": "python",
   "pygments_lexer": "ipython3",
   "version": "3.8.18"
  }
 },
 "nbformat": 4,
 "nbformat_minor": 5
}
