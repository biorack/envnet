{
 "cells": [
  {
   "cell_type": "code",
   "execution_count": null,
   "id": "abe89b25",
   "metadata": {},
   "outputs": [],
   "source": [
    "/global/homes/b/bpb/repos/envnet/scripts/my_files_test.csv"
   ]
  },
  {
   "cell_type": "code",
   "execution_count": 4,
   "id": "5c9cca52",
   "metadata": {},
   "outputs": [
    {
     "name": "stdout",
     "output_type": "stream",
     "text": [
      "(1389, 3)\n",
      "/global/cfs/cdirs/metatlas/projects/envnet_build_files/metatlas/20230223_EB_MdR_101544-059_SynDAC_20230223_QE144_C18-EP_USDAY72350_NEG_MS2_29_RS-HA-NA_1__18_deconvoluted.parquet\n",
      "True\n",
      "/global/cfs/cdirs/metatlas/projects/envnet_build_files/metatlas/20221219_EB_MdR_101544-059_PyrToDAC_20221219_EXP120A_C18-EP_USDAY63672_NEG_MS2_8_FAIII-1mg-NA_1__48_deconvoluted.parquet\n",
      "True\n",
      "/global/cfs/cdirs/metatlas/projects/envnet_build_files/metatlas/20230113_EB_MdR_101544-059_FRCgwater_20230105_EXP120A_C18-EP_USDAY72349_NEG_MS2_13_SRFA3-H2O-fil-NA-NA_1__18_deconvoluted.parquet\n",
      "True\n",
      "/global/cfs/cdirs/metatlas/projects/envnet_build_files/metatlas/20230113_EB_MdR_101544-059_FRCgwater_20230105_EXP120A_C18-EP_USDAY72349_NEG_MS2_14_SRFA3-H2O-unfil-NA-NA_1__36_deconvoluted.parquet\n",
      "True\n",
      "/global/cfs/cdirs/metatlas/projects/envnet_build_files/metatlas/20230113_EB_MdR_101544-059_FRCgwater_20230105_EXP120A_C18-EP_USDAY72349_NEG_MS2_15_SRFA3-MeOH-fil-NA-NA_1__12_deconvoluted.parquet\n",
      "True\n"
     ]
    }
   ],
   "source": [
    "import pandas as pd\n",
    "import os\n",
    "filename = '/global/homes/b/bpb/repos/envnet/scripts/my_files.csv'\n",
    "df = pd.read_csv(filename)\n",
    "# replace all text having 'carbon_network/raw_data' with 'envnet_build_files' in the entire dataframe\n",
    "for c in df.columns:\n",
    "    df[c] = df[c].str.replace('carbon_network/raw_data', 'envnet_build_files', regex=False)\n",
    "df = df[~df['parquet'].str.contains('MSV000081030')]\n",
    "idx = df['parquet'].str.contains('_deconvoluted.parquet')\n",
    "df.loc[~idx,'parquet'] = df.loc[~idx,'parquet'].str.replace('.parquet','_deconvoluted.parquet', regex=False)\n",
    "\n",
    "print(df.shape)\n",
    "df.to_csv('/global/homes/b/bpb/repos/envnet/scripts/build_files.csv', index=False)\n",
    "for f in df.head()['parquet'].tolist():\n",
    "    print(f)\n",
    "    print(os.path.exists(f))"
   ]
  },
  {
   "cell_type": "code",
   "execution_count": null,
   "id": "9baddd33",
   "metadata": {},
   "outputs": [],
   "source": [
    "# use recursive find to get all parquet files\n",
    "# use linux find since it is much faster than glob\n",
    "cmd = \"find /global/cfs/cdirs/metatlas/projects/envnet_build_files/ -name '*_deconvoluted.parquet'\"\n",
    "# run command\n",
    "import subprocess\n",
    "result = subprocess.run(cmd, shell=True, capture_output=True, text=True)\n",
    "files = result.stdout.splitlines()\n",
    "len(files)"
   ]
  },
  {
   "cell_type": "code",
   "execution_count": null,
   "id": "d265f449",
   "metadata": {},
   "outputs": [],
   "source": [
    "# # remove MSV000081030 files.  These seem to be not environmental\n",
    "files = [f for f in files if \"MSV000081030\" not in f] # MetaboLights MTBLS144 - GNPS Dissolved organic matter produced by Thalassiosira pseudonana\n",
    "\n",
    "print(len(files))\n",
    "# files = [f for f in files if \"MSV000088008\" not in f]\n",
    "\n",
    "# # files = [f for f in files if \"DOM_Interlab-LCMS_Lab024\" not in f]\n",
    "# len(files)"
   ]
  },
  {
   "cell_type": "code",
   "execution_count": null,
   "id": "32c083a4",
   "metadata": {},
   "outputs": [],
   "source": [
    "import os\n",
    "for f in files:\n",
    "    mzml_filename = f.replace(\"_deconvoluted.parquet\", \".mzML\")\n",
    "    h5_filename = f.replace(\"_deconvoluted.parquet\", \".h5\")\n",
    "    if not os.path.exists(mzml_filename):\n",
    "        print(f)\n",
    "    if not os.path.exists(h5_filename):\n",
    "        print(f)"
   ]
  }
 ],
 "metadata": {
  "kernelspec": {
   "display_name": "Python 3",
   "language": "python",
   "name": "python3"
  },
  "language_info": {
   "codemirror_mode": {
    "name": "ipython",
    "version": 3
   },
   "file_extension": ".py",
   "mimetype": "text/x-python",
   "name": "python",
   "nbconvert_exporter": "python",
   "pygments_lexer": "ipython3",
   "version": "3.8.18"
  }
 },
 "nbformat": 4,
 "nbformat_minor": 5
}
