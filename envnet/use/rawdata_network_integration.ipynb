{
 "cells": [
  {
   "cell_type": "markdown",
   "id": "9df259c2-d63a-4db4-88ae-8a0fc0390eb5",
   "metadata": {},
   "source": [
    "# Example Notebook For Associating Experimental Signals With The Carbon Network\n",
    "Prior to running this notebook, the CarbonNetwork graphml file must be present in the build folder"
   ]
  },
  {
   "cell_type": "code",
   "execution_count": null,
   "id": "ed90f120-02d3-4d73-b797-fb04f141d8a4",
   "metadata": {
    "tags": []
   },
   "outputs": [],
   "source": [
    "import pandas as pd\n",
    "import numpy as np\n",
    "import glob as glob\n",
    "import matplotlib.pyplot as plt\n",
    "import networkx as nx\n",
    "import os\n",
    "import glob\n",
    "\n",
    "from typing import List, Tuple\n",
    "\n",
    "from tqdm.notebook import tqdm\n",
    "\n",
    "# replace with submodules\n",
    "# import sys\n",
    "# sys.path.insert(0,'/global/homes/b/bpb/repos/metatlas')\n",
    "# from metatlas.io import feature_tools as ft\n",
    "# sys.path.insert(0,'/global/homes/b/bpb/repos/blink')\n",
    "# import blink\n",
    "\n",
    "import analysis_tools as at"
   ]
  },
  {
   "cell_type": "markdown",
   "id": "81e07a32-cc6e-4b34-9696-84cd9f7c0eb6",
   "metadata": {},
   "source": [
    "## Parameters\n",
    "The next code block sets parameters that are used throughout the remainder of the notebook."
   ]
  },
  {
   "cell_type": "code",
   "execution_count": null,
   "id": "ee52eb21-0041-468a-bcc2-9d8bd7c4b5e1",
   "metadata": {
    "tags": []
   },
   "outputs": [],
   "source": [
    "# experiment directory\n",
    "## note: must follow Northen Lab file naming conventions and be converted to hdf5 format\n",
    "exp_dir  = ['/global/cfs/cdirs/metatlas/raw_data/egsb/20240409_EB_NB_107915-001_PRISM-RtExu_combined-rep1-5_EXP120A_C18-EP_USDAY72349']\n",
    "# exp_dir = ['/global/cfs/cdirs/metatlas/raw_data/egsb/20231113_EB_SMK_107002-011_CenturyExp_20230414_EXP120A_C18-EP_USDAY72349',\n",
    "        #    '/global/cfs/cdirs/metatlas/raw_data/jgi/20240112_JGI_MdR_109570-002_OMTSoil50g_Pilot_QEHF_C18_USDAY86082_CORRECTED']\n",
    "# experiment directory\n",
    "## note: must follow Northen Lab file naming conventions and be converted to hdf5 format\n",
    "files = glob.glob(exp_dir[0] + '/*NEG*.h5')\n",
    "files = [f for f in files if 'qc' not in f.lower()]\n",
    "files = [f for f in files if 'blank' not in f.lower()]\n",
    "print(len(files))\n",
    "# tolerance in ppm between experimental signal and node mz\n",
    "mz_ppm_tolerance = 5\n",
    "peak_height_min = 1e4\n",
    "num_datapoints_min = 10\n",
    "# minimum MSMS score \n",
    "msms_score_min = 0.5\n",
    "\n",
    "# minimum MSMS matching ion count\n",
    "msms_matches_min = 3\n",
    "\n",
    "# retention time range in minutes for feature finding\n",
    "rt_range = [1, 700]\n",
    "\n",
    "# tolerance in daltons used for calculating MS/MS similarity scores\n",
    "frag_mz_tolerance = 0.05"
   ]
  },
  {
   "cell_type": "code",
   "execution_count": null,
   "id": "5e44d300-6133-41f7-a144-d3b24c4d6f14",
   "metadata": {
    "tags": []
   },
   "outputs": [],
   "source": [
    "from importlib import reload\n",
    "at = reload(at)"
   ]
  },
  {
   "cell_type": "code",
   "execution_count": null,
   "id": "b95466be",
   "metadata": {},
   "outputs": [],
   "source": [
    "# df = pd.read_csv('/global/cfs/cdirs/metatlas/projects/carbon_network/public_and_internal_files_with_massive_and_redu.tsv', sep='\\t')\n",
    "# df = df[df['SampleType']=='plant']\n",
    "# df = df[~df['buddy'].str.contains('qc',case=False)]\n",
    "# df = df[~df['buddy'].str.contains('blank',case=False)]\n",
    "# out_dir = '/global/cfs/cdirs/metatlas/projects/carbon_network/raw_data'\n",
    "# temp_files = df['h5'].tolist()\n",
    "# files = []\n",
    "# for f in temp_files:\n",
    "#     base_dir = os.path.dirname(f)\n",
    "#     base_name = os.path.basename(f)\n",
    "#     new_dir = os.path.join(out_dir,base_dir)\n",
    "#     new_name = os.path.join(new_dir,base_name)\n",
    "#     files.append(new_name)\n",
    "#     if not os.path.isfile(new_name):\n",
    "#         print('File Not Found!')\n",
    "#         print(new_name)\n",
    "#         print(f)\n",
    "# files_data = pd.DataFrame(files,columns=['filename'])\n",
    "# files = files_data['filename'].tolist()\n"
   ]
  },
  {
   "cell_type": "code",
   "execution_count": null,
   "id": "535bc471-721c-491a-9664-e8ed1f752593",
   "metadata": {
    "tags": []
   },
   "outputs": [],
   "source": [
    "# collect and merge required data and metadata\n",
    "node_data = at.graph_to_df()\n",
    "node_atlas = at.make_node_atlas(node_data, rt_range)\n",
    "merged_node_data = at.merge_spectral_data(node_data)\n",
    "# files_data = at.get_files_df(exp_dir)\n",
    "# files = files_data['filename'].tolist()"
   ]
  },
  {
   "cell_type": "code",
   "execution_count": null,
   "id": "6f3e9682",
   "metadata": {},
   "outputs": [],
   "source": [
    "len(files)"
   ]
  },
  {
   "cell_type": "code",
   "execution_count": null,
   "id": "ba8190e9-7497-4e0c-bc24-f2cf336ec2cf",
   "metadata": {
    "tags": []
   },
   "outputs": [],
   "source": [
    "# get ms1 and ms2 data\n",
    "ms1_data = at.get_sample_ms1_data(node_atlas, files, mz_ppm_tolerance,peak_height_min,num_datapoints_min)\n",
    "max_ms1_data = at.get_best_ms1_rawdata(ms1_data,node_data)\n",
    "ms2_data = at.get_sample_ms2_data(files,merged_node_data,msms_score_min,msms_matches_min,mz_ppm_tolerance,frag_mz_tolerance)\n",
    "max_ms2_data = at.get_best_ms2_rawdata(ms2_data)\n",
    "best_hits = at.get_best_ms1_ms2_combined(max_ms1_data,max_ms2_data)\n",
    "\n"
   ]
  },
  {
   "cell_type": "code",
   "execution_count": null,
   "id": "2c172e46",
   "metadata": {},
   "outputs": [],
   "source": [
    "# ms2_data = [pd.concat(m) for m in ms2_data if m is not None]\n",
    "ms2_data = pd.concat(ms2_data)\n",
    "ms2_data"
   ]
  },
  {
   "cell_type": "code",
   "execution_count": null,
   "id": "add37a77",
   "metadata": {},
   "outputs": [],
   "source": [
    "max_ms2_data = at.get_best_ms2_rawdata(ms2_data)\n",
    "best_hits = at.get_best_ms1_ms2_combined(max_ms1_data,max_ms2_data)"
   ]
  },
  {
   "cell_type": "code",
   "execution_count": null,
   "id": "0c748ae8-7062-4d99-9101-6fab65aa7f20",
   "metadata": {
    "tags": []
   },
   "outputs": [],
   "source": [
    "# best_hits = best_hits[best_hits['peak_area']>1e4]\n",
    "# best_hits[pd.notna(best_hits['ms2_score'])]"
   ]
  },
  {
   "cell_type": "code",
   "execution_count": null,
   "id": "16c424a3",
   "metadata": {},
   "outputs": [],
   "source": [
    "def make_output_df(node_data,best_hits,filename='output.csv'):\n",
    "    output = node_data.copy()\n",
    "    output.set_index('node_id',inplace=True)\n",
    "    output = output.join(best_hits.set_index('node_id'),rsuffix='_best_hit',how='left')\n",
    "    output.to_csv(filename)\n",
    "    return output\n",
    "make_output_df(node_data,best_hits,filename='BestHits_ExudateData.csv')"
   ]
  },
  {
   "cell_type": "code",
   "execution_count": null,
   "id": "221d3f8c",
   "metadata": {},
   "outputs": [],
   "source": []
  },
  {
   "cell_type": "code",
   "execution_count": null,
   "id": "609cc7c6",
   "metadata": {},
   "outputs": [],
   "source": [
    "ms2_data['plant'] = ms2_data['lcmsrun_observed'].apply(lambda x: os.path.basename(x).split('_')[12])"
   ]
  },
  {
   "cell_type": "code",
   "execution_count": null,
   "id": "a06316d3",
   "metadata": {},
   "outputs": [],
   "source": [
    "d_sample = ms2_data.pivot_table(index='node_id',columns=['plant'],values='score',aggfunc='max',fill_value=0)\n",
    "d_sample = d_sample>0.6\n",
    "d_sample.sum().sort_values(ascending=False).head(20)"
   ]
  },
  {
   "cell_type": "code",
   "execution_count": null,
   "id": "23c3ef74",
   "metadata": {},
   "outputs": [],
   "source": [
    "files = ms1_data['lcmsrun_observed'].unique()\n",
    "ms1_data['plant'] = ms1_data['lcmsrun_observed'].apply(lambda x: os.path.basename(x).split('_')[12])\n"
   ]
  },
  {
   "cell_type": "code",
   "execution_count": null,
   "id": "04517890",
   "metadata": {},
   "outputs": [],
   "source": [
    "d_sample = ms1_data.pivot_table(index='node_id',columns=['plant'],values='peak_area',aggfunc='mean',fill_value=300)\n",
    "d_sample.to_csv('PeakArea_ExudateData-groupedbyplant.csv') \n",
    "d_sample = d_sample>1e7\n"
   ]
  },
  {
   "cell_type": "code",
   "execution_count": null,
   "id": "f50734d0",
   "metadata": {},
   "outputs": [],
   "source": [
    "d_sample.sum().sort_values(ascending=False).head(20)"
   ]
  },
  {
   "cell_type": "code",
   "execution_count": null,
   "id": "072b8cc5",
   "metadata": {},
   "outputs": [],
   "source": [
    "d_sample = ms1_data.pivot_table(index='node_id',columns=['lcmsrun_observed'],values='peak_area',aggfunc='mean',fill_value=300)\n",
    "d_sample.to_csv('PeakArea_ExudateData.csv') \n"
   ]
  },
  {
   "cell_type": "code",
   "execution_count": null,
   "id": "47e04910",
   "metadata": {},
   "outputs": [],
   "source": [
    "import pandas as pd\n",
    "plant = pd.read_csv('PeakArea_PlantData.csv')"
   ]
  },
  {
   "cell_type": "code",
   "execution_count": null,
   "id": "22fdba3f",
   "metadata": {},
   "outputs": [],
   "source": []
  }
 ],
 "metadata": {
  "kernelspec": {
   "display_name": "Python 3 (ipykernel)",
   "language": "python",
   "name": "python3"
  },
  "language_info": {
   "codemirror_mode": {
    "name": "ipython",
    "version": 3
   },
   "file_extension": ".py",
   "mimetype": "text/x-python",
   "name": "python",
   "nbconvert_exporter": "python",
   "pygments_lexer": "ipython3",
   "version": "3.8.18"
  }
 },
 "nbformat": 4,
 "nbformat_minor": 5
}
