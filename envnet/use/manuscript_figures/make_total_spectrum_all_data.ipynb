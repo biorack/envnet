{
 "cells": [
  {
   "cell_type": "code",
   "execution_count": 1,
   "metadata": {},
   "outputs": [
    {
     "name": "stderr",
     "output_type": "stream",
     "text": [
      "/global/common/software/m2650/msbuddy/lib/python3.8/site-packages/outdated/utils.py:14: OutdatedPackageWarning: The package pingouin is out of date. Your version is 0.4.0, the latest is 0.5.4.\n",
      "Set the environment variable OUTDATED_IGNORE=1 to disable these warnings.\n",
      "  return warn(\n"
     ]
    }
   ],
   "source": [
    "from pyteomics import mgf\n",
    "import pandas as pd\n",
    "import numpy as np\n",
    "import glob as glob\n",
    "import os\n",
    "import matplotlib.pyplot as plt\n",
    "import networkx as nx\n",
    "import pingouin as pg\n",
    "import seaborn as sns\n",
    "sys.path.insert(0,'/global/homes/b/bpb/repos/metatlas')\n",
    "from metatlas.io import feature_tools as ft"
   ]
  },
  {
   "cell_type": "code",
   "execution_count": 2,
   "metadata": {},
   "outputs": [
    {
     "name": "stderr",
     "output_type": "stream",
     "text": [
      "/tmp/ipykernel_53299/2521677813.py:1: DtypeWarning: Columns (7,11,21,22,28,30,33) have mixed types. Specify dtype option on import or set low_memory=False.\n",
      "  df = pd.read_csv('/global/cfs/cdirs/metatlas/projects/carbon_network/all_sampleinformation.tsv',sep='\\t')\n"
     ]
    },
    {
     "data": {
      "text/plain": [
       "(8638, 37)"
      ]
     },
     "execution_count": 2,
     "metadata": {},
     "output_type": "execute_result"
    }
   ],
   "source": [
    "df = pd.read_csv('/global/cfs/cdirs/metatlas/projects/carbon_network/all_sampleinformation.tsv',sep='\\t')\n",
    "df = df[~df['filename'].str.contains('qc',case=False)]\n",
    "df = df[~df['filename'].str.contains('blank',case=False)]\n",
    "df = df[df['SampleType']=='plant']\n",
    "df.shape"
   ]
  },
  {
   "cell_type": "code",
   "execution_count": 6,
   "metadata": {},
   "outputs": [
    {
     "data": {
      "text/plain": [
       "(595, 1)"
      ]
     },
     "execution_count": 6,
     "metadata": {},
     "output_type": "execute_result"
    }
   ],
   "source": [
    "df = pd.read_csv('/global/cfs/cdirs/metatlas/projects/carbon_network/public_and_internal_files_with_massive_and_redu.tsv', sep='\\t')\n",
    "df = df[df['SampleType']=='plant']\n",
    "\n",
    "df = df[~df['buddy'].str.contains('qc',case=False)]\n",
    "df = df[~df['buddy'].str.contains('blank',case=False)]\n",
    "out_dir = '/global/cfs/cdirs/metatlas/projects/carbon_network/raw_data'\n",
    "temp_files = df['h5'].tolist()\n",
    "files = []\n",
    "for f in temp_files:\n",
    "    base_dir = os.path.dirname(f)\n",
    "    base_name = os.path.basename(f)\n",
    "    new_dir = os.path.join(out_dir,base_dir)\n",
    "    new_name = os.path.join(new_dir,base_name)\n",
    "    files.append(new_name)\n",
    "    if not os.path.isfile(new_name):\n",
    "        print('File Not Found!')\n",
    "        print(new_name)\n",
    "        print(f)\n",
    "files = pd.DataFrame(files,columns=['filename'])\n",
    "files.shape"
   ]
  },
  {
   "cell_type": "code",
   "execution_count": 5,
   "metadata": {},
   "outputs": [
    {
     "name": "stdout",
     "output_type": "stream",
     "text": [
      "(2258, 1)\n"
     ]
    }
   ],
   "source": [
    "df = pd.read_csv('/global/cfs/cdirs/metatlas/projects/carbon_network/public_and_internal_files_with_massive_and_redu.tsv', sep='\\t')\n",
    "\n",
    "df = df[~df['buddy'].str.contains('qc',case=False)]\n",
    "df = df[~df['buddy'].str.contains('blank',case=False)]\n",
    "# df['keywords'] = df['keywords'].apply(lambda x: x.split('###') if type(x)==str else [])\n",
    "# df['keyword_DOM'] = df['keywords'].apply(lambda x: True if (('dom' in x) | ('organic matter' in x) | ('soil' in x)) else False)\n",
    "idx1 = (df['in_massive_dom_list'])# | df['keyword_DOM']\n",
    "# idx2 = (df['SampleType']=='plant')\n",
    "\n",
    "# idx2 = df['data_dir']=='/global/cfs/cdirs/metatlas/projects/massive_data_for_scn'\n",
    "idx3 = df['buddy'].str.contains('rawdata_for_scn')\n",
    "# df = df[(idx3)]# | (idx1)] #  | (idx2)\n",
    "df = df[(idx3) | (idx1)] #  | (idx2)\n",
    "# df = df[df['SampleType']=='plant']\n",
    "file_metadata = df.copy()\n",
    "\n",
    "\n",
    "out_dir = '/global/cfs/cdirs/metatlas/projects/carbon_network/raw_data'\n",
    "temp_files = df['h5'].tolist()\n",
    "files = []\n",
    "for f in temp_files:\n",
    "    base_dir = os.path.dirname(f)\n",
    "    base_name = os.path.basename(f)\n",
    "    new_dir = os.path.join(out_dir,base_dir)\n",
    "    new_name = os.path.join(new_dir,base_name)\n",
    "    files.append(new_name)\n",
    "    if not os.path.isfile(new_name):\n",
    "        print('File Not Found!')\n",
    "        print(new_name)\n",
    "        print(f)\n",
    "files = pd.DataFrame(files,columns=['filename'])\n",
    "print(files.shape)\n",
    "my_files = files.sample(20)['filename'].tolist()\n"
   ]
  },
  {
   "cell_type": "code",
   "execution_count": 7,
   "metadata": {},
   "outputs": [],
   "source": [
    "edges = np.logspace(np.log10(150),np.log10(700),int(1e5))\n",
    "# edges[2000000:2000010]"
   ]
  },
  {
   "cell_type": "code",
   "execution_count": null,
   "metadata": {},
   "outputs": [],
   "source": [
    "from concurrent.futures import ThreadPoolExecutor\n",
    "my_files = files['filename'].tolist()\n",
    "\n",
    "import concurrent.futures\n",
    "\n",
    "def process_file(f):\n",
    "    d = ft.df_container_from_metatlas_file(f,desired_key='ms1_neg')\n",
    "    d = d[d['rt']>1]\n",
    "    d = d[d['mz']>edges[0]]\n",
    "    d = d[d['mz']<edges[-1]]\n",
    "    y,bins = np.histogram(d['mz'],bins=edges,weights=d['i'])\n",
    "    idx = y>0\n",
    "    y = y[idx]\n",
    "    mean_mz = (bins[:-1][idx] + bins[1:][idx])/2\n",
    "    return (y[idx],mean_mz)\n",
    "\n",
    "# Create a ThreadPoolExecutor with the desired number of workers\n",
    "with ThreadPoolExecutor(max_workers=20) as executor:\n",
    "    # Submit each file to the executor for processing\n",
    "    futures = [executor.submit(process_file, filename) for filename in my_files]\n",
    "\n",
    "    # Wait for all futures to complete\n",
    "    concurrent.futures.wait(futures)\n",
    "\n",
    "\n",
    "# Get the results from each future\n",
    "results = [future.result() for future in futures]"
   ]
  },
  {
   "cell_type": "code",
   "execution_count": 79,
   "metadata": {},
   "outputs": [
    {
     "data": {
      "text/plain": [
       "array([[ 0. ],\n",
       "       [11.2],\n",
       "       [ 0. ],\n",
       "       [ 0. ],\n",
       "       [11.1]])"
      ]
     },
     "execution_count": 79,
     "metadata": {},
     "output_type": "execute_result"
    }
   ],
   "source": [
    "\n",
    "y = [1.1,10.1,11.1]\n",
    "x = [0.95,0.9,3.1]\n",
    "edges = [0,1,2,3]\n",
    "y = np.asarray(y)\n",
    "x = np.asarray(x)\n",
    "edges = np.asarray(edges)\n",
    "bin_indices = np.digitize(x,edges)\n",
    "# histogram = coo_matrix((y, (bin_indices, np.zeros_like(bin_indices))), shape=(len(edges), 1)).tocsc()\n",
    "# print(bin_indices,histogram)\n",
    "col_indices = np.zeros_like(bin_indices)\n",
    "m = (y, (bin_indices, col_indices))\n",
    "c = coo_matrix(m, shape=(len(edges)+1, 1))\n",
    "s = c.tocsc()\n",
    "# y,bin_indices,col_indices\n",
    "s.toarray()\n"
   ]
  },
  {
   "cell_type": "code",
   "execution_count": 8,
   "metadata": {},
   "outputs": [],
   "source": [
    "from scipy.sparse import coo_matrix\n",
    "from concurrent.futures import ThreadPoolExecutor\n",
    "my_files = files['filename'].tolist()\n",
    "\n",
    "import concurrent.futures\n",
    "\n",
    "# Initialize an empty histogram\n",
    "histogram = coo_matrix((len(edges), 1), dtype=np.float64).tocsc()\n",
    "\n",
    "# Process each file in the list\n",
    "def process_file(f):\n",
    "\n",
    "    d = ft.df_container_from_metatlas_file(f, desired_key='ms1_neg')\n",
    "    d = d[d['rt']>1]\n",
    "    d = d[d['mz']>edges[0]]\n",
    "    d = d[d['mz']<edges[-1]]\n",
    "\n",
    "    # Calculate the bin indices for each mz value\n",
    "    bin_indices = np.digitize(d['mz'], bins=edges)\n",
    "\n",
    "    # Create a sparse histogram for the current file and sum it into the total histogram\n",
    "    histogram = coo_matrix((d['i'], (bin_indices, np.zeros_like(bin_indices))), shape=(len(edges), 1)).tocsc()\n",
    "    return histogram\n",
    "\n",
    "# Create a ThreadPoolExecutor with the desired number of workers\n",
    "with ThreadPoolExecutor(max_workers=20) as executor:\n",
    "    # Submit each file to the executor for processing\n",
    "    futures = [executor.submit(process_file, filename) for filename in my_files]\n",
    "\n",
    "    # Wait for all futures to complete\n",
    "    concurrent.futures.wait(futures)\n",
    "\n",
    "results = [future.result() for future in futures]\n",
    "# Initialize an empty histogram\n",
    "\n"
   ]
  },
  {
   "cell_type": "code",
   "execution_count": 9,
   "metadata": {},
   "outputs": [],
   "source": [
    "histogram = coo_matrix((len(edges), 1), dtype=np.float64).tocsc()\n",
    "for r in results:\n",
    "    r = r / r.max()\n",
    "    histogram += r"
   ]
  },
  {
   "cell_type": "code",
   "execution_count": 12,
   "metadata": {},
   "outputs": [
    {
     "data": {
      "image/png": "[encoded data removed]",
      "text/plain": [
       "<Figure size 2000x400 with 1 Axes>"
      ]
     },
     "metadata": {},
     "output_type": "display_data"
    }
   ],
   "source": [
    "fig,ax = plt.subplots(figsize=(20,4))\n",
    "ax.vlines(edges,0*edges,histogram.toarray().flatten())\n",
    "# ax.xaxis.set_major_formatter(plt.ScalarFormatter(useMathText=False))\n",
    "ax.ticklabel_format(useOffset=False)\n",
    "# ax.axvline(t,color='r')\n",
    "plt.show()"
   ]
  },
  {
   "cell_type": "code",
   "execution_count": 43,
   "metadata": {},
   "outputs": [
    {
     "data": {
      "image/png": "[encoded data removed]",
      "text/plain": [
       "<Figure size 2000x400 with 1 Axes>"
      ]
     },
     "metadata": {},
     "output_type": "display_data"
    }
   ],
   "source": [
    "t = 311.11362\n",
    "# t = 309.09797\n",
    "# t = 297.09797\n",
    "# t = 323.11362\n",
    "# t = 325.12927\n",
    "t = 411.12968\n",
    "idx = abs(edges-t)<0.0021\n",
    "fig,ax = plt.subplots(figsize=(20,4))\n",
    "ax.plot(edges[idx],histogram[idx].toarray().flatten(),'.-')\n",
    "# ax.xaxis.set_major_formatter(plt.ScalarFormatter(useMathText=False))\n",
    "ax.ticklabel_format(useOffset=False)\n",
    "ax.axvline(t,color='r')\n",
    "plt.show()"
   ]
  },
  {
   "cell_type": "code",
   "execution_count": null,
   "metadata": {},
   "outputs": [],
   "source": [
    "y = np.asarray(results)\n",
    "y = np.median(y,axis=0)\n",
    "# y = y.sum(axis=0)a\n",
    "# y = y / len(my_files)\n"
   ]
  },
  {
   "cell_type": "code",
   "execution_count": null,
   "metadata": {},
   "outputs": [],
   "source": [
    "\n",
    "fig,ax = plt.subplots(figsize=(15,4))\n",
    "y = y + 1\n",
    "ax.vlines(edges[:-1],1 + 0*y,y)\n",
    "ax.set_ylabel('Median Intensity Across %d Files'%len(my_files))\n",
    "ax.set_xlabel('m/z')\n",
    "# ax.set_xlim(310.9,311.5)\n",
    "ax.set_yscale('log')\n",
    "plt.show()"
   ]
  },
  {
   "cell_type": "code",
   "execution_count": null,
   "metadata": {},
   "outputs": [],
   "source": [
    "from scipy.cluster.hierarchy import linkage, dendrogram\n",
    "\n",
    "# Calculate the pairwise distances between rows\n",
    "# cols = [c for c in cluster_df.columns if ('deciduousforests' in c) | ('coniferousforests' in c)]\n",
    "distances = np.asarray(results)\n",
    "\n",
    "# Perform hierarchical clustering\n",
    "Z = linkage(distances, method='average', metric='euclidean')\n",
    "\n",
    "# Get the order of the rows based on the clustering\n",
    "order = dendrogram(Z, no_plot=True)['leaves']\n",
    "\n",
    "# Reorder the rows of cluster_df\n",
    "# cluster_df = cluster_df.iloc[order]\n",
    "ordered_results = [results[i] for i in order]\n",
    "# Show the reordered cluster_df\n",
    "# cluster_df[cols]\n"
   ]
  },
  {
   "cell_type": "code",
   "execution_count": null,
   "metadata": {},
   "outputs": [],
   "source": [
    "fig,ax = plt.subplots(figsize=(20,10))\n",
    "y = np.asarray(ordered_results)\n",
    "y = y + 1\n",
    "y = np.log10(y)\n",
    "sns.heatmap(y,ax=ax)\n",
    "# ax.set_xticks(np.arange(0,len(edges),10000)\n",
    "# ax.set_xticklabels(edges[:-1])\n",
    "\n",
    "plt.show()"
   ]
  },
  {
   "cell_type": "code",
   "execution_count": null,
   "metadata": {},
   "outputs": [],
   "source": [
    "# out.to_pickle('/global/cfs/cdirs/metatlas/projects/carbon_network/temp_data/all_berkeley_lab_data.pkl')\n",
    "# out.to_pickle('/global/cfs/cdirs/metatlas/projects/carbon_network/temp_data/century_experiment_data.pkl')\n",
    "# out.to_pickle('/global/cfs/cdirs/metatlas/projects/carbon_network/temp_data/wavestab3_data.pkl')\n",
    "# out.to_pickle('/global/cfs/cdirs/metatlas/projects/carbon_network/temp_data/plantmasst_data.pkl')\n",
    "out.to_pickle('/global/cfs/cdirs/metatlas/projects/carbon_network/temp_data/allCarbonData.pkl')"
   ]
  },
  {
   "cell_type": "code",
   "execution_count": null,
   "metadata": {},
   "outputs": [],
   "source": [
    "# out = pd.read_pickle('/global/cfs/cdirs/metatlas/projects/carbon_network/temp_data/all_berkeley_lab_data.pkl')\n",
    "# out = pd.read_pickle('/global/cfs/cdirs/metatlas/projects/carbon_network/temp_data/wavestab3_data.pkl')\n",
    "# out = pd.read_pickle('/global/cfs/cdirs/metatlas/projects/carbon_network/temp_data/century_experiment_data.pkl')\n",
    "out = pd.read_pickle('/global/cfs/cdirs/metatlas/projects/carbon_network/temp_data/allCarbonData.pkl')\n",
    "out_plant = pd.read_pickle('/global/cfs/cdirs/metatlas/projects/carbon_network/temp_data/plantmasst_data.pkl')\n"
   ]
  },
  {
   "cell_type": "code",
   "execution_count": null,
   "metadata": {},
   "outputs": [],
   "source": [
    "def make_spectrum(out):\n",
    "    # y_col = 'peak_height'\n",
    "    y_col = 'peak_area'\n",
    "    cols = ['mz_centroid',y_col]\n",
    "    # & (out['num_datapoints']>1) & (out['peak_height']<1e80) & (out['peak_height']>1)\n",
    "    y = out[(out['mz_centroid']>150)].groupby('node_id')[cols].median()\n",
    "    # y = y[y['peak_area']<1e9]\n",
    "    y.reset_index(inplace=True,drop=True)\n",
    "    fig, ax = plt.subplots(figsize=(15,4))\n",
    "    ax.vlines(y['mz_centroid'],0*y[y_col],y[y_col])\n",
    "    # ax.set_xlim(300.0,320)\n",
    "    # ax.set_yscale('log')\n",
    "\n",
    "make_spectrum(out)\n",
    "make_spectrum(out_plant)"
   ]
  }
 ],
 "metadata": {
  "kernelspec": {
   "display_name": "Python 3",
   "language": "python",
   "name": "python3"
  },
  "language_info": {
   "codemirror_mode": {
    "name": "ipython",
    "version": 3
   },
   "file_extension": ".py",
   "mimetype": "text/x-python",
   "name": "python",
   "nbconvert_exporter": "python",
   "pygments_lexer": "ipython3",
   "version": "3.8.18"
  }
 },
 "nbformat": 4,
 "nbformat_minor": 2
}
