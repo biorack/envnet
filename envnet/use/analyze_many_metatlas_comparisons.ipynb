{
 "cells": [
  {
   "cell_type": "code",
   "execution_count": 1,
   "metadata": {},
   "outputs": [
    {
     "name": "stderr",
     "output_type": "stream",
     "text": [
      "INFO:rdkit:Enabling RDKit 2023.09.1 jupyter extensions\n"
     ]
    }
   ],
   "source": [
    "from pyteomics import mgf\n",
    "import pandas as pd\n",
    "import numpy as np\n",
    "import glob as glob\n",
    "import os\n",
    "import sys\n",
    "import matplotlib.pyplot as plt\n",
    "import networkx as nx\n",
    "import pingouin as pg\n",
    "import seaborn as sns\n",
    "sys.path.insert(0,'/global/homes/b/bpb/repos/metatlas')\n",
    "from metatlas.io import feature_tools as ft\n",
    "\n",
    "import pandas as pd\n",
    "import numpy as np\n",
    "import glob as glob\n",
    "import matplotlib.pyplot as plt\n",
    "import networkx as nx\n",
    "import os\n",
    "import glob\n",
    "\n",
    "from typing import List, Tuple\n",
    "\n",
    "from tqdm.notebook import tqdm\n",
    "\n",
    "# replace with submodules\n",
    "\n",
    "\n",
    "\n",
    "# sys.path.insert(0,'../')\n",
    "import analysis_tools as at"
   ]
  },
  {
   "cell_type": "code",
   "execution_count": 3,
   "metadata": {},
   "outputs": [
    {
     "name": "stderr",
     "output_type": "stream",
     "text": [
      "INFO:root:Processing original_spectra.mgf\n",
      "INFO:root:Processing nl_spectra.mgf\n"
     ]
    },
    {
     "name": "stdout",
     "output_type": "stream",
     "text": [
      "(18269, 9)\n",
      "(18269, 9)\n"
     ]
    }
   ],
   "source": [
    "    # tolerance in ppm between experimental signal and node mz\n",
    "mz_ppm_tolerance = 5\n",
    "peak_height_min = 1e4\n",
    "num_datapoints_min = 10\n",
    "# minimum MSMS score \n",
    "msms_score_min = 0.5\n",
    "\n",
    "# minimum MSMS matching ion count\n",
    "msms_matches_min = 3\n",
    "\n",
    "# retention time range in minutes for feature finding\n",
    "rt_range = [1, 700]\n",
    "\n",
    "# tolerance in daltons used for calculating MS/MS similarity scores\n",
    "frag_mz_tolerance = 0.05\n",
    "# collect and merge required data and metadata\n",
    "node_data = at.graph_to_df()\n",
    "node_atlas = at.make_node_atlas(node_data, rt_range)\n",
    "merged_node_data = at.merge_spectral_data(node_data)\n",
    "\n",
    "params = {'mz_ppm_tolerance':mz_ppm_tolerance,\n",
    "        'peak_height_min':peak_height_min,\n",
    "        'num_datapoints_min':num_datapoints_min,\n",
    "        'msms_score_min':msms_score_min,\n",
    "        'msms_matches_min':msms_matches_min,\n",
    "        'rt_range':rt_range,\n",
    "        'frag_mz_tolerance':frag_mz_tolerance}"
   ]
  },
  {
   "cell_type": "code",
   "execution_count": 16,
   "metadata": {},
   "outputs": [
    {
     "data": {
      "text/plain": [
       "<module 'analysis_tools' from '/global/u2/b/bpb/repos/envnet/envnet/use/analysis_tools.py'>"
      ]
     },
     "execution_count": 16,
     "metadata": {},
     "output_type": "execute_result"
    }
   ],
   "source": [
    "from importlib import reload\n",
    "reload(at)"
   ]
  },
  {
   "cell_type": "code",
   "execution_count": 18,
   "metadata": {},
   "outputs": [
    {
     "data": {
      "text/html": [
       "<div>\n",
       "<style scoped>\n",
       "    .dataframe tbody tr th:only-of-type {\n",
       "        vertical-align: middle;\n",
       "    }\n",
       "\n",
       "    .dataframe tbody tr th {\n",
       "        vertical-align: top;\n",
       "    }\n",
       "\n",
       "    .dataframe thead th {\n",
       "        text-align: right;\n",
       "    }\n",
       "</style>\n",
       "<table border=\"1\" class=\"dataframe\">\n",
       "  <thead>\n",
       "    <tr style=\"text-align: right;\">\n",
       "      <th></th>\n",
       "      <th>filename</th>\n",
       "      <th>experiment</th>\n",
       "      <th>sampletype</th>\n",
       "    </tr>\n",
       "  </thead>\n",
       "  <tbody>\n",
       "    <tr>\n",
       "      <th>0</th>\n",
       "      <td>/global/cfs/cdirs/metatlas/raw_data/egsb/20240...</td>\n",
       "      <td>pDeCo10_20240501</td>\n",
       "      <td>enz-Lac-NA-NA-Quer2mM</td>\n",
       "    </tr>\n",
       "    <tr>\n",
       "      <th>1</th>\n",
       "      <td>/global/cfs/cdirs/metatlas/raw_data/egsb/20240...</td>\n",
       "      <td>pDeCo10_20240501</td>\n",
       "      <td>pellet-NA-Brev25uL-NA-NA</td>\n",
       "    </tr>\n",
       "    <tr>\n",
       "      <th>2</th>\n",
       "      <td>/global/cfs/cdirs/metatlas/raw_data/egsb/20240...</td>\n",
       "      <td>pDeCo10_20240501</td>\n",
       "      <td>enz-Lac-Brev125uL-CA1mM-Quer1mM</td>\n",
       "    </tr>\n",
       "    <tr>\n",
       "      <th>3</th>\n",
       "      <td>/global/cfs/cdirs/metatlas/raw_data/egsb/20240...</td>\n",
       "      <td>pDeCo10_20240501</td>\n",
       "      <td>enz-Lac-Brev125uL-CA1mM-Quer1mM</td>\n",
       "    </tr>\n",
       "    <tr>\n",
       "      <th>4</th>\n",
       "      <td>/global/cfs/cdirs/metatlas/raw_data/egsb/20240...</td>\n",
       "      <td>pDeCo10_20240501</td>\n",
       "      <td>enz-Lac-Brev25uL-NA-NA</td>\n",
       "    </tr>\n",
       "    <tr>\n",
       "      <th>5</th>\n",
       "      <td>/global/cfs/cdirs/metatlas/raw_data/egsb/20240...</td>\n",
       "      <td>pDeCo10_20240501</td>\n",
       "      <td>pellet-NA-Brev125uL-NA-NA</td>\n",
       "    </tr>\n",
       "    <tr>\n",
       "      <th>6</th>\n",
       "      <td>/global/cfs/cdirs/metatlas/raw_data/egsb/20240...</td>\n",
       "      <td>pDeCo10_20240501</td>\n",
       "      <td>enz-Lac-Brev25uL-CA1mM-Quer1mM</td>\n",
       "    </tr>\n",
       "    <tr>\n",
       "      <th>7</th>\n",
       "      <td>/global/cfs/cdirs/metatlas/raw_data/egsb/20240...</td>\n",
       "      <td>pDeCo10_20240501</td>\n",
       "      <td>RS-Lac-NA-NA-NA</td>\n",
       "    </tr>\n",
       "    <tr>\n",
       "      <th>8</th>\n",
       "      <td>/global/cfs/cdirs/metatlas/raw_data/egsb/20240...</td>\n",
       "      <td>pDeCo10_20240501</td>\n",
       "      <td>enz-Lac-NA-CA2mM-NA</td>\n",
       "    </tr>\n",
       "    <tr>\n",
       "      <th>9</th>\n",
       "      <td>/global/cfs/cdirs/metatlas/raw_data/egsb/20240...</td>\n",
       "      <td>pDeCo10_20240501</td>\n",
       "      <td>enz-Lac-NA-CA1mM-Quer1mM</td>\n",
       "    </tr>\n",
       "    <tr>\n",
       "      <th>10</th>\n",
       "      <td>/global/cfs/cdirs/metatlas/raw_data/egsb/20240...</td>\n",
       "      <td>pDeCo10_20240501</td>\n",
       "      <td>RS-NA-NA-CA1mM-Quer1mM</td>\n",
       "    </tr>\n",
       "    <tr>\n",
       "      <th>11</th>\n",
       "      <td>/global/cfs/cdirs/metatlas/raw_data/egsb/20240...</td>\n",
       "      <td>pDeCo10_20240501</td>\n",
       "      <td>enz-Lac-Brev125uL-NA-NA</td>\n",
       "    </tr>\n",
       "  </tbody>\n",
       "</table>\n",
       "</div>"
      ],
      "text/plain": [
       "                                             filename        experiment  \\\n",
       "0   /global/cfs/cdirs/metatlas/raw_data/egsb/20240...  pDeCo10_20240501   \n",
       "1   /global/cfs/cdirs/metatlas/raw_data/egsb/20240...  pDeCo10_20240501   \n",
       "2   /global/cfs/cdirs/metatlas/raw_data/egsb/20240...  pDeCo10_20240501   \n",
       "3   /global/cfs/cdirs/metatlas/raw_data/egsb/20240...  pDeCo10_20240501   \n",
       "4   /global/cfs/cdirs/metatlas/raw_data/egsb/20240...  pDeCo10_20240501   \n",
       "5   /global/cfs/cdirs/metatlas/raw_data/egsb/20240...  pDeCo10_20240501   \n",
       "6   /global/cfs/cdirs/metatlas/raw_data/egsb/20240...  pDeCo10_20240501   \n",
       "7   /global/cfs/cdirs/metatlas/raw_data/egsb/20240...  pDeCo10_20240501   \n",
       "8   /global/cfs/cdirs/metatlas/raw_data/egsb/20240...  pDeCo10_20240501   \n",
       "9   /global/cfs/cdirs/metatlas/raw_data/egsb/20240...  pDeCo10_20240501   \n",
       "10  /global/cfs/cdirs/metatlas/raw_data/egsb/20240...  pDeCo10_20240501   \n",
       "11  /global/cfs/cdirs/metatlas/raw_data/egsb/20240...  pDeCo10_20240501   \n",
       "\n",
       "                         sampletype  \n",
       "0             enz-Lac-NA-NA-Quer2mM  \n",
       "1          pellet-NA-Brev25uL-NA-NA  \n",
       "2   enz-Lac-Brev125uL-CA1mM-Quer1mM  \n",
       "3   enz-Lac-Brev125uL-CA1mM-Quer1mM  \n",
       "4            enz-Lac-Brev25uL-NA-NA  \n",
       "5         pellet-NA-Brev125uL-NA-NA  \n",
       "6    enz-Lac-Brev25uL-CA1mM-Quer1mM  \n",
       "7                   RS-Lac-NA-NA-NA  \n",
       "8               enz-Lac-NA-CA2mM-NA  \n",
       "9          enz-Lac-NA-CA1mM-Quer1mM  \n",
       "10           RS-NA-NA-CA1mM-Quer1mM  \n",
       "11          enz-Lac-Brev125uL-NA-NA  "
      ]
     },
     "execution_count": 18,
     "metadata": {},
     "output_type": "execute_result"
    }
   ],
   "source": [
    "files_data = at.get_files_df(exp_dir,parse_filename=True)\n",
    "files_data"
   ]
  },
  {
   "cell_type": "code",
   "execution_count": 19,
   "metadata": {},
   "outputs": [
    {
     "data": {
      "application/vnd.jupyter.widget-view+json": {
       "model_id": "5e65df1a58614b8ea5fa069a4c41acb5",
       "version_major": 2,
       "version_minor": 0
      },
      "text/plain": [
       "  0%|          | 0/2 [00:00<?, ?file/s]"
      ]
     },
     "metadata": {},
     "output_type": "display_data"
    },
    {
     "data": {
      "application/vnd.jupyter.widget-view+json": {
       "model_id": "8c42576652d043838a44eee5b192c08b",
       "version_major": 2,
       "version_minor": 0
      },
      "text/plain": [
       "  0%|          | 0/2 [00:00<?, ?file/s]"
      ]
     },
     "metadata": {},
     "output_type": "display_data"
    },
    {
     "data": {
      "application/vnd.jupyter.widget-view+json": {
       "model_id": "2033cd50cdab4c8f8f188c968aca7940",
       "version_major": 2,
       "version_minor": 0
      },
      "text/plain": [
       "  0%|          | 0/2 [00:00<?, ?file/s]"
      ]
     },
     "metadata": {},
     "output_type": "display_data"
    },
    {
     "data": {
      "application/vnd.jupyter.widget-view+json": {
       "model_id": "3895f869baa045ef816d88fdab03e50f",
       "version_major": 2,
       "version_minor": 0
      },
      "text/plain": [
       "  0%|          | 0/2 [00:00<?, ?file/s]"
      ]
     },
     "metadata": {},
     "output_type": "display_data"
    },
    {
     "data": {
      "application/vnd.jupyter.widget-view+json": {
       "model_id": "6d84cb01f32e49f8a60c069e2dc82c4d",
       "version_major": 2,
       "version_minor": 0
      },
      "text/plain": [
       "  0%|          | 0/2 [00:00<?, ?file/s]"
      ]
     },
     "metadata": {},
     "output_type": "display_data"
    },
    {
     "data": {
      "application/vnd.jupyter.widget-view+json": {
       "model_id": "995b7dd584944fa1aea365dcee2f5f59",
       "version_major": 2,
       "version_minor": 0
      },
      "text/plain": [
       "  0%|          | 0/2 [00:00<?, ?file/s]"
      ]
     },
     "metadata": {},
     "output_type": "display_data"
    },
    {
     "data": {
      "application/vnd.jupyter.widget-view+json": {
       "model_id": "d3e351ad3b9243ddaceace65aa17a5ad",
       "version_major": 2,
       "version_minor": 0
      },
      "text/plain": [
       "  0%|          | 0/2 [00:00<?, ?file/s]"
      ]
     },
     "metadata": {},
     "output_type": "display_data"
    },
    {
     "data": {
      "application/vnd.jupyter.widget-view+json": {
       "model_id": "c652dfd622ce4d4890b62dcb9b8b7519",
       "version_major": 2,
       "version_minor": 0
      },
      "text/plain": [
       "  0%|          | 0/2 [00:00<?, ?file/s]"
      ]
     },
     "metadata": {},
     "output_type": "display_data"
    },
    {
     "data": {
      "application/vnd.jupyter.widget-view+json": {
       "model_id": "44053aec22764e48bcc51b1a850d83b1",
       "version_major": 2,
       "version_minor": 0
      },
      "text/plain": [
       "  0%|          | 0/2 [00:00<?, ?file/s]"
      ]
     },
     "metadata": {},
     "output_type": "display_data"
    },
    {
     "data": {
      "application/vnd.jupyter.widget-view+json": {
       "model_id": "dd6f93bb97cb4561adeba439b1920bc3",
       "version_major": 2,
       "version_minor": 0
      },
      "text/plain": [
       "  0%|          | 0/2 [00:00<?, ?file/s]"
      ]
     },
     "metadata": {},
     "output_type": "display_data"
    },
    {
     "data": {
      "application/vnd.jupyter.widget-view+json": {
       "model_id": "41262af96f444da3bbcc8d19f5d05cee",
       "version_major": 2,
       "version_minor": 0
      },
      "text/plain": [
       "  0%|          | 0/2 [00:00<?, ?file/s]"
      ]
     },
     "metadata": {},
     "output_type": "display_data"
    },
    {
     "data": {
      "application/vnd.jupyter.widget-view+json": {
       "model_id": "01375fea70fa496b934aab937174c517",
       "version_major": 2,
       "version_minor": 0
      },
      "text/plain": [
       "  0%|          | 0/2 [00:00<?, ?file/s]"
      ]
     },
     "metadata": {},
     "output_type": "display_data"
    },
    {
     "data": {
      "application/vnd.jupyter.widget-view+json": {
       "model_id": "d4db5fed4f2a43e9a1493be3f609107d",
       "version_major": 2,
       "version_minor": 0
      },
      "text/plain": [
       "  0%|          | 0/2 [00:00<?, ?file/s]"
      ]
     },
     "metadata": {},
     "output_type": "display_data"
    },
    {
     "data": {
      "application/vnd.jupyter.widget-view+json": {
       "model_id": "918748caa0d94e67aa78077b44756dec",
       "version_major": 2,
       "version_minor": 0
      },
      "text/plain": [
       "  0%|          | 0/2 [00:00<?, ?file/s]"
      ]
     },
     "metadata": {},
     "output_type": "display_data"
    },
    {
     "data": {
      "application/vnd.jupyter.widget-view+json": {
       "model_id": "1cf4182d33404b148d005d7312ae2aaf",
       "version_major": 2,
       "version_minor": 0
      },
      "text/plain": [
       "  0%|          | 0/2 [00:00<?, ?file/s]"
      ]
     },
     "metadata": {},
     "output_type": "display_data"
    },
    {
     "data": {
      "application/vnd.jupyter.widget-view+json": {
       "model_id": "36a2e3d9cc7f4fa593dac06d1f6a71d2",
       "version_major": 2,
       "version_minor": 0
      },
      "text/plain": [
       "  0%|          | 0/2 [00:00<?, ?file/s]"
      ]
     },
     "metadata": {},
     "output_type": "display_data"
    },
    {
     "data": {
      "application/vnd.jupyter.widget-view+json": {
       "model_id": "77c205ee42574894888b2aa8b7210935",
       "version_major": 2,
       "version_minor": 0
      },
      "text/plain": [
       "  0%|          | 0/3 [00:00<?, ?file/s]"
      ]
     },
     "metadata": {},
     "output_type": "display_data"
    },
    {
     "data": {
      "application/vnd.jupyter.widget-view+json": {
       "model_id": "2b0e571f543243ff9e98e259bc292dba",
       "version_major": 2,
       "version_minor": 0
      },
      "text/plain": [
       "  0%|          | 0/3 [00:00<?, ?file/s]"
      ]
     },
     "metadata": {},
     "output_type": "display_data"
    },
    {
     "data": {
      "application/vnd.jupyter.widget-view+json": {
       "model_id": "62d5b6148b5c42bd92aa4df9246da551",
       "version_major": 2,
       "version_minor": 0
      },
      "text/plain": [
       "  0%|          | 0/3 [00:00<?, ?file/s]"
      ]
     },
     "metadata": {},
     "output_type": "display_data"
    },
    {
     "data": {
      "application/vnd.jupyter.widget-view+json": {
       "model_id": "809537845dac467c9fe156df4cbda338",
       "version_major": 2,
       "version_minor": 0
      },
      "text/plain": [
       "  0%|          | 0/3 [00:00<?, ?file/s]"
      ]
     },
     "metadata": {},
     "output_type": "display_data"
    },
    {
     "data": {
      "application/vnd.jupyter.widget-view+json": {
       "model_id": "820a553f64f841f5b7bc7d4c6788dbc5",
       "version_major": 2,
       "version_minor": 0
      },
      "text/plain": [
       "  0%|          | 0/3 [00:00<?, ?file/s]"
      ]
     },
     "metadata": {},
     "output_type": "display_data"
    },
    {
     "data": {
      "application/vnd.jupyter.widget-view+json": {
       "model_id": "56ee675c24b74f6ba954f8c0c03d0c17",
       "version_major": 2,
       "version_minor": 0
      },
      "text/plain": [
       "  0%|          | 0/3 [00:00<?, ?file/s]"
      ]
     },
     "metadata": {},
     "output_type": "display_data"
    }
   ],
   "source": [
    "# comparison_file = 'wavestab3_comparisons.txt'\n",
    "# comparison_file = 'SynDAC5 comparisons.txt' \n",
    "# comparison_file = 'WAVESTAB comparisons.txt'\n",
    "comparison_file = 'SynDac10 Comparisons.txt'\n",
    "with open(comparison_file) as f:\n",
    "    comparisons = f.read()\n",
    "comparisons = comparisons.split('\\n\\n')\n",
    "for row in comparisons:\n",
    "    exec(row)\n",
    "    # combine all parameters into a single dictionary and export to a file\n",
    "    mod_params = params.copy()\n",
    "    mod_params['exp_dir'] = exp_dir\n",
    "    mod_params['my_groups'] = my_groups\n",
    "    mod_params['output_filename'] = output_filename\n",
    "\n",
    "    with open(output_filename.replace('.csv','.params'),'w') as f:\n",
    "        for key in mod_params.keys():\n",
    "            f.write(\"%s: %s\\n\"%(key,mod_params[key]))\n",
    "\n",
    "    files_data = at.get_files_df(exp_dir,parse_filename=True,groups=my_groups)\n",
    "    files = files_data['filename'].tolist()\n",
    "    # get ms1 and ms2 data\n",
    "    ms1_data = at.get_sample_ms1_data(node_atlas, files, mz_ppm_tolerance,peak_height_min,num_datapoints_min)\n",
    "    max_ms1_data = at.get_best_ms1_rawdata(ms1_data,node_data)\n",
    "    ms2_data = at.get_sample_ms2_data(files,merged_node_data,msms_score_min,msms_matches_min,mz_ppm_tolerance,frag_mz_tolerance)\n",
    "    ms2_data = pd.concat(ms2_data)\n",
    "    max_ms2_data = at.get_best_ms2_rawdata(ms2_data)\n",
    "    best_hits = at.get_best_ms1_ms2_combined(max_ms1_data,max_ms2_data)\n",
    "\n",
    "    stats_df = at.do_basic_stats(ms1_data,files_data,my_groups)\n",
    "    output_df = at.make_output_df(node_data,best_hits,stats_df,filename=output_filename)\n"
   ]
  },
  {
   "cell_type": "code",
   "execution_count": 20,
   "metadata": {},
   "outputs": [],
   "source": [
    "# get all the files that are \"OUTPUT*.csv\" and zip them up\n",
    "files = glob.glob('OUTPUT*.csv')\n",
    "import zipfile\n",
    "with zipfile.ZipFile('output_files.zip','w') as z:\n",
    "    for file in files:\n",
    "        z.write(file)\n",
    "        z.write(file.replace('.csv','.params'))\n",
    "        # os.remove(file)"
   ]
  },
  {
   "cell_type": "markdown",
   "metadata": {},
   "source": []
  },
  {
   "cell_type": "code",
   "execution_count": null,
   "metadata": {},
   "outputs": [],
   "source": [
    "import networkx as nx \n",
    "G = nx.read_graphml('/global/cfs/cdirs/metatlas/projects/carbon_network/CarbonNetwork.graphml')\n",
    "\n",
    "# get the first node id\n",
    "node_id = list(G.nodes())[0]\n",
    "\n",
    "# get the names of all node attributes\n",
    "node_attributes = list(G.nodes[node_id].keys())\n",
    "node_attributes\n"
   ]
  },
  {
   "cell_type": "code",
   "execution_count": null,
   "metadata": {},
   "outputs": [],
   "source": [
    "df = pd.read_csv('OUTPUT_yezhang-exudates-syncom_Exud-Bd30-1-Syn-vs-Exud-Bd30-1-NoBact.csv')\n",
    "cols = ['num_datapoints',\n",
    "       'peak_area', 'peak_height', 'mz_centroid', 'rt_peak',\n",
    "       'lcmsrun_observed', 'precursor_mz_best_hit', 'ppm_error', 'ms2_node_id',\n",
    "       'ms2_score', 'ms2_matches', 'ms2_best_match_method',\n",
    "       'ms2_lcmsrun_observed', 'mean-control', 'mean-treatment',\n",
    "       'median-control', 'median-treatment', 'standard_error-control',\n",
    "       'standard_error-treatment', 'std_dev-control', 'std_dev-treatment',\n",
    "       'p_value', 't_score', 'log2_foldchange']\n",
    "df['node_id'] = df['node_id'].astype(str)\n",
    "df.set_index('node_id',inplace=True,drop=True)\n",
    "df.head()\n",
    "G = nx.read_graphml('/global/cfs/cdirs/metatlas/projects/carbon_network/CarbonNetwork.graphml')\n",
    "g = df[cols].to_dict(orient='index')\n",
    "\n",
    "nx.set_node_attributes(G, g)\n",
    "nx.write_graphml(G,'carbon_network_withmetatlas_hits-brachy-syncom-yezhang.graphml')"
   ]
  }
 ],
 "metadata": {
  "kernelspec": {
   "display_name": "Python 3",
   "language": "python",
   "name": "python3"
  },
  "language_info": {
   "codemirror_mode": {
    "name": "ipython",
    "version": 3
   },
   "file_extension": ".py",
   "mimetype": "text/x-python",
   "name": "python",
   "nbconvert_exporter": "python",
   "pygments_lexer": "ipython3",
   "version": "3.8.18"
  }
 },
 "nbformat": 4,
 "nbformat_minor": 2
}
