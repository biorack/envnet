{
 "cells": [
  {
   "cell_type": "markdown",
   "id": "9df259c2-d63a-4db4-88ae-8a0fc0390eb5",
   "metadata": {},
   "source": [
    "# Example Notebook For Associating Experimental Signals With The Carbon Network\n",
    "Prior to running this notebook, the CarbonNetwork graphml file must be present in the build folder"
   ]
  },
  {
   "cell_type": "code",
   "execution_count": 1,
   "id": "ed90f120-02d3-4d73-b797-fb04f141d8a4",
   "metadata": {
    "tags": []
   },
   "outputs": [
    {
     "name": "stderr",
     "output_type": "stream",
     "text": [
      "INFO:rdkit:Enabling RDKit 2023.09.1 jupyter extensions\n"
     ]
    }
   ],
   "source": [
    "import pandas as pd\n",
    "import numpy as np\n",
    "import glob as glob\n",
    "import matplotlib.pyplot as plt\n",
    "import networkx as nx\n",
    "import os\n",
    "import glob\n",
    "\n",
    "from typing import List, Tuple\n",
    "\n",
    "from tqdm.notebook import tqdm\n",
    "\n",
    "# replace with submodules\n",
    "# import sys\n",
    "# sys.path.insert(0,'/global/homes/b/bpb/repos/metatlas')\n",
    "# from metatlas.io import feature_tools as ft\n",
    "# sys.path.insert(0,'/global/homes/b/bpb/repos/blink')\n",
    "# import blink\n",
    "\n",
    "import analysis_tools as at"
   ]
  },
  {
   "cell_type": "code",
   "execution_count": 2,
   "id": "ee52eb21-0041-468a-bcc2-9d8bd7c4b5e1",
   "metadata": {
    "tags": []
   },
   "outputs": [],
   "source": [
    "\n",
    "# tolerance in ppm between experimental signal and node mz\n",
    "mz_ppm_tolerance = 5\n",
    "peak_height_min = 1e4\n",
    "num_datapoints_min = 10\n",
    "# minimum MSMS score \n",
    "msms_score_min = 0.5\n",
    "\n",
    "# minimum MSMS matching ion count\n",
    "msms_matches_min = 3\n",
    "\n",
    "# retention time range in minutes for feature finding\n",
    "rt_range = [1, 700]\n",
    "\n",
    "# tolerance in daltons used for calculating MS/MS similarity scores\n",
    "frag_mz_tolerance = 0.05"
   ]
  },
  {
   "cell_type": "code",
   "execution_count": 72,
   "id": "5e44d300-6133-41f7-a144-d3b24c4d6f14",
   "metadata": {
    "tags": []
   },
   "outputs": [],
   "source": [
    "from importlib import reload\n",
    "at = reload(at)"
   ]
  },
  {
   "cell_type": "code",
   "execution_count": 151,
   "id": "015a19f5",
   "metadata": {},
   "outputs": [
    {
     "data": {
      "text/html": [
       "<div>\n",
       "<style scoped>\n",
       "    .dataframe tbody tr th:only-of-type {\n",
       "        vertical-align: middle;\n",
       "    }\n",
       "\n",
       "    .dataframe tbody tr th {\n",
       "        vertical-align: top;\n",
       "    }\n",
       "\n",
       "    .dataframe thead th {\n",
       "        text-align: right;\n",
       "    }\n",
       "</style>\n",
       "<table border=\"1\" class=\"dataframe\">\n",
       "  <thead>\n",
       "    <tr style=\"text-align: right;\">\n",
       "      <th></th>\n",
       "      <th>parquet</th>\n",
       "      <th>h5</th>\n",
       "      <th>environmental_subclass</th>\n",
       "      <th>name</th>\n",
       "      <th>id</th>\n",
       "      <th>basename</th>\n",
       "    </tr>\n",
       "  </thead>\n",
       "  <tbody>\n",
       "    <tr>\n",
       "      <th>0</th>\n",
       "      <td>/global/cfs/cdirs/metatlas/projects/carbon_net...</td>\n",
       "      <td>/global/cfs/cdirs/metatlas/projects/carbon_net...</td>\n",
       "      <td>ENVO:00005800</td>\n",
       "      <td>desert sand</td>\n",
       "      <td>ENVO:00005800</td>\n",
       "      <td>20230403_EB_BGS_107002-011_BIODESERT_Metagenom...</td>\n",
       "    </tr>\n",
       "    <tr>\n",
       "      <th>1</th>\n",
       "      <td>/global/cfs/cdirs/metatlas/projects/carbon_net...</td>\n",
       "      <td>/global/cfs/cdirs/metatlas/projects/carbon_net...</td>\n",
       "      <td>ENVO:00005800</td>\n",
       "      <td>desert sand</td>\n",
       "      <td>ENVO:00005800</td>\n",
       "      <td>20230403_EB_BGS_107002-011_BIODESERT_Metagenom...</td>\n",
       "    </tr>\n",
       "    <tr>\n",
       "      <th>2</th>\n",
       "      <td>/global/cfs/cdirs/metatlas/projects/carbon_net...</td>\n",
       "      <td>/global/cfs/cdirs/metatlas/projects/carbon_net...</td>\n",
       "      <td>ENVO:00005800</td>\n",
       "      <td>desert sand</td>\n",
       "      <td>ENVO:00005800</td>\n",
       "      <td>20230403_EB_BGS_107002-011_BIODESERT_Metagenom...</td>\n",
       "    </tr>\n",
       "    <tr>\n",
       "      <th>3</th>\n",
       "      <td>/global/cfs/cdirs/metatlas/projects/carbon_net...</td>\n",
       "      <td>/global/cfs/cdirs/metatlas/projects/carbon_net...</td>\n",
       "      <td>ENVO:00005800</td>\n",
       "      <td>desert sand</td>\n",
       "      <td>ENVO:00005800</td>\n",
       "      <td>20230403_EB_BGS_107002-011_BIODESERT_Metagenom...</td>\n",
       "    </tr>\n",
       "    <tr>\n",
       "      <th>4</th>\n",
       "      <td>/global/cfs/cdirs/metatlas/projects/carbon_net...</td>\n",
       "      <td>/global/cfs/cdirs/metatlas/projects/carbon_net...</td>\n",
       "      <td>ENVO:00005800</td>\n",
       "      <td>desert sand</td>\n",
       "      <td>ENVO:00005800</td>\n",
       "      <td>20230403_EB_BGS_107002-011_BIODESERT_Metagenom...</td>\n",
       "    </tr>\n",
       "    <tr>\n",
       "      <th>...</th>\n",
       "      <td>...</td>\n",
       "      <td>...</td>\n",
       "      <td>...</td>\n",
       "      <td>...</td>\n",
       "      <td>...</td>\n",
       "      <td>...</td>\n",
       "    </tr>\n",
       "    <tr>\n",
       "      <th>1547</th>\n",
       "      <td>/global/cfs/cdirs/metatlas/projects/carbon_net...</td>\n",
       "      <td>/global/cfs/cdirs/metatlas/projects/carbon_net...</td>\n",
       "      <td>ENVO:00005778</td>\n",
       "      <td>tropical soil</td>\n",
       "      <td>ENVO:00005778</td>\n",
       "      <td>20210920_JGI-AK-TH_NB_504882_SoilWetDry_final_...</td>\n",
       "    </tr>\n",
       "    <tr>\n",
       "      <th>1548</th>\n",
       "      <td>/global/cfs/cdirs/metatlas/projects/carbon_net...</td>\n",
       "      <td>/global/cfs/cdirs/metatlas/projects/carbon_net...</td>\n",
       "      <td>ENVO:00005778</td>\n",
       "      <td>tropical soil</td>\n",
       "      <td>ENVO:00005778</td>\n",
       "      <td>20210920_JGI-AK-TH_NB_504882_SoilWetDry_final_...</td>\n",
       "    </tr>\n",
       "    <tr>\n",
       "      <th>1549</th>\n",
       "      <td>/global/cfs/cdirs/metatlas/projects/carbon_net...</td>\n",
       "      <td>/global/cfs/cdirs/metatlas/projects/carbon_net...</td>\n",
       "      <td>ENVO:00005778</td>\n",
       "      <td>tropical soil</td>\n",
       "      <td>ENVO:00005778</td>\n",
       "      <td>20210920_JGI-AK-TH_NB_504882_SoilWetDry_final_...</td>\n",
       "    </tr>\n",
       "    <tr>\n",
       "      <th>1550</th>\n",
       "      <td>/global/cfs/cdirs/metatlas/projects/carbon_net...</td>\n",
       "      <td>/global/cfs/cdirs/metatlas/projects/carbon_net...</td>\n",
       "      <td>ENVO:00005778</td>\n",
       "      <td>tropical soil</td>\n",
       "      <td>ENVO:00005778</td>\n",
       "      <td>20210920_JGI-AK-TH_NB_504882_SoilWetDry_final_...</td>\n",
       "    </tr>\n",
       "    <tr>\n",
       "      <th>1551</th>\n",
       "      <td>/global/cfs/cdirs/metatlas/projects/carbon_net...</td>\n",
       "      <td>/global/cfs/cdirs/metatlas/projects/carbon_net...</td>\n",
       "      <td>ENVO:00005778</td>\n",
       "      <td>tropical soil</td>\n",
       "      <td>ENVO:00005778</td>\n",
       "      <td>20210920_JGI-AK-TH_NB_504882_SoilWetDry_final_...</td>\n",
       "    </tr>\n",
       "  </tbody>\n",
       "</table>\n",
       "<p>1506 rows × 6 columns</p>\n",
       "</div>"
      ],
      "text/plain": [
       "                                                parquet  \\\n",
       "0     /global/cfs/cdirs/metatlas/projects/carbon_net...   \n",
       "1     /global/cfs/cdirs/metatlas/projects/carbon_net...   \n",
       "2     /global/cfs/cdirs/metatlas/projects/carbon_net...   \n",
       "3     /global/cfs/cdirs/metatlas/projects/carbon_net...   \n",
       "4     /global/cfs/cdirs/metatlas/projects/carbon_net...   \n",
       "...                                                 ...   \n",
       "1547  /global/cfs/cdirs/metatlas/projects/carbon_net...   \n",
       "1548  /global/cfs/cdirs/metatlas/projects/carbon_net...   \n",
       "1549  /global/cfs/cdirs/metatlas/projects/carbon_net...   \n",
       "1550  /global/cfs/cdirs/metatlas/projects/carbon_net...   \n",
       "1551  /global/cfs/cdirs/metatlas/projects/carbon_net...   \n",
       "\n",
       "                                                     h5  \\\n",
       "0     /global/cfs/cdirs/metatlas/projects/carbon_net...   \n",
       "1     /global/cfs/cdirs/metatlas/projects/carbon_net...   \n",
       "2     /global/cfs/cdirs/metatlas/projects/carbon_net...   \n",
       "3     /global/cfs/cdirs/metatlas/projects/carbon_net...   \n",
       "4     /global/cfs/cdirs/metatlas/projects/carbon_net...   \n",
       "...                                                 ...   \n",
       "1547  /global/cfs/cdirs/metatlas/projects/carbon_net...   \n",
       "1548  /global/cfs/cdirs/metatlas/projects/carbon_net...   \n",
       "1549  /global/cfs/cdirs/metatlas/projects/carbon_net...   \n",
       "1550  /global/cfs/cdirs/metatlas/projects/carbon_net...   \n",
       "1551  /global/cfs/cdirs/metatlas/projects/carbon_net...   \n",
       "\n",
       "     environmental_subclass           name             id  \\\n",
       "0             ENVO:00005800    desert sand  ENVO:00005800   \n",
       "1             ENVO:00005800    desert sand  ENVO:00005800   \n",
       "2             ENVO:00005800    desert sand  ENVO:00005800   \n",
       "3             ENVO:00005800    desert sand  ENVO:00005800   \n",
       "4             ENVO:00005800    desert sand  ENVO:00005800   \n",
       "...                     ...            ...            ...   \n",
       "1547          ENVO:00005778  tropical soil  ENVO:00005778   \n",
       "1548          ENVO:00005778  tropical soil  ENVO:00005778   \n",
       "1549          ENVO:00005778  tropical soil  ENVO:00005778   \n",
       "1550          ENVO:00005778  tropical soil  ENVO:00005778   \n",
       "1551          ENVO:00005778  tropical soil  ENVO:00005778   \n",
       "\n",
       "                                               basename  \n",
       "0     20230403_EB_BGS_107002-011_BIODESERT_Metagenom...  \n",
       "1     20230403_EB_BGS_107002-011_BIODESERT_Metagenom...  \n",
       "2     20230403_EB_BGS_107002-011_BIODESERT_Metagenom...  \n",
       "3     20230403_EB_BGS_107002-011_BIODESERT_Metagenom...  \n",
       "4     20230403_EB_BGS_107002-011_BIODESERT_Metagenom...  \n",
       "...                                                 ...  \n",
       "1547  20210920_JGI-AK-TH_NB_504882_SoilWetDry_final_...  \n",
       "1548  20210920_JGI-AK-TH_NB_504882_SoilWetDry_final_...  \n",
       "1549  20210920_JGI-AK-TH_NB_504882_SoilWetDry_final_...  \n",
       "1550  20210920_JGI-AK-TH_NB_504882_SoilWetDry_final_...  \n",
       "1551  20210920_JGI-AK-TH_NB_504882_SoilWetDry_final_...  \n",
       "\n",
       "[1506 rows x 6 columns]"
      ]
     },
     "execution_count": 151,
     "metadata": {},
     "output_type": "execute_result"
    }
   ],
   "source": [
    "from metatlas.untargeted.tools import get_google_sheet\n",
    "file_df = get_google_sheet(notebook_name='Supplementary Tables',sheet_name='environmental')\n",
    "if not 'h5' in file_df.columns:\n",
    "    file_df['h5'] = file_df['parquet'].str.replace('.parquet','.h5')\n",
    "cols = ['parquet','h5','environmental_subclass']\n",
    "file_df = file_df[cols]\n",
    "envo_name = get_google_sheet(notebook_name='Supplementary Tables',sheet_name='unique_environment_groups')\n",
    "file_df = pd.merge(file_df,envo_name[['name','id']],left_on='environmental_subclass',right_on='id',how='inner')\n",
    "file_df = file_df[~file_df['h5'].str.contains('Frtlzr')]\n",
    "file_df['basename'] = file_df['h5'].apply(os.path.basename)\n",
    "file_df"
   ]
  },
  {
   "cell_type": "code",
   "execution_count": 6,
   "id": "b95466be",
   "metadata": {},
   "outputs": [],
   "source": [
    "# df = pd.read_csv('/global/cfs/cdirs/metatlas/projects/carbon_network/public_and_internal_files_with_massive_and_redu.tsv', sep='\\t')\n",
    "# df = df[df['SampleType']=='plant']\n",
    "# df = df[~df['buddy'].str.contains('qc',case=False)]\n",
    "# df = df[~df['buddy'].str.contains('blank',case=False)]\n",
    "# out_dir = '/global/cfs/cdirs/metatlas/projects/carbon_network/raw_data'\n",
    "# temp_files = df['h5'].tolist()\n",
    "# files = []\n",
    "# for f in temp_files:\n",
    "#     base_dir = os.path.dirname(f)\n",
    "#     base_name = os.path.basename(f)\n",
    "#     new_dir = os.path.join(out_dir,base_dir)\n",
    "#     new_name = os.path.join(new_dir,base_name)\n",
    "#     files.append(new_name)\n",
    "#     if not os.path.isfile(new_name):\n",
    "#         print('File Not Found!')\n",
    "#         print(new_name)\n",
    "#         print(f)\n",
    "# files_data = pd.DataFrame(files,columns=['filename'])\n",
    "# files = files_data['filename'].tolist()\n"
   ]
  },
  {
   "cell_type": "code",
   "execution_count": 4,
   "id": "535bc471-721c-491a-9664-e8ed1f752593",
   "metadata": {
    "tags": []
   },
   "outputs": [
    {
     "name": "stderr",
     "output_type": "stream",
     "text": [
      "INFO:root:Processing envnet_original_spectra.mgf\n",
      "INFO:root:Processing envnet_mdm_spectra.mgf\n"
     ]
    },
    {
     "name": "stdout",
     "output_type": "stream",
     "text": [
      "(14273, 9)\n",
      "(14273, 9)\n"
     ]
    }
   ],
   "source": [
    "# collect and merge required data and metadata\n",
    "node_data = at.graph_to_df()\n",
    "node_atlas = at.make_node_atlas(node_data, rt_range)\n",
    "merged_node_data = at.merge_spectral_data(node_data)\n",
    "# files_data = at.get_files_df(exp_dir)\n",
    "# files = files_data['filename'].tolist()"
   ]
  },
  {
   "cell_type": "code",
   "execution_count": 14,
   "id": "ba8190e9-7497-4e0c-bc24-f2cf336ec2cf",
   "metadata": {
    "tags": []
   },
   "outputs": [
    {
     "data": {
      "application/vnd.jupyter.widget-view+json": {
       "model_id": "ddda2dedd39c433e84805905c2886f8a",
       "version_major": 2,
       "version_minor": 0
      },
      "text/plain": [
       "  0%|          | 0/1506 [00:00<?, ?file/s]"
      ]
     },
     "metadata": {},
     "output_type": "display_data"
    },
    {
     "data": {
      "application/vnd.jupyter.widget-view+json": {
       "model_id": "2fe989aab37048ba855556b18b51447e",
       "version_major": 2,
       "version_minor": 0
      },
      "text/plain": [
       "  0%|          | 0/1506 [00:00<?, ?file/s]"
      ]
     },
     "metadata": {},
     "output_type": "display_data"
    }
   ],
   "source": [
    "# get ms1 and ms2 data\n",
    "files = file_df['h5'].tolist()\n",
    "ms1_data = at.get_sample_ms1_data(node_atlas, files, mz_ppm_tolerance,peak_height_min,num_datapoints_min)\n",
    "max_ms1_data = at.get_best_ms1_rawdata(ms1_data,node_data)\n",
    "ms1_data.to_csv('../../data/Environments_ms1_data_0p1.csv')\n",
    "\n",
    "\n",
    "\n",
    "files = file_df['parquet'].tolist()\n",
    "ms2_data = at.get_sample_ms2_data(files,merged_node_data,msms_score_min,msms_matches_min,mz_ppm_tolerance,frag_mz_tolerance)\n",
    "ms2_data = pd.concat([d for d in ms2_data if d is not None])\n",
    "ms2_data.to_csv('../../data/Environments_ms2_data_0p1.csv')\n",
    "\n"
   ]
  },
  {
   "cell_type": "code",
   "execution_count": 158,
   "id": "1677f3f2",
   "metadata": {},
   "outputs": [],
   "source": [
    "all_files = !find /global/cfs/cdirs/metatlas/raw_data/ -name \"*.h5\"\n",
    "all_files = pd.DataFrame(all_files, columns=['full_filename'])\n",
    "all_files['basename'] = all_files['full_filename'].apply(os.path.basename)\n",
    "all_files['experiment'] = all_files['full_filename'].apply(lambda x: x.split('/')[-2])\n",
    "\n",
    "\n",
    "\n",
    "unique_experiments = all_files[all_files['basename'].isin(file_df['basename'].unique())]['experiment'].unique()\n",
    "all_files = all_files[all_files.experiment.isin(unique_experiments)]\n",
    "all_files = all_files[all_files['basename'].str.contains('exctrl',case=False)]\n",
    "all_files = all_files[all_files['basename'].str.contains('_NEG_',case=True)]\n",
    "\n",
    "all_files.reset_index(drop=True,inplace=True)\n",
    "all_files.to_csv('../../data/ExtractionControlFiles_ForMetatlasEnvironments.csv')"
   ]
  },
  {
   "cell_type": "code",
   "execution_count": 159,
   "id": "6d399a8b",
   "metadata": {},
   "outputs": [
    {
     "data": {
      "text/plain": [
       "(48, 3)"
      ]
     },
     "execution_count": 159,
     "metadata": {},
     "output_type": "execute_result"
    }
   ],
   "source": [
    "all_files.shape"
   ]
  },
  {
   "cell_type": "code",
   "execution_count": 22,
   "id": "65dc47a1",
   "metadata": {},
   "outputs": [
    {
     "data": {
      "application/vnd.jupyter.widget-view+json": {
       "model_id": "017ae08e055545b49b98c9f5d2b1022b",
       "version_major": 2,
       "version_minor": 0
      },
      "text/plain": [
       "  0%|          | 0/48 [00:00<?, ?file/s]"
      ]
     },
     "metadata": {},
     "output_type": "display_data"
    },
    {
     "name": "stdout",
     "output_type": "stream",
     "text": [
      "[Warning] Not index found and build_index_from_scratch is False\n",
      "[Warning] Not index found and build_index_from_scratch is False\n",
      "[Warning] Not index found and build_index_from_scratch is False\n",
      "[Warning] Not index found and build_index_from_scratch is False\n",
      "[Warning] Not index found and build_index_from_scratch is False\n",
      "[Warning] Not index found and build_index_from_scratch is False\n",
      "[Warning] Not index found and build_index_from_scratch is False\n",
      "[Warning] Not index found and build_index_from_scratch is False\n",
      "[Warning] Not index found and build_index_from_scratch is False\n",
      "[Warning] Not index found and build_index_from_scratch is False\n",
      "[Warning] Not index found and build_index_from_scratch is False\n",
      "[Warning] Not index found and build_index_from_scratch is False\n",
      "[Warning] Not index found and build_index_from_scratch is False\n",
      "[Warning] Not index found and build_index_from_scratch is False\n",
      "[Warning] Not index found and build_index_from_scratch is False\n",
      "[Warning] Not index found and build_index_from_scratch is False\n",
      "[Warning] Not index found and build_index_from_scratch is False\n",
      "[Warning] Not index found and build_index_from_scratch is False\n",
      "[Warning] Not index found and build_index_from_scratch is False\n",
      "[Warning] Not index found and build_index_from_scratch is False\n",
      "[Warning] Not index found and build_index_from_scratch is False\n",
      "[Warning] Not index found and build_index_from_scratch is False\n",
      "[Warning] Not index found and build_index_from_scratch is False\n",
      "[Warning] Not index found and build_index_from_scratch is False\n",
      "[Warning] Not index found and build_index_from_scratch is False\n",
      "[Warning] Not index found and build_index_from_scratch is False\n",
      "[Warning] Not index found and build_index_from_scratch is False\n",
      "[Warning] Not index found and build_index_from_scratch is False\n",
      "[Warning] Not index found and build_index_from_scratch is False\n",
      "[Warning] Not index found and build_index_from_scratch is False\n",
      "[Warning] Not index found and build_index_from_scratch is False\n",
      "[Warning] Not index found and build_index_from_scratch is False\n",
      "[Warning] Not index found and build_index_from_scratch is False\n",
      "[Warning] Not index found and build_index_from_scratch is False\n",
      "[Warning] Not index found and build_index_from_scratch is False\n",
      "[Warning] Not index found and build_index_from_scratch is False\n"
     ]
    },
    {
     "data": {
      "application/vnd.jupyter.widget-view+json": {
       "model_id": "9c9a74f7fb484864bfa335be0284262c",
       "version_major": 2,
       "version_minor": 0
      },
      "text/plain": [
       "  0%|          | 0/48 [00:00<?, ?file/s]"
      ]
     },
     "metadata": {},
     "output_type": "display_data"
    },
    {
     "name": "stdout",
     "output_type": "stream",
     "text": [
      "[Warning] Not index found and build_index_from_scratch is False\n",
      "[Warning] Not index found and build_index_from_scratch is False\n",
      "[Warning] Not index found and build_index_from_scratch is False\n",
      "[Warning] Not index found and build_index_from_scratch is False\n",
      "[Warning] Not index found and build_index_from_scratch is False\n",
      "[Warning] Not index found and build_index_from_scratch is False\n",
      "[Warning] Not index found and build_index_from_scratch is False\n",
      "[Warning] Not index found and build_index_from_scratch is False\n",
      "[Warning] Not index found and build_index_from_scratch is False\n",
      "[Warning] Not index found and build_index_from_scratch is False\n",
      "[Warning] Not index found and build_index_from_scratch is False\n",
      "[Warning] Not index found and build_index_from_scratch is False\n",
      "[Warning] Not index found and build_index_from_scratch is False\n",
      "[Warning] Not index found and build_index_from_scratch is False\n",
      "[Warning] Not index found and build_index_from_scratch is False\n",
      "[Warning] Not index found and build_index_from_scratch is False\n",
      "[Warning] Not index found and build_index_from_scratch is False\n",
      "[Warning] Not index found and build_index_from_scratch is False\n",
      "[Warning] Not index found and build_index_from_scratch is False\n",
      "[Warning] Not index found and build_index_from_scratch is False\n",
      "[Warning] Not index found and build_index_from_scratch is False\n",
      "[Warning] Not index found and build_index_from_scratch is False\n",
      "[Warning] Not index found and build_index_from_scratch is False\n",
      "[Warning] Not index found and build_index_from_scratch is False\n",
      "[Warning] Not index found and build_index_from_scratch is False\n",
      "[Warning] Not index found and build_index_from_scratch is False\n",
      "[Warning] Not index found and build_index_from_scratch is False\n",
      "[Warning] Not index found and build_index_from_scratch is False\n",
      "[Warning] Not index found and build_index_from_scratch is False\n",
      "[Warning] Not index found and build_index_from_scratch is False\n",
      "[Warning] Not index found and build_index_from_scratch is False\n",
      "[Warning] Not index found and build_index_from_scratch is False\n",
      "[Warning] Not index found and build_index_from_scratch is False\n",
      "[Warning] Not index found and build_index_from_scratch is False\n",
      "[Warning] Not index found and build_index_from_scratch is False\n",
      "[Warning] Not index found and build_index_from_scratch is False\n",
      "[Warning] Not index found and build_index_from_scratch is False\n",
      "[Warning] Not index found and build_index_from_scratch is False\n",
      "[Warning] Not index found and build_index_from_scratch is False\n",
      "[Warning] Not index found and build_index_from_scratch is False\n",
      "[Warning] Not index found and build_index_from_scratch is False\n",
      "[Warning] Not index found and build_index_from_scratch is False\n",
      "[Warning] Not index found and build_index_from_scratch is False\n",
      "[Warning] Not index found and build_index_from_scratch is False\n",
      "[Warning] Not index found and build_index_from_scratch is False\n",
      "[Warning] Not index found and build_index_from_scratch is False\n",
      "[Warning] Not index found and build_index_from_scratch is False\n",
      "[Warning] Not index found and build_index_from_scratch is False\n",
      "[Warning] Not index found and build_index_from_scratch is False\n",
      "[Warning] Not index found and build_index_from_scratch is False\n",
      "[Warning] Not index found and build_index_from_scratch is False\n",
      "[Warning] Not index found and build_index_from_scratch is False\n",
      "[Warning] Not index found and build_index_from_scratch is False\n",
      "[Warning] Not index found and build_index_from_scratch is False\n",
      "[Warning] Not index found and build_index_from_scratch is False\n",
      "[Warning] Not index found and build_index_from_scratch is False\n",
      "[Warning] Not index found and build_index_from_scratch is False\n",
      "[Warning] Not index found and build_index_from_scratch is False\n",
      "[Warning] Not index found and build_index_from_scratch is False\n",
      "[Warning] Not index found and build_index_from_scratch is False\n",
      "[Warning] Not index found and build_index_from_scratch is False\n",
      "[Warning] Not index found and build_index_from_scratch is False\n",
      "[Warning] Not index found and build_index_from_scratch is False\n",
      "[Warning] Not index found and build_index_from_scratch is False\n",
      "[Warning] Not index found and build_index_from_scratch is False\n",
      "[Warning] Not index found and build_index_from_scratch is False\n",
      "[Warning] Not index found and build_index_from_scratch is False\n",
      "[Warning] Not index found and build_index_from_scratch is False\n",
      "[Warning] Not index found and build_index_from_scratch is False\n",
      "[Warning] Not index found and build_index_from_scratch is False\n",
      "[Warning] Not index found and build_index_from_scratch is False\n",
      "[Warning] Not index found and build_index_from_scratch is False\n"
     ]
    }
   ],
   "source": [
    "# get ms1 and ms2 data\n",
    "files = all_files['full_filename'].tolist()\n",
    "files = [f.replace('.h5','.mzML') for f in files]\n",
    "ms1_data = at.get_sample_ms1_data(node_atlas, files, mz_ppm_tolerance,peak_height_min,num_datapoints_min)\n",
    "max_ms1_data = at.get_best_ms1_rawdata(ms1_data,node_data)\n",
    "ms1_data.to_csv('../../data/EnvironmentBackground_ms1_data_0p1.csv')\n",
    "\n",
    "\n",
    "\n",
    "ms2_data = at.get_sample_ms2_data(files,merged_node_data,msms_score_min,msms_matches_min,mz_ppm_tolerance,frag_mz_tolerance)\n",
    "ms2_data = pd.concat([d for d in ms2_data if d is not None])\n",
    "ms2_data.to_csv('../../data/EnvironmentBackground_ms2_data_0p1.csv')\n",
    "\n"
   ]
  },
  {
   "cell_type": "code",
   "execution_count": 160,
   "id": "2d8d34d7",
   "metadata": {},
   "outputs": [],
   "source": [
    "files = !find /pscratch/sd/b/bpb/massive -name \"*.mzML\"\n",
    "#exract from ms1_data['lcmsrun_observed'] the string that matches the pattern 'MSV\\d+'\n",
    "massive_ids = ms1_data.drop_duplicates('lcmsrun_observed')['lcmsrun_observed'].str.extract('MSV(\\d+)').dropna().astype(int).drop_duplicates().values.flatten()\n"
   ]
  },
  {
   "cell_type": "code",
   "execution_count": 161,
   "id": "d2ce19ff",
   "metadata": {},
   "outputs": [
    {
     "data": {
      "text/plain": [
       "'/pscratch/sd/b/bpb/massive/v01/MSV000082048/peak/Plate_22/21_73.mzML'"
      ]
     },
     "execution_count": 161,
     "metadata": {},
     "output_type": "execute_result"
    }
   ],
   "source": [
    "files[0]"
   ]
  },
  {
   "cell_type": "code",
   "execution_count": 162,
   "id": "46b4c4bc",
   "metadata": {},
   "outputs": [],
   "source": [
    "\n",
    "# pad the integer to look like this MSV000085555\n",
    "# massive_ids = [str(i).zfill(10) for i in massive_ids]\n",
    "# prepend 'MSV' to the ids\n",
    "formatted_massive_ids = ['MSV%09d'%i for i in massive_ids]\n",
    "\n",
    "filtered_files = [f for f in files if any(m in f for m in formatted_massive_ids)]\n",
    "filtered_files = [f for f in filtered_files if 'blank' in f.lower()]\n",
    "filtered_files = [f for f in filtered_files if 'neg' in f.lower()]\n",
    "# filtered_files\n",
    "\n",
    "# ms1_data[ms1_data['lcmsrun_observed'].str.contains('MSV')].iloc[0]['lcmsrun_observed']"
   ]
  },
  {
   "cell_type": "code",
   "execution_count": 177,
   "id": "c839941e",
   "metadata": {},
   "outputs": [],
   "source": [
    "# for each file in filtered_files copy it to  /global/cfs/cdirs/metatlas/projects/carbon_network/raw_data/massive_blanks\n",
    "out_dir = '/global/cfs/cdirs/metatlas/projects/carbon_network/raw_data/massive_blanks'\n",
    "old_dir = '/pscratch/sd/b/bpb/massive'\n",
    "if not os.path.exists(out_dir):\n",
    "    os.makedirs(out_dir)\n",
    "massive_blank_files = []\n",
    "for f in filtered_files:\n",
    "    new_name = f.replace(old_dir,out_dir)\n",
    "    new_dir = os.path.dirname(new_name)\n",
    "    massive_blank_files.append(new_name)\n",
    "    if not os.path.exists(new_dir):\n",
    "        os.makedirs(new_dir)\n",
    "    if not os.path.isfile(new_name):\n",
    "        print(f'Copying {f} to {new_name}')\n",
    "        !cp \"$f\" \"$new_name\"\n",
    "with open('../../data/massive_blank_files.txt','w') as f:\n",
    "    for item in massive_blank_files:\n",
    "        f.write(\"%s\\n\" % item)"
   ]
  },
  {
   "cell_type": "code",
   "execution_count": 75,
   "id": "a93021bb",
   "metadata": {},
   "outputs": [
    {
     "data": {
      "application/vnd.jupyter.widget-view+json": {
       "model_id": "baef4d82727c406cba33b1bdfbbf4f6b",
       "version_major": 2,
       "version_minor": 0
      },
      "text/plain": [
       "  0%|          | 0/942 [00:00<?, ?file/s]"
      ]
     },
     "metadata": {},
     "output_type": "display_data"
    },
    {
     "name": "stdout",
     "output_type": "stream",
     "text": [
      "[ Warning ] Found 3444 spectra and 0 chromatograms\n",
      "[ Warning ] However Spectrum index list shows 4194 and Chromatogram index list shows 1 entries\n",
      "[ Warning ] Updating offset dict with found offsets but some might be still missing\n",
      "[ Warning ] This may happen because your is file truncated\n",
      "Error in file: /pscratch/sd/b/bpb/massive/v01/MSV000087572/raw/mzML/NEG_MSMS_mzML/DOM_Interlab-LC-MS_Lab20_PPL-blank_Neg_MS2.mzML\n",
      "no element found: line 198679, column 0\n",
      "[ Warning ] Found 1379 spectra and 0 chromatograms\n",
      "[ Warning ] However Spectrum index list shows 1419 and Chromatogram index list shows 0 entries\n",
      "[ Warning ] Updating offset dict with found offsets but some might be still missing\n",
      "[ Warning ] This may happen because your is file truncated\n",
      "[Warning] Not index found and build_index_from_scratch is False\n",
      "[Warning] Not index found and build_index_from_scratch is False\n",
      "[Warning] Not index found and build_index_from_scratch is False\n",
      "[ Warning ] Found 1379 spectra and 0 chromatograms\n",
      "[ Warning ] However Spectrum index list shows 1419 and Chromatogram index list shows 0 entries\n",
      "[ Warning ] Updating offset dict with found offsets but some might be still missing\n",
      "[ Warning ] This may happen because your is file truncated\n",
      "[Warning] Not index found and build_index_from_scratch is False\n",
      "[Warning] Not index found and build_index_from_scratch is False\n",
      "[ Warning ] Found 1379 spectra and 0 chromatograms\n",
      "[ Warning ] However Spectrum index list shows 1419 and Chromatogram index list shows 0 entries\n",
      "[ Warning ] Updating offset dict with found offsets but some might be still missing\n",
      "[ Warning ] This may happen because your is file truncated\n",
      "[Warning] Not index found and build_index_from_scratch is False\n",
      "Error in file: /pscratch/sd/b/bpb/massive/v01/MSV000089061/ccms_peak/raw_neg/Blank_5.mzML\n",
      "cannot insert label, already exists\n",
      "Error in file: /pscratch/sd/b/bpb/massive/v05/MSV000091211/peak/MZml/NEG_Blank_4.mzML\n",
      "no element found: line 1, column 0\n",
      "Error in file: /pscratch/sd/b/bpb/massive/v05/MSV000091211/peak/MZml/NEG_Blank_start.mzML\n",
      "no element found: line 1, column 0\n",
      "Error in file: /pscratch/sd/b/bpb/massive/v05/MSV000091211/peak/MZml/NEG_Blank_3.mzML\n",
      "no element found: line 1, column 0\n",
      "Error in file: /pscratch/sd/b/bpb/massive/v05/MSV000091211/peak/MZml/NEG_Blank_2.mzML\n",
      "no element found: line 1, column 0\n",
      "[ Warning ] Found 1379 spectra and 0 chromatograms\n",
      "[ Warning ] However Spectrum index list shows 1419 and Chromatogram index list shows 0 entries\n",
      "[ Warning ] Updating offset dict with found offsets but some might be still missing\n",
      "[ Warning ] This may happen because your is file truncated\n",
      "[Warning] Not index found and build_index_from_scratch is False\n",
      "Error in file: /pscratch/sd/b/bpb/massive/v04/MSV000088823/updates/2022-02-16_bciap01_2e2457db/peak/Peaks/mzmL/MS1_Neg_mode/DOM_Interlab-LCMS_Lab023_PPLBlank_Neg_MS1_rep1.mzML\n",
      "no element found: line 1, column 0\n",
      "Error in file: /pscratch/sd/b/bpb/massive/v04/MSV000088823/updates/2022-02-16_bciap01_2e2457db/peak/Peaks/mzmL/MS1_Neg_mode/DOM_Interlab-LCMS_lab22_Blank_NEG_M1.mzML\n",
      "no element found: line 1, column 0\n",
      "Error in file: /pscratch/sd/b/bpb/massive/v04/MSV000088823/updates/2022-02-16_bciap01_2e2457db/peak/Peaks/mzmL/MS1_Neg_mode/DOM_Interlab-LCMS_Lab15_Blank_Neg_MS1_rep1.mzML\n",
      "no element found: line 1, column 0\n",
      "Error in file: /pscratch/sd/b/bpb/massive/v04/MSV000088823/updates/2022-02-16_bciap01_2e2457db/peak/Peaks/mzmL/MS1_Neg_mode/DOM_Interlab-LCMS_Lab15_Blank_Neg_MS1_rep4.mzML\n",
      "no element found: line 1, column 0\n",
      "Error in file: /pscratch/sd/b/bpb/massive/v04/MSV000088823/updates/2022-02-16_bciap01_2e2457db/peak/Peaks/mzmL/MS1_Neg_mode/DOM_Interlab-LCMS_Lab15_Blank_Neg_MS1_rep5.mzML\n",
      "no element found: line 1, column 0\n",
      "Error in file: /pscratch/sd/b/bpb/massive/v04/MSV000088823/updates/2022-02-16_bciap01_2e2457db/peak/Peaks/mzmL/MS1_Neg_mode/DOM_Interlab-LCMS_Lab15_Blank_Neg_MS1_rep2.mzML\n",
      "no element found: line 1, column 0\n",
      "Error in file: /pscratch/sd/b/bpb/massive/v04/MSV000088823/updates/2022-02-16_bciap01_2e2457db/peak/Peaks/mzmL/MS1_Neg_mode/DOM_Interlab-LCMS_Lab018_PPLBlank_Neg_MS1_rep1.mzML\n",
      "no element found: line 1, column 0\n",
      "[Warning] Not index found and build_index_from_scratch is False\n",
      "[ Warning ] Found 1379 spectra and 0 chromatograms\n",
      "[ Warning ] However Spectrum index list shows 1419 and Chromatogram index list shows 0 entries\n",
      "[ Warning ] Updating offset dict with found offsets but some might be still missing\n",
      "[ Warning ] This may happen because your is file truncated\n",
      "[Warning] Not index found and build_index_from_scratch is False\n",
      "[Warning] Not index found and build_index_from_scratch is False\n",
      "[ Warning ] Found 1379 spectra and 0 chromatograms\n",
      "[ Warning ] However Spectrum index list shows 1419 and Chromatogram index list shows 0 entries\n",
      "[ Warning ] Updating offset dict with found offsets but some might be still missing\n",
      "[ Warning ] This may happen because your is file truncated\n",
      "[Warning] Not index found and build_index_from_scratch is False\n",
      "Error in file: /pscratch/sd/b/bpb/massive/z01/MSV000089061/ccms_peak/raw_neg/Blank_5.mzML\n",
      "cannot insert label, already exists\n",
      "[ Warning ] Found 3444 spectra and 0 chromatograms\n",
      "[ Warning ] However Spectrum index list shows 4194 and Chromatogram index list shows 1 entries\n",
      "[ Warning ] Updating offset dict with found offsets but some might be still missing\n",
      "[ Warning ] This may happen because your is file truncated\n",
      "Error in file: /pscratch/sd/b/bpb/massive/v03/MSV000087572/raw/mzML/NEG_MSMS_mzML/DOM_Interlab-LC-MS_Lab20_PPL-blank_Neg_MS2.mzML\n",
      "no element found: line 198679, column 0\n"
     ]
    }
   ],
   "source": [
    "# get ms1 and ms2 data\n",
    "\n",
    "ms1_data = at.get_sample_ms1_data(node_atlas, filtered_files, mz_ppm_tolerance,peak_height_min,num_datapoints_min)\n",
    "ms1_data.to_csv('../../data/EnvironmentBackground_MASSIVE_ms1_data_0p1.csv')"
   ]
  },
  {
   "cell_type": "code",
   "execution_count": 97,
   "id": "0035257a",
   "metadata": {},
   "outputs": [
    {
     "name": "stdout",
     "output_type": "stream",
     "text": [
      "975\n",
      "378\n"
     ]
    }
   ],
   "source": [
    "ms1_data = pd.read_csv('../../data/Environments_ms1_data_0p1.csv')\n",
    "ms1_exctrl = []\n",
    "files = ['../../data/EnvironmentBackground_ms1_data_0p1.csv','../../data/EnvironmentBackground_MASSIVE_ms1_data_0p1.csv']\n",
    "for f in files:\n",
    "    ms1_exctrl.append(pd.read_csv(f))\n",
    "ms1_exctrl = pd.concat(ms1_exctrl)\n",
    "print(ms1_exctrl['lcmsrun_observed'].nunique())\n",
    "# find duplicate control files\n",
    "d_control = ms1_exctrl.pivot_table(columns='node_id',index=['lcmsrun_observed'],values='peak_area',aggfunc='mean',fill_value=0)\n",
    "s = d_control.sum(axis=1)\n",
    "s.sort_values(ascending=False,inplace=True)\n",
    "good_files = s.drop_duplicates().index.to_list()\n",
    "ms1_exctrl = ms1_exctrl[ms1_exctrl['lcmsrun_observed'].isin(good_files)]\n",
    "print(ms1_exctrl['lcmsrun_observed'].nunique())"
   ]
  },
  {
   "cell_type": "code",
   "execution_count": 98,
   "id": "c5b2d513",
   "metadata": {},
   "outputs": [],
   "source": [
    "# normalize the peak_area values by the max peak_area for each lcmsrun_observed\n",
    "# normalize the data\n",
    "d_sample = ms1_data.pivot_table(columns='node_id',index=['lcmsrun_observed'],values='peak_area',aggfunc='mean',fill_value=0)\n",
    "# m = d_sample.min(axis=1)\n",
    "# d_sample = d_sample.sub(m, axis=0)\n",
    "# m = d_sample.max(axis=1)\n",
    "# d_sample = d_sample.div(m, axis=0)\n",
    "# d_sample.fillna(0,inplace=True)\n",
    "d_control = ms1_exctrl.pivot_table(columns='node_id',index=['lcmsrun_observed'],values='peak_area',aggfunc='mean',fill_value=0)\n",
    "# m = d_control.min(axis=1)\n",
    "# d_control = d_control.sub(m, axis=0)\n",
    "# m = d_control.max(axis=1)\n",
    "# d_control = d_control.div(m, axis=0)\n",
    "# d_control.fillna(0,inplace=True)\n",
    "d = pd.concat([d_sample,d_control])\n",
    "d.fillna(0,inplace=True)\n"
   ]
  },
  {
   "cell_type": "code",
   "execution_count": 99,
   "id": "20524010",
   "metadata": {},
   "outputs": [
    {
     "data": {
      "text/plain": [
       "node_id\n",
       "2.0         True\n",
       "3.0        False\n",
       "8.0         True\n",
       "9.0         True\n",
       "10.0        True\n",
       "           ...  \n",
       "16084.0     True\n",
       "16085.0     True\n",
       "16086.0     True\n",
       "16087.0     True\n",
       "12531.0    False\n",
       "Length: 14272, dtype: bool"
      ]
     },
     "execution_count": 99,
     "metadata": {},
     "output_type": "execute_result"
    }
   ],
   "source": [
    "# for each column, get the top 10 lcmsrun_observed\n",
    "top = 3\n",
    "top_lcms = d.apply(lambda x: x.nlargest(top).index.isin(d_sample.index).all())\n",
    "# top_lcms.reset_index(inplace=True)\n",
    "# top_lcms = top_lcms.melt(id_vars='node_id',value_name='lcmsrun_observed')\n",
    "top_lcms"
   ]
  },
  {
   "cell_type": "code",
   "execution_count": 105,
   "id": "08f511a4",
   "metadata": {},
   "outputs": [
    {
     "data": {
      "text/plain": [
       "0.9311238789237668"
      ]
     },
     "execution_count": 105,
     "metadata": {},
     "output_type": "execute_result"
    }
   ],
   "source": [
    "sum(top_lcms) / len(top_lcms)"
   ]
  },
  {
   "cell_type": "code",
   "execution_count": 116,
   "id": "441a156e",
   "metadata": {},
   "outputs": [
    {
     "data": {
      "text/plain": [
       "<matplotlib.legend.Legend at 0x7f69bd792fa0>"
      ]
     },
     "execution_count": 116,
     "metadata": {},
     "output_type": "execute_result"
    },
    {
     "data": {
      "image/png": "[encoded data removed]",
      "text/plain": [
       "<Figure size 640x480 with 1 Axes>"
      ]
     },
     "metadata": {},
     "output_type": "display_data"
    }
   ],
   "source": [
    "fig,ax = plt.subplots()\n",
    "n = 160\n",
    "edges = np.logspace(4,8,100)\n",
    "d_sample[n].plot(kind='hist',bins=edges,ax=ax,label='sample',alpha=0.5,density=True)\n",
    "d_control[n].plot(kind='hist',bins=edges,ax=ax,label='control',alpha=0.5,density=True)\n",
    "ax.set_yscale('log')\n",
    "ax.set_xscale('log')\n",
    "ax.legend()"
   ]
  },
  {
   "cell_type": "code",
   "execution_count": 106,
   "id": "f5b482ad",
   "metadata": {},
   "outputs": [],
   "source": [
    "# # perform a non-parametric test to determine if the peak areas are significantly different between the two groups\n",
    "# from scipy.stats import mannwhitneyu\n",
    "# p_values = []\n",
    "# cols = d_sample.columns\n",
    "# for col in cols:\n",
    "#     if col in d_control.columns:    \n",
    "#         p = mannwhitneyu(d_control[col],d_sample[col]).pvalue\n",
    "#         if p > 0.05:\n",
    "#             p_values.append(col)\n",
    "    "
   ]
  },
  {
   "cell_type": "code",
   "execution_count": 178,
   "id": "4a698416",
   "metadata": {},
   "outputs": [],
   "source": [
    "import os\n",
    "from IPython import get_ipython\n",
    "from pathlib import Path\n",
    "\n",
    "def get_notebook_dir():\n",
    "    ipython = get_ipython()\n",
    "    if ipython:\n",
    "        notebook_dir = ipython.starting_dir\n",
    "        return notebook_dir\n",
    "    else:\n",
    "        return os.getcwd()\n",
    "\n",
    "module_path = os.path.join(Path(get_notebook_dir()).parents[1])\n",
    "\n",
    "\n",
    "G = nx.read_graphml(os.path.join(module_path, 'data/envnet.graphml'))\n",
    "\n",
    "# remove nodes where top_lcms is False\n",
    "top_lcms_keep = top_lcms[top_lcms].index.astype(str).to_list()\n",
    "\n",
    "nodes = [n for n in G.nodes() if n in top_lcms_keep]\n",
    "G = G.subgraph(nodes).copy()\n",
    "\n",
    "# remove nodes with no edges\n",
    "nodes = [n for n in G.nodes() if G.degree(n) > 0]\n",
    "G = G.subgraph(nodes).copy()\n",
    "\n",
    "# remove nodes in subgraphs with less than 100 nodes\n",
    "subgraphs = list(nx.connected_components(G))\n",
    "subgraphs = [G.subgraph(s) for s in subgraphs]\n",
    "subgraphs = [s for s in subgraphs if len(s) > 100]\n",
    "G = nx.compose_all(subgraphs)\n",
    "# write G to graphml\n",
    "nx.write_graphml(G,os.path.join(module_path, 'data/envnet.graphml'))\n",
    "\n",
    "\n"
   ]
  },
  {
   "cell_type": "code",
   "execution_count": 175,
   "id": "a0b39ba1",
   "metadata": {},
   "outputs": [],
   "source": [
    "\n",
    "# get the edge data from T and store it as a data from with \"source\" and \"target\" and \"weight\" attributes\n",
    "edge_data = nx.to_pandas_edgelist(G)\n",
    "edge_data['source'] = edge_data['source'].astype(float).astype(int)\n",
    "edge_data['target'] = edge_data['target'].astype(float).astype(int)\n",
    "edge_data = edge_data[['source','target']]\n",
    "edge_data.to_csv('../../data/edge_data.csv',index=None)\n",
    "\n",
    "# get the node data from T and store it as a data from with \"node\" and \"data\" attributes\n",
    "node_data = G.nodes(data=True)\n",
    "node_data = pd.DataFrame(node_data)\n",
    "node_data.columns = ['node','data']\n",
    "node_data['data'] = node_data['data'].apply(lambda x: dict(x))\n",
    "node_data = pd.concat([node_data.drop(['data'], axis=1), node_data['data'].apply(pd.Series)], axis=1)\n",
    "node_data.to_csv('../../data/node_data.csv',index=None)"
   ]
  },
  {
   "cell_type": "code",
   "execution_count": 134,
   "id": "bd1e7027",
   "metadata": {},
   "outputs": [
    {
     "data": {
      "text/plain": [
       "['inchi_key_ref_mdm_identity',\n",
       " 'inchi_key_ref_original_identity',\n",
       " 'inchi_key_identity']"
      ]
     },
     "execution_count": 134,
     "metadata": {},
     "output_type": "execute_result"
    }
   ],
   "source": []
  },
  {
   "cell_type": "code",
   "execution_count": 137,
   "id": "e16b9ec3",
   "metadata": {},
   "outputs": [
    {
     "data": {
      "text/plain": [
       "647"
      ]
     },
     "execution_count": 137,
     "metadata": {},
     "output_type": "execute_result"
    }
   ],
   "source": [
    "node_data['inchi_key_identity'].nunique()\n"
   ]
  }
 ],
 "metadata": {
  "kernelspec": {
   "display_name": "Python 3",
   "language": "python",
   "name": "python3"
  },
  "language_info": {
   "codemirror_mode": {
    "name": "ipython",
    "version": 3
   },
   "file_extension": ".py",
   "mimetype": "text/x-python",
   "name": "python",
   "nbconvert_exporter": "python",
   "pygments_lexer": "ipython3",
   "version": "3.8.18"
  }
 },
 "nbformat": 4,
 "nbformat_minor": 5
}
