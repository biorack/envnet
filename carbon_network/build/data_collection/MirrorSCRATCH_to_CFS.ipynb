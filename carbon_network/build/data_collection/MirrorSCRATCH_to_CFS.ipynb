{
 "cells": [
  {
   "cell_type": "code",
   "execution_count": null,
   "metadata": {},
   "outputs": [],
   "source": []
  },
  {
   "cell_type": "code",
   "execution_count": null,
   "metadata": {},
   "outputs": [],
   "source": [
    "# import shutil\n",
    "# out_dir = '/global/cfs/cdirs/metatlas/projects/carbon_network/raw_data'\n",
    "# for i,row in df.iterrows():\n",
    "#     f = row['no_extension']\n",
    "#     all_files = glob.glob('%s.*'%f)\n",
    "#     for file in all_files:\n",
    "#         # Define destination file path\n",
    "#         sub_dir = os.path.dirname(file)\n",
    "#         sub_dir = '%s%s'%(out_dir,sub_dir)\n",
    "#         dst_file = os.path.join(sub_dir, os.path.basename(file))\n",
    "#         if not os.path.isfile(dst_file):\n",
    "#             os.makedirs(sub_dir, exist_ok=True)\n",
    "#             # Copy the file\n",
    "#             shutil.copy2(file, dst_file)"
   ]
  },
  {
   "cell_type": "code",
   "execution_count": null,
   "metadata": {},
   "outputs": [],
   "source": [
    "# import subprocess\n",
    "\n",
    "# out_dir = '/global/cfs/cdirs/metatlas/projects/carbon_network/raw_data/'\n",
    "# command = ' '.join([\"find\", \"/global/cfs/cdirs/metatlas/projects/carbon_network/raw_data/\", \"-type\", \"f\", \"-name\", \"*.mzML\"])\n",
    "# result = subprocess.check_output(command, shell=True)\n",
    "\n",
    "# # Print the output\n",
    "# print(result)\n"
   ]
  }
 ],
 "metadata": {
  "language_info": {
   "name": "python"
  }
 },
 "nbformat": 4,
 "nbformat_minor": 2
}
