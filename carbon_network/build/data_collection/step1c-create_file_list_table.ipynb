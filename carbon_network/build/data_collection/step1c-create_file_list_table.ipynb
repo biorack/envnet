{
 "cells": [
  {
   "cell_type": "code",
   "execution_count": 1,
   "metadata": {},
   "outputs": [],
   "source": [
    "import pandas as pd\n",
    "import numpy as np\n",
    "import glob as glob\n",
    "import os\n",
    "\n",
    "import multiprocessing\n",
    "\n",
    "data_dirs = ['/pscratch/sd/b/bpb/massive',\n",
    "             '/global/cfs/cdirs/metatlas/projects/carbon_network/raw_data']\n",
    "              # '/global/cfs/cdirs/metatlas/projects/rawdata_for_scn']\n",
    "            #   '/global/cfs/cdirs/metatlas/projects/massive_data_for_scn']\n",
    "\n"
   ]
  },
  {
   "cell_type": "code",
   "execution_count": 2,
   "metadata": {},
   "outputs": [
    {
     "name": "stdout",
     "output_type": "stream",
     "text": [
      "/pscratch/sd/b/bpb/massive 1\n",
      "/global/cfs/cdirs/metatlas/projects/carbon_network/raw_data 2\n",
      "(33229, 6)\n",
      "(33229, 7)\n"
     ]
    }
   ],
   "source": [
    "\n",
    "def get_files(main_dir):\n",
    "    mzml_files = glob.glob(main_dir + '/**/*.mzML', recursive=True)\n",
    "    mzxml_files = glob.glob(main_dir + '/**/*.mzXML', recursive=True)\n",
    "    hdf5_files = glob.glob(main_dir + '/**/*.h5', recursive=True)\n",
    "    buddy_mdm_files = glob.glob(main_dir + '/**/*.parquet', recursive=True)\n",
    "    buddy_failed_mdm_files = glob.glob(main_dir + '/**/*.parquet-failed', recursive=True)\n",
    "\n",
    "    df_mzml = pd.DataFrame({'mzml': mzml_files})\n",
    "    df_mzml['no_extension'] = df_mzml['mzml'].apply(lambda x: x.replace('.mzML', ''))\n",
    "    df_mzml.set_index('no_extension', inplace=True)\n",
    "    df_mzxml = pd.DataFrame({'mzxml': mzxml_files})\n",
    "    df_mzxml['no_extension'] = df_mzxml['mzxml'].apply(lambda x: x.replace('.mzXML', ''))\n",
    "    df_mzxml.set_index('no_extension', inplace=True)\n",
    "    df_h5 = pd.DataFrame({'h5': hdf5_files})\n",
    "    df_h5['no_extension'] = df_h5['h5'].apply(lambda x: x.replace('.h5', ''))\n",
    "    df_h5.set_index('no_extension', inplace=True)\n",
    "    df_buddy = pd.DataFrame({'buddy': buddy_mdm_files})\n",
    "    df_buddy['no_extension'] = df_buddy['buddy'].apply(lambda x: x.replace('.parquet', ''))\n",
    "    df_buddy.set_index('no_extension', inplace=True)\n",
    "    df_buddy_failed = pd.DataFrame({'buddy_failed': buddy_failed_mdm_files})\n",
    "    df_buddy_failed['no_extension'] = df_buddy_failed['buddy_failed'].apply(lambda x: x.replace('.parquet-failed', ''))\n",
    "    df_buddy_failed.set_index('no_extension', inplace=True)\n",
    "\n",
    "    df = df_mzml.join(df_mzxml, how='outer').join(df_h5, how='outer').join(df_buddy, how='outer').join(df_buddy_failed, how='outer')\n",
    "    df['data_dir'] = main_dir\n",
    "    return df\n",
    "\n",
    "def get_files_from_dirs(data_dirs):\n",
    "    out = []\n",
    "    for data_dir in data_dirs:\n",
    "        out.append(get_files(data_dir))\n",
    "        print(data_dir,len(out))\n",
    "    if len(data_dirs)>1:\n",
    "        return pd.concat(out)\n",
    "    else:\n",
    "        return out[0]\n",
    "\n",
    "df = get_files_from_dirs(data_dirs)\n",
    "df = df[pd.notna(df['buddy'])]\n",
    "cols = ['h5','buddy','data_dir']\n",
    "df = df[cols]\n",
    "\n",
    "pattern = r'(?<=/)(MSV.*?)(?=/)'\n",
    "a = df.copy().index.str.extract(pattern)\n",
    "df['massive_id'] = a[0].tolist()\n",
    "df['h5_basename'] = df['h5'].apply(lambda x: os.path.basename(x))\n",
    "df['no_extension_basename'] = df['h5_basename'].apply(lambda x: x.replace('.h5',''))\n",
    "print(df.shape)\n",
    "df = df[pd.notna(df['buddy'])]\n",
    "df.reset_index(inplace=True,drop=False)\n",
    "print(df.shape)"
   ]
  },
  {
   "cell_type": "code",
   "execution_count": 3,
   "metadata": {},
   "outputs": [
    {
     "data": {
      "text/plain": [
       "(26534, 7)"
      ]
     },
     "execution_count": 3,
     "metadata": {},
     "output_type": "execute_result"
    }
   ],
   "source": [
    "df = df[~df['buddy'].str.contains('qc',case=False)]\n",
    "df = df[~df['buddy'].str.contains('blank',case=False)]\n",
    "df.shape"
   ]
  },
  {
   "cell_type": "code",
   "execution_count": 4,
   "metadata": {},
   "outputs": [],
   "source": [
    "\n",
    "# hits = pd.read_csv('../data/nl_spectra_gnps_fastsearch.csv.gz')\n",
    "# hits['filename'] = hits['USI'].apply(lambda x: x.split(':')[-3])\n",
    "# print(hits.shape[0])\n",
    "# idx = df['data_dir']=='/global/cfs/cdirs/metatlas/projects/massive_data_for_scn'\n",
    "# hits = hits[hits['filename'].isin(df.loc[idx,'no_extension_basename'])]\n",
    "# print(hits.shape[0])\n",
    "# hits = hits.groupby(['Dataset', 'filename'])['original_index'].nunique().reset_index()\n",
    "# hits.sort_values('original_index', ascending=False, inplace=True)\n",
    "# hits = hits[hits['original_index'] > 1]\n",
    "# hits.drop_duplicates(subset='filename', keep='first', inplace=True)\n",
    "# hits.rename(columns={'original_index':'num_hits_fasst'},inplace=True)\n",
    "# hits.reset_index(drop=True,inplace=True)\n",
    "# hits"
   ]
  },
  {
   "cell_type": "code",
   "execution_count": 5,
   "metadata": {},
   "outputs": [],
   "source": [
    "# idx = df['data_dir']=='/global/cfs/cdirs/metatlas/projects/massive_data_for_scn'\n",
    "# df.loc[idx,'massive_id'] = df.loc[idx,'no_extension_basename'].map(hits.set_index('filename')['Dataset'])\n"
   ]
  },
  {
   "cell_type": "code",
   "execution_count": 6,
   "metadata": {},
   "outputs": [
    {
     "data": {
      "text/plain": [
       "'f.MSV000079542/ccms_peak/Peak_List_Files/OMICS_IM102_691_1d_Lipid_2_005_NEG_150mm_10May15_Polaroid_14-12-16'"
      ]
     },
     "execution_count": 6,
     "metadata": {},
     "output_type": "execute_result"
    }
   ],
   "source": [
    "df['redu_filename'] = df['h5'].str.extract(r'(/MSV.*)')\n",
    "df['redu_filename'] = df['redu_filename'].str.replace(r'\\.h5$', '', regex=True)\n",
    "df['redu_filename'] = df['redu_filename'].str.replace(r'^/', 'f.', regex=True)\n",
    "\n",
    "df.loc[0,'redu_filename']"
   ]
  },
  {
   "cell_type": "code",
   "execution_count": 7,
   "metadata": {},
   "outputs": [
    {
     "data": {
      "text/plain": [
       "(26534, 14)"
      ]
     },
     "execution_count": 7,
     "metadata": {},
     "output_type": "execute_result"
    }
   ],
   "source": [
    "usecols = ['title','dataset','description','keywords','instrument']\n",
    "metadata = pd.read_csv('/global/cfs/cdirs/metatlas/projects/carbon_network/massive_metadata_2024.tsv', sep='\\t',usecols=usecols)\n",
    "metadata = metadata[metadata['dataset'].str.contains('MSV')]\n",
    "metadata = metadata[metadata['dataset'].isin(df['massive_id'])]\n",
    "df = pd.merge(df,metadata,left_on='massive_id',right_on='dataset',how='left')\n",
    "\n",
    "df['keywords'] = df['keywords'].apply(lambda x: x.split('###') if type(x)==str else [])\n",
    "df['keyword_DOM'] = df['keywords'].apply(lambda x: True if (('dom' in x) | ('organic matter' in x) | ('soil' in x)) else False)\n",
    "# metadata = metadata[metadata['proteins']==0]\n",
    "df.shape"
   ]
  },
  {
   "cell_type": "code",
   "execution_count": 8,
   "metadata": {},
   "outputs": [
    {
     "name": "stderr",
     "output_type": "stream",
     "text": [
      "/tmp/ipykernel_2039745/391537040.py:1: DtypeWarning: Columns (7,11,21,22,28,30,33) have mixed types. Specify dtype option on import or set low_memory=False.\n",
      "  redu = pd.read_csv('/global/cfs/cdirs/metatlas/projects/carbon_network/all_sampleinformation.tsv', sep='\\t')\n"
     ]
    },
    {
     "data": {
      "text/plain": [
       "(26534, 33)"
      ]
     },
     "execution_count": 8,
     "metadata": {},
     "output_type": "execute_result"
    }
   ],
   "source": [
    "redu = pd.read_csv('/global/cfs/cdirs/metatlas/projects/carbon_network/all_sampleinformation.tsv', sep='\\t')\n",
    "redu = redu[redu['ATTRIBUTE_DatasetAccession'].str.contains('MSV')]\n",
    "redu['filename'] = redu['filename'].str.replace(r'\\.mz(ML|XML)$', '', regex=True)\n",
    "# redu.loc[0,'filename']\n",
    "redu = redu[redu['filename'].isin(df['redu_filename'])]\n",
    "\n",
    "cols = list(set(list(redu.columns)) - set(['InternalStandardsUsed','SampleTypeSub1','UniqueSubjectID','HumanPopulationDensity',\n",
    "                                           'UBERONOntologyIndex','TermsofPosition','HealthStatus','ComorbidityListDOIDIndex','AgeInYears',\n",
    "                                           'SampleCollectionDateandTime','DOIDOntologyIndex','DOIDCommonName','SubjectIdentifierAsRecorded',\n",
    "                                           'LifeStage','BiologicalSex','UBERONBodyPartName','LatitudeandLongitude','Country','DepthorAltitudeMeters']))\n",
    "redu = redu[cols]\n",
    "\n",
    "df = pd.merge(df,redu,left_on='redu_filename',right_on='filename',how='left')\n",
    "df['in_redu_plant'] = df['SampleType']=='plant'\n",
    "\n",
    "df.shape"
   ]
  },
  {
   "cell_type": "code",
   "execution_count": 9,
   "metadata": {},
   "outputs": [
    {
     "data": {
      "text/plain": [
       "(26534, 34)"
      ]
     },
     "execution_count": 9,
     "metadata": {},
     "output_type": "execute_result"
    }
   ],
   "source": [
    "dom_samples = pd.read_csv('/global/homes/b/bpb/repos/scndb/data/dom_public_datasets.csv',usecols=['dataset'])\n",
    "dom_samples = pd.Series(dom_samples['dataset'].unique())\n",
    "# bad_massive = ['MSV000092338','MSV000093271','MSV000092599','MSV000093514','MSV000092622','MSV000092604','MSV000092520']\n",
    "# dom_samples = dom_samples[~dom_samples['massive_id'].isin(bad_massive)]\n",
    "\n",
    "# MSV000088823: GNPS DOM LC-MS/MS Interlab Comparison 2020 COMPILED Dataset\n",
    "# dom_samples = pd.concat([dom_samples,pd.Series(['MSV000088823'])],ignore_index=True)  # these are ones that came up in addition to Thomas's list\n",
    "df['in_massive_dom_list'] = df['massive_id'].isin(dom_samples)\n",
    "df.shape"
   ]
  },
  {
   "cell_type": "code",
   "execution_count": 10,
   "metadata": {},
   "outputs": [
    {
     "data": {
      "text/plain": [
       "(26534, 36)"
      ]
     },
     "execution_count": 10,
     "metadata": {},
     "output_type": "execute_result"
    }
   ],
   "source": [
    "\n",
    "\n",
    "def count_rows_and_unique_formulas(row):\n",
    "    # try:\n",
    "    row = row[-1]\n",
    "    parquet_file = row['buddy']\n",
    "    try:\n",
    "        df_parquet = pd.read_parquet(parquet_file)\n",
    "        num_rows = len(df_parquet)\n",
    "        num_unique_formulas = df_parquet['predicted_formula'].nunique()\n",
    "        return num_rows, num_unique_formulas\n",
    "    except:\n",
    "        print('Error',parquet_file)\n",
    "        return None, None\n",
    "\n",
    "def parallel_count_rows_and_unique_formulas(df):\n",
    "    pool = multiprocessing.Pool(20)\n",
    "    results = pool.map(count_rows_and_unique_formulas, df.iterrows())\n",
    "    pool.close()\n",
    "    pool.join()\n",
    "    return results\n",
    "\n",
    "# results = df.head(10).apply(count_rows_and_unique_formulas,axis=1)\n",
    "results = parallel_count_rows_and_unique_formulas(df)\n",
    "df[['num_unique_spectra', 'num_unique_formula']] = pd.DataFrame(results, columns=['num_unique_spectra', 'num_unique_formulas'])\n",
    "df.shape"
   ]
  },
  {
   "cell_type": "code",
   "execution_count": 11,
   "metadata": {},
   "outputs": [
    {
     "name": "stdout",
     "output_type": "stream",
     "text": [
      "274\n"
     ]
    },
    {
     "data": {
      "text/plain": [
       "(26534, 37)"
      ]
     },
     "execution_count": 11,
     "metadata": {},
     "output_type": "execute_result"
    }
   ],
   "source": [
    "# d = '/global/cfs/cdirs/metatlas/projects/rawdata_for_scn'\n",
    "idx = df['buddy'].str.contains('rawdata_for_scn')\n",
    "print(sum(idx))\n",
    "df.loc[idx,'massive_id'] = df.loc[idx,'no_extension_basename'].apply(lambda x: '_'.join(x.split('_')[4:6]))\n",
    "df_grouped = df.groupby('massive_id').size().reset_index(name='row_count')\n",
    "df = pd.merge(df, df_grouped, on='massive_id', how='left')\n",
    "df.shape"
   ]
  },
  {
   "cell_type": "code",
   "execution_count": 12,
   "metadata": {},
   "outputs": [],
   "source": [
    "import pandas as pd\n",
    "\n",
    "# Set the display width for pandas columns\n",
    "pd.set_option('display.max_colwidth', None)\n",
    "\n",
    "# Your code here\n",
    "# ...\n",
    "\n",
    "# Reset the display width to the default value (optional)\n",
    "# pd.reset_option('display.max_colwidth')\n"
   ]
  },
  {
   "cell_type": "code",
   "execution_count": 13,
   "metadata": {},
   "outputs": [
    {
     "data": {
      "text/plain": [
       "0"
      ]
     },
     "execution_count": 13,
     "metadata": {},
     "output_type": "execute_result"
    }
   ],
   "source": [
    "sum(pd.isna(df['buddy']))"
   ]
  },
  {
   "cell_type": "code",
   "execution_count": 14,
   "metadata": {},
   "outputs": [],
   "source": [
    "import hashlib\n",
    "import pandas as pd\n",
    "import multiprocessing\n",
    "\n",
    "def hash_dataframe_row(filename):\n",
    "    cols = ['precursor_mz', 'rt', 'coisolated_precursor_count', 'predicted_formula', 'estimated_fdr']\n",
    "    try:\n",
    "        t = pd.read_parquet(filename)\n",
    "        hash_value = int(hashlib.sha256(pd.util.hash_pandas_object(t[cols], index=True).values).hexdigest(), 16)\n",
    "        return hash_value\n",
    "    except:\n",
    "        print('Error',filename)\n",
    "        return None\n",
    "\n",
    "def parallel_hash_dataframe(files):\n",
    "    with multiprocessing.Pool(20) as pool:\n",
    "        results = pool.map(hash_dataframe_row, files)\n",
    "    return results\n",
    "\n",
    "hash_values = parallel_hash_dataframe(df['buddy'].tolist())\n",
    "df['hash_value'] = hash_values\n"
   ]
  },
  {
   "cell_type": "code",
   "execution_count": 15,
   "metadata": {},
   "outputs": [],
   "source": [
    "# print(df.shape)\n",
    "# df.drop_duplicates(subset=['massive_id','hash_value'],keep='first',inplace=True)\n",
    "# print(df.shape)"
   ]
  },
  {
   "cell_type": "code",
   "execution_count": 16,
   "metadata": {},
   "outputs": [
    {
     "name": "stdout",
     "output_type": "stream",
     "text": [
      "(13247, 38)\n"
     ]
    }
   ],
   "source": [
    "df.sort_values(['in_massive_dom_list','in_redu_plant','keyword_DOM','row_count'],ascending=False,inplace=True) # True is greater than False\n",
    "\n",
    "df.drop_duplicates(subset=['hash_value'],keep='first',inplace=True)\n",
    "print(df.shape)\n",
    "\n",
    "# df"
   ]
  },
  {
   "cell_type": "code",
   "execution_count": 17,
   "metadata": {},
   "outputs": [
    {
     "data": {
      "text/plain": [
       "Index(['no_extension', 'h5', 'buddy', 'data_dir', 'massive_id', 'h5_basename',\n",
       "       'no_extension_basename', 'redu_filename', 'title', 'dataset',\n",
       "       'description', 'instrument', 'keywords', 'keyword_DOM',\n",
       "       'YearOfAnalysis', 'USI', 'NCBIRank', 'ChromatographyAndPhase',\n",
       "       'NCBIDivision', 'ENVOEnvironmentMaterial',\n",
       "       'ENVOEnvironmentMaterialIndex', 'ENVOEnvironmentBiomeIndex',\n",
       "       'SampleType', 'ENVOEnvironmentBiome', 'SampleExtractionMethod',\n",
       "       'ATTRIBUTE_DatasetAccession', 'SampleCollectionMethod',\n",
       "       'MassSpectrometer', 'NCBITaxonomy', 'filename',\n",
       "       'IonizationSourceAndPolarity', 'DataSource', 'in_redu_plant',\n",
       "       'in_massive_dom_list', 'num_unique_spectra', 'num_unique_formula',\n",
       "       'row_count', 'hash_value'],\n",
       "      dtype='object')"
      ]
     },
     "execution_count": 17,
     "metadata": {},
     "output_type": "execute_result"
    }
   ],
   "source": [
    "df.columns"
   ]
  },
  {
   "cell_type": "code",
   "execution_count": null,
   "metadata": {},
   "outputs": [],
   "source": [
    "# cols = ['hash_value']\n",
    "# g = df.groupby(cols)['no_extension'].count().sort_values(ascending=False)\n",
    "# g = g.to_frame()\n",
    "# g.columns = ['duplicate_count']\n",
    "# g.reset_index(drop=False,inplace=True)\n",
    "# g = g[g['duplicate_count']>1]\n",
    "# cols2 = ['massive_id','row_count','in_massive_dom_list','data_dir'] + cols\n",
    "# g = pd.merge(df[cols2],g,on=cols,how='inner')\n",
    "# g.sort_values('duplicate_count',ascending=False,inplace=True)\n",
    "# print(g.shape)\n",
    "# g.drop_duplicates(subset=['massive_id','hash_value'],keep='first',inplace=True)\n",
    "# print(g.shape)\n",
    "# g.head(20)"
   ]
  },
  {
   "cell_type": "code",
   "execution_count": null,
   "metadata": {},
   "outputs": [],
   "source": [
    "\n",
    "\n",
    "# cols = ['massive_id','h5_basename','num_unique_spectra', 'num_unique_formula']\n",
    "# df.sort_values('num_unique_spectra',ascending=False,inplace=True)\n",
    "# df.drop_duplicates(subset=cols,keep='first',inplace=True)\n",
    "# df.reset_index(drop=True,inplace=True)\n",
    "# df"
   ]
  },
  {
   "cell_type": "code",
   "execution_count": null,
   "metadata": {},
   "outputs": [],
   "source": []
  },
  {
   "cell_type": "code",
   "execution_count": null,
   "metadata": {},
   "outputs": [],
   "source": []
  },
  {
   "cell_type": "code",
   "execution_count": null,
   "metadata": {},
   "outputs": [],
   "source": []
  },
  {
   "cell_type": "code",
   "execution_count": 18,
   "metadata": {},
   "outputs": [
    {
     "data": {
      "text/plain": [
       "(13247, 41)"
      ]
     },
     "execution_count": 18,
     "metadata": {},
     "output_type": "execute_result"
    }
   ],
   "source": [
    "import re\n",
    "from rdkit.Chem import rdchem\n",
    "from multiprocessing import Pool\n",
    "\n",
    "\n",
    "\n",
    "def calculate_mass(formula):\n",
    "    # Regular expression to match elements and their counts\n",
    "    pattern = r'([A-Z][a-z]*)(\\d*)'    \n",
    "    mass = 0\n",
    "    pt = rdchem.GetPeriodicTable()\n",
    "\n",
    "    for el, count in re.findall(pattern, formula):\n",
    "        # If count is an empty string, it means there's only one atom of this element\n",
    "        count = int(count) if count else 1\n",
    "        mass += pt.GetMostCommonIsotopeMass(el) * count\n",
    "    return mass\n",
    "\n",
    "def process_row(filename):\n",
    "    temp = pd.read_parquet(filename)\n",
    "    if temp.shape[0]>0:\n",
    "        temp['predicted_mass'] = temp['predicted_formula'].apply(lambda x: calculate_mass(x))\n",
    "        temp['predicted_mass'] = temp['predicted_mass'] - 1.007276\n",
    "        temp['mass_error'] = temp['precursor_mz'] - temp['predicted_mass']\n",
    "        count_good = temp[temp['mass_error'].abs() < 0.001].shape[0] #0.002 was the parameter used in the original code\n",
    "        fraction_good = count_good / temp.shape[0]\n",
    "    else:\n",
    "        count_good = 0\n",
    "        fraction_good = 0\n",
    "    return {'buddy':filename,'fraction_within_half_tolerance':fraction_good,'total_formula':temp.shape[0],'good_formula':count_good}\n",
    "\n",
    "with Pool(20) as pool:\n",
    "    out = pool.map(process_row, df['buddy'].tolist())\n",
    "out = pd.DataFrame(out)\n",
    "df = pd.merge(df,out,on='buddy',how='left')\n",
    "\n",
    "\n",
    "df.shape"
   ]
  },
  {
   "cell_type": "code",
   "execution_count": 19,
   "metadata": {},
   "outputs": [],
   "source": [
    "df = df[df['total_formula']>20]\n",
    "df = df[df['fraction_within_half_tolerance']>0.5]\n"
   ]
  },
  {
   "cell_type": "code",
   "execution_count": 20,
   "metadata": {},
   "outputs": [
    {
     "data": {
      "text/plain": [
       "(8634, 41)"
      ]
     },
     "execution_count": 20,
     "metadata": {},
     "output_type": "execute_result"
    }
   ],
   "source": [
    "\n",
    "df.shape"
   ]
  },
  {
   "cell_type": "code",
   "execution_count": null,
   "metadata": {},
   "outputs": [],
   "source": [
    "df['SampleType'].value_counts()"
   ]
  },
  {
   "cell_type": "code",
   "execution_count": 21,
   "metadata": {},
   "outputs": [
    {
     "data": {
      "text/html": [
       "<div>\n",
       "<style scoped>\n",
       "    .dataframe tbody tr th:only-of-type {\n",
       "        vertical-align: middle;\n",
       "    }\n",
       "\n",
       "    .dataframe tbody tr th {\n",
       "        vertical-align: top;\n",
       "    }\n",
       "\n",
       "    .dataframe thead th {\n",
       "        text-align: right;\n",
       "    }\n",
       "</style>\n",
       "<table border=\"1\" class=\"dataframe\">\n",
       "  <thead>\n",
       "    <tr style=\"text-align: right;\">\n",
       "      <th></th>\n",
       "      <th>no_extension</th>\n",
       "      <th>h5</th>\n",
       "      <th>buddy</th>\n",
       "      <th>data_dir</th>\n",
       "      <th>massive_id</th>\n",
       "      <th>h5_basename</th>\n",
       "      <th>no_extension_basename</th>\n",
       "      <th>redu_filename</th>\n",
       "      <th>title</th>\n",
       "      <th>dataset</th>\n",
       "      <th>...</th>\n",
       "      <th>DataSource</th>\n",
       "      <th>in_redu_plant</th>\n",
       "      <th>in_massive_dom_list</th>\n",
       "      <th>num_unique_spectra</th>\n",
       "      <th>num_unique_formula</th>\n",
       "      <th>row_count</th>\n",
       "      <th>hash_value</th>\n",
       "      <th>fraction_within_half_tolerance</th>\n",
       "      <th>total_formula</th>\n",
       "      <th>good_formula</th>\n",
       "    </tr>\n",
       "  </thead>\n",
       "  <tbody>\n",
       "    <tr>\n",
       "      <th>0</th>\n",
       "      <td>/pscratch/sd/b/bpb/massive/v01/MSV000088543/ccms_peak/raw_data/20181019_JJ_KZ_Switchgrass_Greenhouse_Rhizo1_QE119_Ag68377-924_USHXG01162_NEG_MSMS-v2_Rhizo-12C-C-Bot-T2-1-E216_IR002_352</td>\n",
       "      <td>/pscratch/sd/b/bpb/massive/v01/MSV000088543/ccms_peak/raw_data/20181019_JJ_KZ_Switchgrass_Greenhouse_Rhizo1_QE119_Ag68377-924_USHXG01162_NEG_MSMS-v2_Rhizo-12C-C-Bot-T2-1-E216_IR002_352.h5</td>\n",
       "      <td>/pscratch/sd/b/bpb/massive/v01/MSV000088543/ccms_peak/raw_data/20181019_JJ_KZ_Switchgrass_Greenhouse_Rhizo1_QE119_Ag68377-924_USHXG01162_NEG_MSMS-v2_Rhizo-12C-C-Bot-T2-1-E216_IR002_352.parquet</td>\n",
       "      <td>/pscratch/sd/b/bpb/massive</td>\n",
       "      <td>MSV000088543</td>\n",
       "      <td>20181019_JJ_KZ_Switchgrass_Greenhouse_Rhizo1_QE119_Ag68377-924_USHXG01162_NEG_MSMS-v2_Rhizo-12C-C-Bot-T2-1-E216_IR002_352.h5</td>\n",
       "      <td>20181019_JJ_KZ_Switchgrass_Greenhouse_Rhizo1_QE119_Ag68377-924_USHXG01162_NEG_MSMS-v2_Rhizo-12C-C-Bot-T2-1-E216_IR002_352</td>\n",
       "      <td>f.MSV000088543/ccms_peak/raw_data/20181019_JJ_KZ_Switchgrass_Greenhouse_Rhizo1_QE119_Ag68377-924_USHXG01162_NEG_MSMS-v2_Rhizo-12C-C-Bot-T2-1-E216_IR002_352</td>\n",
       "      <td>Exometabolomics of Switchgrass rhizosphere</td>\n",
       "      <td>MSV000088543</td>\n",
       "      <td>...</td>\n",
       "      <td>NaN</td>\n",
       "      <td>False</td>\n",
       "      <td>True</td>\n",
       "      <td>34</td>\n",
       "      <td>30</td>\n",
       "      <td>456</td>\n",
       "      <td>45430261681085743627944794508087828225761024817821271817688870204326127138120</td>\n",
       "      <td>1.000000</td>\n",
       "      <td>34</td>\n",
       "      <td>34</td>\n",
       "    </tr>\n",
       "    <tr>\n",
       "      <th>1</th>\n",
       "      <td>/pscratch/sd/b/bpb/massive/v01/MSV000088543/ccms_peak/raw_data/20181019_JJ_KZ_Switchgrass_Greenhouse_Rhizo1_QE119_Ag68377-924_USHXG01162_NEG_MSMS-v2_Rhizo-12C-C-Bot-T3-1-E226_IR002_021</td>\n",
       "      <td>/pscratch/sd/b/bpb/massive/v01/MSV000088543/ccms_peak/raw_data/20181019_JJ_KZ_Switchgrass_Greenhouse_Rhizo1_QE119_Ag68377-924_USHXG01162_NEG_MSMS-v2_Rhizo-12C-C-Bot-T3-1-E226_IR002_021.h5</td>\n",
       "      <td>/pscratch/sd/b/bpb/massive/v01/MSV000088543/ccms_peak/raw_data/20181019_JJ_KZ_Switchgrass_Greenhouse_Rhizo1_QE119_Ag68377-924_USHXG01162_NEG_MSMS-v2_Rhizo-12C-C-Bot-T3-1-E226_IR002_021.parquet</td>\n",
       "      <td>/pscratch/sd/b/bpb/massive</td>\n",
       "      <td>MSV000088543</td>\n",
       "      <td>20181019_JJ_KZ_Switchgrass_Greenhouse_Rhizo1_QE119_Ag68377-924_USHXG01162_NEG_MSMS-v2_Rhizo-12C-C-Bot-T3-1-E226_IR002_021.h5</td>\n",
       "      <td>20181019_JJ_KZ_Switchgrass_Greenhouse_Rhizo1_QE119_Ag68377-924_USHXG01162_NEG_MSMS-v2_Rhizo-12C-C-Bot-T3-1-E226_IR002_021</td>\n",
       "      <td>f.MSV000088543/ccms_peak/raw_data/20181019_JJ_KZ_Switchgrass_Greenhouse_Rhizo1_QE119_Ag68377-924_USHXG01162_NEG_MSMS-v2_Rhizo-12C-C-Bot-T3-1-E226_IR002_021</td>\n",
       "      <td>Exometabolomics of Switchgrass rhizosphere</td>\n",
       "      <td>MSV000088543</td>\n",
       "      <td>...</td>\n",
       "      <td>NaN</td>\n",
       "      <td>False</td>\n",
       "      <td>True</td>\n",
       "      <td>32</td>\n",
       "      <td>29</td>\n",
       "      <td>456</td>\n",
       "      <td>11466997312021510781671838716572440673198672003821569169593285051705087203843</td>\n",
       "      <td>1.000000</td>\n",
       "      <td>32</td>\n",
       "      <td>32</td>\n",
       "    </tr>\n",
       "    <tr>\n",
       "      <th>2</th>\n",
       "      <td>/pscratch/sd/b/bpb/massive/v01/MSV000088543/ccms_peak/raw_data/20181019_JJ_KZ_Switchgrass_Greenhouse_Rhizo1_QE119_Ag68377-924_USHXG01162_NEG_MSMS-v2_Rhizo-12C-C-Mid-T2-1-E159_IR002_030</td>\n",
       "      <td>/pscratch/sd/b/bpb/massive/v01/MSV000088543/ccms_peak/raw_data/20181019_JJ_KZ_Switchgrass_Greenhouse_Rhizo1_QE119_Ag68377-924_USHXG01162_NEG_MSMS-v2_Rhizo-12C-C-Mid-T2-1-E159_IR002_030.h5</td>\n",
       "      <td>/pscratch/sd/b/bpb/massive/v01/MSV000088543/ccms_peak/raw_data/20181019_JJ_KZ_Switchgrass_Greenhouse_Rhizo1_QE119_Ag68377-924_USHXG01162_NEG_MSMS-v2_Rhizo-12C-C-Mid-T2-1-E159_IR002_030.parquet</td>\n",
       "      <td>/pscratch/sd/b/bpb/massive</td>\n",
       "      <td>MSV000088543</td>\n",
       "      <td>20181019_JJ_KZ_Switchgrass_Greenhouse_Rhizo1_QE119_Ag68377-924_USHXG01162_NEG_MSMS-v2_Rhizo-12C-C-Mid-T2-1-E159_IR002_030.h5</td>\n",
       "      <td>20181019_JJ_KZ_Switchgrass_Greenhouse_Rhizo1_QE119_Ag68377-924_USHXG01162_NEG_MSMS-v2_Rhizo-12C-C-Mid-T2-1-E159_IR002_030</td>\n",
       "      <td>f.MSV000088543/ccms_peak/raw_data/20181019_JJ_KZ_Switchgrass_Greenhouse_Rhizo1_QE119_Ag68377-924_USHXG01162_NEG_MSMS-v2_Rhizo-12C-C-Mid-T2-1-E159_IR002_030</td>\n",
       "      <td>Exometabolomics of Switchgrass rhizosphere</td>\n",
       "      <td>MSV000088543</td>\n",
       "      <td>...</td>\n",
       "      <td>NaN</td>\n",
       "      <td>False</td>\n",
       "      <td>True</td>\n",
       "      <td>36</td>\n",
       "      <td>34</td>\n",
       "      <td>456</td>\n",
       "      <td>60502225826992405275824700640197620211318721337838281046483288341483812443647</td>\n",
       "      <td>1.000000</td>\n",
       "      <td>36</td>\n",
       "      <td>36</td>\n",
       "    </tr>\n",
       "    <tr>\n",
       "      <th>3</th>\n",
       "      <td>/pscratch/sd/b/bpb/massive/v01/MSV000088543/ccms_peak/raw_data/20181019_JJ_KZ_Switchgrass_Greenhouse_Rhizo1_QE119_Ag68377-924_USHXG01162_NEG_MSMS-v2_Rhizo-12C-C-Mid-T3-1-E096_IR002_063</td>\n",
       "      <td>/pscratch/sd/b/bpb/massive/v01/MSV000088543/ccms_peak/raw_data/20181019_JJ_KZ_Switchgrass_Greenhouse_Rhizo1_QE119_Ag68377-924_USHXG01162_NEG_MSMS-v2_Rhizo-12C-C-Mid-T3-1-E096_IR002_063.h5</td>\n",
       "      <td>/pscratch/sd/b/bpb/massive/v01/MSV000088543/ccms_peak/raw_data/20181019_JJ_KZ_Switchgrass_Greenhouse_Rhizo1_QE119_Ag68377-924_USHXG01162_NEG_MSMS-v2_Rhizo-12C-C-Mid-T3-1-E096_IR002_063.parquet</td>\n",
       "      <td>/pscratch/sd/b/bpb/massive</td>\n",
       "      <td>MSV000088543</td>\n",
       "      <td>20181019_JJ_KZ_Switchgrass_Greenhouse_Rhizo1_QE119_Ag68377-924_USHXG01162_NEG_MSMS-v2_Rhizo-12C-C-Mid-T3-1-E096_IR002_063.h5</td>\n",
       "      <td>20181019_JJ_KZ_Switchgrass_Greenhouse_Rhizo1_QE119_Ag68377-924_USHXG01162_NEG_MSMS-v2_Rhizo-12C-C-Mid-T3-1-E096_IR002_063</td>\n",
       "      <td>f.MSV000088543/ccms_peak/raw_data/20181019_JJ_KZ_Switchgrass_Greenhouse_Rhizo1_QE119_Ag68377-924_USHXG01162_NEG_MSMS-v2_Rhizo-12C-C-Mid-T3-1-E096_IR002_063</td>\n",
       "      <td>Exometabolomics of Switchgrass rhizosphere</td>\n",
       "      <td>MSV000088543</td>\n",
       "      <td>...</td>\n",
       "      <td>NaN</td>\n",
       "      <td>False</td>\n",
       "      <td>True</td>\n",
       "      <td>43</td>\n",
       "      <td>40</td>\n",
       "      <td>456</td>\n",
       "      <td>37023138541985243015317401734624756585962291374287723754385517802264610591228</td>\n",
       "      <td>1.000000</td>\n",
       "      <td>43</td>\n",
       "      <td>43</td>\n",
       "    </tr>\n",
       "    <tr>\n",
       "      <th>4</th>\n",
       "      <td>/pscratch/sd/b/bpb/massive/v01/MSV000088543/ccms_peak/raw_data/20181019_JJ_KZ_Switchgrass_Greenhouse_Rhizo1_QE119_Ag68377-924_USHXG01162_NEG_MSMS-v2_Rhizo-12C-C-Mid-T3-2-E148_IR002_260</td>\n",
       "      <td>/pscratch/sd/b/bpb/massive/v01/MSV000088543/ccms_peak/raw_data/20181019_JJ_KZ_Switchgrass_Greenhouse_Rhizo1_QE119_Ag68377-924_USHXG01162_NEG_MSMS-v2_Rhizo-12C-C-Mid-T3-2-E148_IR002_260.h5</td>\n",
       "      <td>/pscratch/sd/b/bpb/massive/v01/MSV000088543/ccms_peak/raw_data/20181019_JJ_KZ_Switchgrass_Greenhouse_Rhizo1_QE119_Ag68377-924_USHXG01162_NEG_MSMS-v2_Rhizo-12C-C-Mid-T3-2-E148_IR002_260.parquet</td>\n",
       "      <td>/pscratch/sd/b/bpb/massive</td>\n",
       "      <td>MSV000088543</td>\n",
       "      <td>20181019_JJ_KZ_Switchgrass_Greenhouse_Rhizo1_QE119_Ag68377-924_USHXG01162_NEG_MSMS-v2_Rhizo-12C-C-Mid-T3-2-E148_IR002_260.h5</td>\n",
       "      <td>20181019_JJ_KZ_Switchgrass_Greenhouse_Rhizo1_QE119_Ag68377-924_USHXG01162_NEG_MSMS-v2_Rhizo-12C-C-Mid-T3-2-E148_IR002_260</td>\n",
       "      <td>f.MSV000088543/ccms_peak/raw_data/20181019_JJ_KZ_Switchgrass_Greenhouse_Rhizo1_QE119_Ag68377-924_USHXG01162_NEG_MSMS-v2_Rhizo-12C-C-Mid-T3-2-E148_IR002_260</td>\n",
       "      <td>Exometabolomics of Switchgrass rhizosphere</td>\n",
       "      <td>MSV000088543</td>\n",
       "      <td>...</td>\n",
       "      <td>NaN</td>\n",
       "      <td>False</td>\n",
       "      <td>True</td>\n",
       "      <td>41</td>\n",
       "      <td>38</td>\n",
       "      <td>456</td>\n",
       "      <td>32045406411099848028751851487113919624590309777555431682307114313708195524278</td>\n",
       "      <td>1.000000</td>\n",
       "      <td>41</td>\n",
       "      <td>41</td>\n",
       "    </tr>\n",
       "    <tr>\n",
       "      <th>...</th>\n",
       "      <td>...</td>\n",
       "      <td>...</td>\n",
       "      <td>...</td>\n",
       "      <td>...</td>\n",
       "      <td>...</td>\n",
       "      <td>...</td>\n",
       "      <td>...</td>\n",
       "      <td>...</td>\n",
       "      <td>...</td>\n",
       "      <td>...</td>\n",
       "      <td>...</td>\n",
       "      <td>...</td>\n",
       "      <td>...</td>\n",
       "      <td>...</td>\n",
       "      <td>...</td>\n",
       "      <td>...</td>\n",
       "      <td>...</td>\n",
       "      <td>...</td>\n",
       "      <td>...</td>\n",
       "      <td>...</td>\n",
       "      <td>...</td>\n",
       "    </tr>\n",
       "    <tr>\n",
       "      <th>2138</th>\n",
       "      <td>/pscratch/sd/b/bpb/massive/v05/MSV000090529/peak/mzml/Rose-DOM_neg_1</td>\n",
       "      <td>/pscratch/sd/b/bpb/massive/v05/MSV000090529/peak/mzml/Rose-DOM_neg_1.h5</td>\n",
       "      <td>/pscratch/sd/b/bpb/massive/v05/MSV000090529/peak/mzml/Rose-DOM_neg_1.parquet</td>\n",
       "      <td>/pscratch/sd/b/bpb/massive</td>\n",
       "      <td>MSV000090529</td>\n",
       "      <td>Rose-DOM_neg_1.h5</td>\n",
       "      <td>Rose-DOM_neg_1</td>\n",
       "      <td>f.MSV000090529/peak/mzml/Rose-DOM_neg_1</td>\n",
       "      <td>GNPS Non-targted LC-MS/MS from Roseobacter DOM for Bioactivity Screens</td>\n",
       "      <td>MSV000090529</td>\n",
       "      <td>...</td>\n",
       "      <td>NaN</td>\n",
       "      <td>False</td>\n",
       "      <td>True</td>\n",
       "      <td>96</td>\n",
       "      <td>93</td>\n",
       "      <td>16</td>\n",
       "      <td>43369017745121175503979957132052360431808146987875251941117119818633007186620</td>\n",
       "      <td>1.000000</td>\n",
       "      <td>96</td>\n",
       "      <td>96</td>\n",
       "    </tr>\n",
       "    <tr>\n",
       "      <th>2139</th>\n",
       "      <td>/pscratch/sd/b/bpb/massive/v05/MSV000090529/peak/mzml/Rose-DOM_neg_2</td>\n",
       "      <td>/pscratch/sd/b/bpb/massive/v05/MSV000090529/peak/mzml/Rose-DOM_neg_2.h5</td>\n",
       "      <td>/pscratch/sd/b/bpb/massive/v05/MSV000090529/peak/mzml/Rose-DOM_neg_2.parquet</td>\n",
       "      <td>/pscratch/sd/b/bpb/massive</td>\n",
       "      <td>MSV000090529</td>\n",
       "      <td>Rose-DOM_neg_2.h5</td>\n",
       "      <td>Rose-DOM_neg_2</td>\n",
       "      <td>f.MSV000090529/peak/mzml/Rose-DOM_neg_2</td>\n",
       "      <td>GNPS Non-targted LC-MS/MS from Roseobacter DOM for Bioactivity Screens</td>\n",
       "      <td>MSV000090529</td>\n",
       "      <td>...</td>\n",
       "      <td>NaN</td>\n",
       "      <td>False</td>\n",
       "      <td>True</td>\n",
       "      <td>90</td>\n",
       "      <td>87</td>\n",
       "      <td>16</td>\n",
       "      <td>54053923677227204806183398256130420739812272345691476749704228536018757459138</td>\n",
       "      <td>1.000000</td>\n",
       "      <td>90</td>\n",
       "      <td>90</td>\n",
       "    </tr>\n",
       "    <tr>\n",
       "      <th>2140</th>\n",
       "      <td>/pscratch/sd/b/bpb/massive/v01/MSV000090282/ccms_peak/TRM_0522_neg_LCMS_DDA_rep1</td>\n",
       "      <td>/pscratch/sd/b/bpb/massive/v01/MSV000090282/ccms_peak/TRM_0522_neg_LCMS_DDA_rep1.h5</td>\n",
       "      <td>/pscratch/sd/b/bpb/massive/v01/MSV000090282/ccms_peak/TRM_0522_neg_LCMS_DDA_rep1.parquet</td>\n",
       "      <td>/pscratch/sd/b/bpb/massive</td>\n",
       "      <td>MSV000090282</td>\n",
       "      <td>TRM_0522_neg_LCMS_DDA_rep1.h5</td>\n",
       "      <td>TRM_0522_neg_LCMS_DDA_rep1</td>\n",
       "      <td>f.MSV000090282/ccms_peak/TRM_0522_neg_LCMS_DDA_rep1</td>\n",
       "      <td>Tjarno Reference Material Dissolved Organic Matter LCMS/MS mass spectra</td>\n",
       "      <td>MSV000090282</td>\n",
       "      <td>...</td>\n",
       "      <td>NaN</td>\n",
       "      <td>False</td>\n",
       "      <td>True</td>\n",
       "      <td>382</td>\n",
       "      <td>324</td>\n",
       "      <td>9</td>\n",
       "      <td>65773427999086734511727561083316518110177481716385103860392989549538949062690</td>\n",
       "      <td>0.997382</td>\n",
       "      <td>382</td>\n",
       "      <td>381</td>\n",
       "    </tr>\n",
       "    <tr>\n",
       "      <th>2141</th>\n",
       "      <td>/pscratch/sd/b/bpb/massive/v01/MSV000090282/ccms_peak/TRM_0522_neg_LCMS_DDA_rep2</td>\n",
       "      <td>/pscratch/sd/b/bpb/massive/v01/MSV000090282/ccms_peak/TRM_0522_neg_LCMS_DDA_rep2.h5</td>\n",
       "      <td>/pscratch/sd/b/bpb/massive/v01/MSV000090282/ccms_peak/TRM_0522_neg_LCMS_DDA_rep2.parquet</td>\n",
       "      <td>/pscratch/sd/b/bpb/massive</td>\n",
       "      <td>MSV000090282</td>\n",
       "      <td>TRM_0522_neg_LCMS_DDA_rep2.h5</td>\n",
       "      <td>TRM_0522_neg_LCMS_DDA_rep2</td>\n",
       "      <td>f.MSV000090282/ccms_peak/TRM_0522_neg_LCMS_DDA_rep2</td>\n",
       "      <td>Tjarno Reference Material Dissolved Organic Matter LCMS/MS mass spectra</td>\n",
       "      <td>MSV000090282</td>\n",
       "      <td>...</td>\n",
       "      <td>NaN</td>\n",
       "      <td>False</td>\n",
       "      <td>True</td>\n",
       "      <td>390</td>\n",
       "      <td>325</td>\n",
       "      <td>9</td>\n",
       "      <td>69381679568758820390208905113342296557140517521804029306377622979317887102112</td>\n",
       "      <td>1.000000</td>\n",
       "      <td>390</td>\n",
       "      <td>390</td>\n",
       "    </tr>\n",
       "    <tr>\n",
       "      <th>2142</th>\n",
       "      <td>/pscratch/sd/b/bpb/massive/v01/MSV000090282/ccms_peak/TRM_0522_neg_LCMS_DDA_rep3</td>\n",
       "      <td>/pscratch/sd/b/bpb/massive/v01/MSV000090282/ccms_peak/TRM_0522_neg_LCMS_DDA_rep3.h5</td>\n",
       "      <td>/pscratch/sd/b/bpb/massive/v01/MSV000090282/ccms_peak/TRM_0522_neg_LCMS_DDA_rep3.parquet</td>\n",
       "      <td>/pscratch/sd/b/bpb/massive</td>\n",
       "      <td>MSV000090282</td>\n",
       "      <td>TRM_0522_neg_LCMS_DDA_rep3.h5</td>\n",
       "      <td>TRM_0522_neg_LCMS_DDA_rep3</td>\n",
       "      <td>f.MSV000090282/ccms_peak/TRM_0522_neg_LCMS_DDA_rep3</td>\n",
       "      <td>Tjarno Reference Material Dissolved Organic Matter LCMS/MS mass spectra</td>\n",
       "      <td>MSV000090282</td>\n",
       "      <td>...</td>\n",
       "      <td>NaN</td>\n",
       "      <td>False</td>\n",
       "      <td>True</td>\n",
       "      <td>369</td>\n",
       "      <td>321</td>\n",
       "      <td>9</td>\n",
       "      <td>59124377823571789243610877807056473601299984903304167796772480162885841374414</td>\n",
       "      <td>1.000000</td>\n",
       "      <td>369</td>\n",
       "      <td>369</td>\n",
       "    </tr>\n",
       "  </tbody>\n",
       "</table>\n",
       "<p>1984 rows × 41 columns</p>\n",
       "</div>"
      ],
      "text/plain": [
       "                                                                                                                                                                                  no_extension  \\\n",
       "0     /pscratch/sd/b/bpb/massive/v01/MSV000088543/ccms_peak/raw_data/20181019_JJ_KZ_Switchgrass_Greenhouse_Rhizo1_QE119_Ag68377-924_USHXG01162_NEG_MSMS-v2_Rhizo-12C-C-Bot-T2-1-E216_IR002_352   \n",
       "1     /pscratch/sd/b/bpb/massive/v01/MSV000088543/ccms_peak/raw_data/20181019_JJ_KZ_Switchgrass_Greenhouse_Rhizo1_QE119_Ag68377-924_USHXG01162_NEG_MSMS-v2_Rhizo-12C-C-Bot-T3-1-E226_IR002_021   \n",
       "2     /pscratch/sd/b/bpb/massive/v01/MSV000088543/ccms_peak/raw_data/20181019_JJ_KZ_Switchgrass_Greenhouse_Rhizo1_QE119_Ag68377-924_USHXG01162_NEG_MSMS-v2_Rhizo-12C-C-Mid-T2-1-E159_IR002_030   \n",
       "3     /pscratch/sd/b/bpb/massive/v01/MSV000088543/ccms_peak/raw_data/20181019_JJ_KZ_Switchgrass_Greenhouse_Rhizo1_QE119_Ag68377-924_USHXG01162_NEG_MSMS-v2_Rhizo-12C-C-Mid-T3-1-E096_IR002_063   \n",
       "4     /pscratch/sd/b/bpb/massive/v01/MSV000088543/ccms_peak/raw_data/20181019_JJ_KZ_Switchgrass_Greenhouse_Rhizo1_QE119_Ag68377-924_USHXG01162_NEG_MSMS-v2_Rhizo-12C-C-Mid-T3-2-E148_IR002_260   \n",
       "...                                                                                                                                                                                        ...   \n",
       "2138                                                                                                                      /pscratch/sd/b/bpb/massive/v05/MSV000090529/peak/mzml/Rose-DOM_neg_1   \n",
       "2139                                                                                                                      /pscratch/sd/b/bpb/massive/v05/MSV000090529/peak/mzml/Rose-DOM_neg_2   \n",
       "2140                                                                                                          /pscratch/sd/b/bpb/massive/v01/MSV000090282/ccms_peak/TRM_0522_neg_LCMS_DDA_rep1   \n",
       "2141                                                                                                          /pscratch/sd/b/bpb/massive/v01/MSV000090282/ccms_peak/TRM_0522_neg_LCMS_DDA_rep2   \n",
       "2142                                                                                                          /pscratch/sd/b/bpb/massive/v01/MSV000090282/ccms_peak/TRM_0522_neg_LCMS_DDA_rep3   \n",
       "\n",
       "                                                                                                                                                                                               h5  \\\n",
       "0     /pscratch/sd/b/bpb/massive/v01/MSV000088543/ccms_peak/raw_data/20181019_JJ_KZ_Switchgrass_Greenhouse_Rhizo1_QE119_Ag68377-924_USHXG01162_NEG_MSMS-v2_Rhizo-12C-C-Bot-T2-1-E216_IR002_352.h5   \n",
       "1     /pscratch/sd/b/bpb/massive/v01/MSV000088543/ccms_peak/raw_data/20181019_JJ_KZ_Switchgrass_Greenhouse_Rhizo1_QE119_Ag68377-924_USHXG01162_NEG_MSMS-v2_Rhizo-12C-C-Bot-T3-1-E226_IR002_021.h5   \n",
       "2     /pscratch/sd/b/bpb/massive/v01/MSV000088543/ccms_peak/raw_data/20181019_JJ_KZ_Switchgrass_Greenhouse_Rhizo1_QE119_Ag68377-924_USHXG01162_NEG_MSMS-v2_Rhizo-12C-C-Mid-T2-1-E159_IR002_030.h5   \n",
       "3     /pscratch/sd/b/bpb/massive/v01/MSV000088543/ccms_peak/raw_data/20181019_JJ_KZ_Switchgrass_Greenhouse_Rhizo1_QE119_Ag68377-924_USHXG01162_NEG_MSMS-v2_Rhizo-12C-C-Mid-T3-1-E096_IR002_063.h5   \n",
       "4     /pscratch/sd/b/bpb/massive/v01/MSV000088543/ccms_peak/raw_data/20181019_JJ_KZ_Switchgrass_Greenhouse_Rhizo1_QE119_Ag68377-924_USHXG01162_NEG_MSMS-v2_Rhizo-12C-C-Mid-T3-2-E148_IR002_260.h5   \n",
       "...                                                                                                                                                                                           ...   \n",
       "2138                                                                                                                      /pscratch/sd/b/bpb/massive/v05/MSV000090529/peak/mzml/Rose-DOM_neg_1.h5   \n",
       "2139                                                                                                                      /pscratch/sd/b/bpb/massive/v05/MSV000090529/peak/mzml/Rose-DOM_neg_2.h5   \n",
       "2140                                                                                                          /pscratch/sd/b/bpb/massive/v01/MSV000090282/ccms_peak/TRM_0522_neg_LCMS_DDA_rep1.h5   \n",
       "2141                                                                                                          /pscratch/sd/b/bpb/massive/v01/MSV000090282/ccms_peak/TRM_0522_neg_LCMS_DDA_rep2.h5   \n",
       "2142                                                                                                          /pscratch/sd/b/bpb/massive/v01/MSV000090282/ccms_peak/TRM_0522_neg_LCMS_DDA_rep3.h5   \n",
       "\n",
       "                                                                                                                                                                                                 buddy  \\\n",
       "0     /pscratch/sd/b/bpb/massive/v01/MSV000088543/ccms_peak/raw_data/20181019_JJ_KZ_Switchgrass_Greenhouse_Rhizo1_QE119_Ag68377-924_USHXG01162_NEG_MSMS-v2_Rhizo-12C-C-Bot-T2-1-E216_IR002_352.parquet   \n",
       "1     /pscratch/sd/b/bpb/massive/v01/MSV000088543/ccms_peak/raw_data/20181019_JJ_KZ_Switchgrass_Greenhouse_Rhizo1_QE119_Ag68377-924_USHXG01162_NEG_MSMS-v2_Rhizo-12C-C-Bot-T3-1-E226_IR002_021.parquet   \n",
       "2     /pscratch/sd/b/bpb/massive/v01/MSV000088543/ccms_peak/raw_data/20181019_JJ_KZ_Switchgrass_Greenhouse_Rhizo1_QE119_Ag68377-924_USHXG01162_NEG_MSMS-v2_Rhizo-12C-C-Mid-T2-1-E159_IR002_030.parquet   \n",
       "3     /pscratch/sd/b/bpb/massive/v01/MSV000088543/ccms_peak/raw_data/20181019_JJ_KZ_Switchgrass_Greenhouse_Rhizo1_QE119_Ag68377-924_USHXG01162_NEG_MSMS-v2_Rhizo-12C-C-Mid-T3-1-E096_IR002_063.parquet   \n",
       "4     /pscratch/sd/b/bpb/massive/v01/MSV000088543/ccms_peak/raw_data/20181019_JJ_KZ_Switchgrass_Greenhouse_Rhizo1_QE119_Ag68377-924_USHXG01162_NEG_MSMS-v2_Rhizo-12C-C-Mid-T3-2-E148_IR002_260.parquet   \n",
       "...                                                                                                                                                                                                ...   \n",
       "2138                                                                                                                      /pscratch/sd/b/bpb/massive/v05/MSV000090529/peak/mzml/Rose-DOM_neg_1.parquet   \n",
       "2139                                                                                                                      /pscratch/sd/b/bpb/massive/v05/MSV000090529/peak/mzml/Rose-DOM_neg_2.parquet   \n",
       "2140                                                                                                          /pscratch/sd/b/bpb/massive/v01/MSV000090282/ccms_peak/TRM_0522_neg_LCMS_DDA_rep1.parquet   \n",
       "2141                                                                                                          /pscratch/sd/b/bpb/massive/v01/MSV000090282/ccms_peak/TRM_0522_neg_LCMS_DDA_rep2.parquet   \n",
       "2142                                                                                                          /pscratch/sd/b/bpb/massive/v01/MSV000090282/ccms_peak/TRM_0522_neg_LCMS_DDA_rep3.parquet   \n",
       "\n",
       "                        data_dir    massive_id  \\\n",
       "0     /pscratch/sd/b/bpb/massive  MSV000088543   \n",
       "1     /pscratch/sd/b/bpb/massive  MSV000088543   \n",
       "2     /pscratch/sd/b/bpb/massive  MSV000088543   \n",
       "3     /pscratch/sd/b/bpb/massive  MSV000088543   \n",
       "4     /pscratch/sd/b/bpb/massive  MSV000088543   \n",
       "...                          ...           ...   \n",
       "2138  /pscratch/sd/b/bpb/massive  MSV000090529   \n",
       "2139  /pscratch/sd/b/bpb/massive  MSV000090529   \n",
       "2140  /pscratch/sd/b/bpb/massive  MSV000090282   \n",
       "2141  /pscratch/sd/b/bpb/massive  MSV000090282   \n",
       "2142  /pscratch/sd/b/bpb/massive  MSV000090282   \n",
       "\n",
       "                                                                                                                       h5_basename  \\\n",
       "0     20181019_JJ_KZ_Switchgrass_Greenhouse_Rhizo1_QE119_Ag68377-924_USHXG01162_NEG_MSMS-v2_Rhizo-12C-C-Bot-T2-1-E216_IR002_352.h5   \n",
       "1     20181019_JJ_KZ_Switchgrass_Greenhouse_Rhizo1_QE119_Ag68377-924_USHXG01162_NEG_MSMS-v2_Rhizo-12C-C-Bot-T3-1-E226_IR002_021.h5   \n",
       "2     20181019_JJ_KZ_Switchgrass_Greenhouse_Rhizo1_QE119_Ag68377-924_USHXG01162_NEG_MSMS-v2_Rhizo-12C-C-Mid-T2-1-E159_IR002_030.h5   \n",
       "3     20181019_JJ_KZ_Switchgrass_Greenhouse_Rhizo1_QE119_Ag68377-924_USHXG01162_NEG_MSMS-v2_Rhizo-12C-C-Mid-T3-1-E096_IR002_063.h5   \n",
       "4     20181019_JJ_KZ_Switchgrass_Greenhouse_Rhizo1_QE119_Ag68377-924_USHXG01162_NEG_MSMS-v2_Rhizo-12C-C-Mid-T3-2-E148_IR002_260.h5   \n",
       "...                                                                                                                            ...   \n",
       "2138                                                                                                             Rose-DOM_neg_1.h5   \n",
       "2139                                                                                                             Rose-DOM_neg_2.h5   \n",
       "2140                                                                                                 TRM_0522_neg_LCMS_DDA_rep1.h5   \n",
       "2141                                                                                                 TRM_0522_neg_LCMS_DDA_rep2.h5   \n",
       "2142                                                                                                 TRM_0522_neg_LCMS_DDA_rep3.h5   \n",
       "\n",
       "                                                                                                          no_extension_basename  \\\n",
       "0     20181019_JJ_KZ_Switchgrass_Greenhouse_Rhizo1_QE119_Ag68377-924_USHXG01162_NEG_MSMS-v2_Rhizo-12C-C-Bot-T2-1-E216_IR002_352   \n",
       "1     20181019_JJ_KZ_Switchgrass_Greenhouse_Rhizo1_QE119_Ag68377-924_USHXG01162_NEG_MSMS-v2_Rhizo-12C-C-Bot-T3-1-E226_IR002_021   \n",
       "2     20181019_JJ_KZ_Switchgrass_Greenhouse_Rhizo1_QE119_Ag68377-924_USHXG01162_NEG_MSMS-v2_Rhizo-12C-C-Mid-T2-1-E159_IR002_030   \n",
       "3     20181019_JJ_KZ_Switchgrass_Greenhouse_Rhizo1_QE119_Ag68377-924_USHXG01162_NEG_MSMS-v2_Rhizo-12C-C-Mid-T3-1-E096_IR002_063   \n",
       "4     20181019_JJ_KZ_Switchgrass_Greenhouse_Rhizo1_QE119_Ag68377-924_USHXG01162_NEG_MSMS-v2_Rhizo-12C-C-Mid-T3-2-E148_IR002_260   \n",
       "...                                                                                                                         ...   \n",
       "2138                                                                                                             Rose-DOM_neg_1   \n",
       "2139                                                                                                             Rose-DOM_neg_2   \n",
       "2140                                                                                                 TRM_0522_neg_LCMS_DDA_rep1   \n",
       "2141                                                                                                 TRM_0522_neg_LCMS_DDA_rep2   \n",
       "2142                                                                                                 TRM_0522_neg_LCMS_DDA_rep3   \n",
       "\n",
       "                                                                                                                                                    redu_filename  \\\n",
       "0     f.MSV000088543/ccms_peak/raw_data/20181019_JJ_KZ_Switchgrass_Greenhouse_Rhizo1_QE119_Ag68377-924_USHXG01162_NEG_MSMS-v2_Rhizo-12C-C-Bot-T2-1-E216_IR002_352   \n",
       "1     f.MSV000088543/ccms_peak/raw_data/20181019_JJ_KZ_Switchgrass_Greenhouse_Rhizo1_QE119_Ag68377-924_USHXG01162_NEG_MSMS-v2_Rhizo-12C-C-Bot-T3-1-E226_IR002_021   \n",
       "2     f.MSV000088543/ccms_peak/raw_data/20181019_JJ_KZ_Switchgrass_Greenhouse_Rhizo1_QE119_Ag68377-924_USHXG01162_NEG_MSMS-v2_Rhizo-12C-C-Mid-T2-1-E159_IR002_030   \n",
       "3     f.MSV000088543/ccms_peak/raw_data/20181019_JJ_KZ_Switchgrass_Greenhouse_Rhizo1_QE119_Ag68377-924_USHXG01162_NEG_MSMS-v2_Rhizo-12C-C-Mid-T3-1-E096_IR002_063   \n",
       "4     f.MSV000088543/ccms_peak/raw_data/20181019_JJ_KZ_Switchgrass_Greenhouse_Rhizo1_QE119_Ag68377-924_USHXG01162_NEG_MSMS-v2_Rhizo-12C-C-Mid-T3-2-E148_IR002_260   \n",
       "...                                                                                                                                                           ...   \n",
       "2138                                                                                                                      f.MSV000090529/peak/mzml/Rose-DOM_neg_1   \n",
       "2139                                                                                                                      f.MSV000090529/peak/mzml/Rose-DOM_neg_2   \n",
       "2140                                                                                                          f.MSV000090282/ccms_peak/TRM_0522_neg_LCMS_DDA_rep1   \n",
       "2141                                                                                                          f.MSV000090282/ccms_peak/TRM_0522_neg_LCMS_DDA_rep2   \n",
       "2142                                                                                                          f.MSV000090282/ccms_peak/TRM_0522_neg_LCMS_DDA_rep3   \n",
       "\n",
       "                                                                        title  \\\n",
       "0                                  Exometabolomics of Switchgrass rhizosphere   \n",
       "1                                  Exometabolomics of Switchgrass rhizosphere   \n",
       "2                                  Exometabolomics of Switchgrass rhizosphere   \n",
       "3                                  Exometabolomics of Switchgrass rhizosphere   \n",
       "4                                  Exometabolomics of Switchgrass rhizosphere   \n",
       "...                                                                       ...   \n",
       "2138   GNPS Non-targted LC-MS/MS from Roseobacter DOM for Bioactivity Screens   \n",
       "2139   GNPS Non-targted LC-MS/MS from Roseobacter DOM for Bioactivity Screens   \n",
       "2140  Tjarno Reference Material Dissolved Organic Matter LCMS/MS mass spectra   \n",
       "2141  Tjarno Reference Material Dissolved Organic Matter LCMS/MS mass spectra   \n",
       "2142  Tjarno Reference Material Dissolved Organic Matter LCMS/MS mass spectra   \n",
       "\n",
       "           dataset  ... DataSource in_redu_plant in_massive_dom_list  \\\n",
       "0     MSV000088543  ...        NaN         False                True   \n",
       "1     MSV000088543  ...        NaN         False                True   \n",
       "2     MSV000088543  ...        NaN         False                True   \n",
       "3     MSV000088543  ...        NaN         False                True   \n",
       "4     MSV000088543  ...        NaN         False                True   \n",
       "...            ...  ...        ...           ...                 ...   \n",
       "2138  MSV000090529  ...        NaN         False                True   \n",
       "2139  MSV000090529  ...        NaN         False                True   \n",
       "2140  MSV000090282  ...        NaN         False                True   \n",
       "2141  MSV000090282  ...        NaN         False                True   \n",
       "2142  MSV000090282  ...        NaN         False                True   \n",
       "\n",
       "      num_unique_spectra num_unique_formula row_count  \\\n",
       "0                     34                 30       456   \n",
       "1                     32                 29       456   \n",
       "2                     36                 34       456   \n",
       "3                     43                 40       456   \n",
       "4                     41                 38       456   \n",
       "...                  ...                ...       ...   \n",
       "2138                  96                 93        16   \n",
       "2139                  90                 87        16   \n",
       "2140                 382                324         9   \n",
       "2141                 390                325         9   \n",
       "2142                 369                321         9   \n",
       "\n",
       "                                                                         hash_value  \\\n",
       "0     45430261681085743627944794508087828225761024817821271817688870204326127138120   \n",
       "1     11466997312021510781671838716572440673198672003821569169593285051705087203843   \n",
       "2     60502225826992405275824700640197620211318721337838281046483288341483812443647   \n",
       "3     37023138541985243015317401734624756585962291374287723754385517802264610591228   \n",
       "4     32045406411099848028751851487113919624590309777555431682307114313708195524278   \n",
       "...                                                                             ...   \n",
       "2138  43369017745121175503979957132052360431808146987875251941117119818633007186620   \n",
       "2139  54053923677227204806183398256130420739812272345691476749704228536018757459138   \n",
       "2140  65773427999086734511727561083316518110177481716385103860392989549538949062690   \n",
       "2141  69381679568758820390208905113342296557140517521804029306377622979317887102112   \n",
       "2142  59124377823571789243610877807056473601299984903304167796772480162885841374414   \n",
       "\n",
       "     fraction_within_half_tolerance total_formula good_formula  \n",
       "0                          1.000000            34           34  \n",
       "1                          1.000000            32           32  \n",
       "2                          1.000000            36           36  \n",
       "3                          1.000000            43           43  \n",
       "4                          1.000000            41           41  \n",
       "...                             ...           ...          ...  \n",
       "2138                       1.000000            96           96  \n",
       "2139                       1.000000            90           90  \n",
       "2140                       0.997382           382          381  \n",
       "2141                       1.000000           390          390  \n",
       "2142                       1.000000           369          369  \n",
       "\n",
       "[1984 rows x 41 columns]"
      ]
     },
     "execution_count": 21,
     "metadata": {},
     "output_type": "execute_result"
    }
   ],
   "source": [
    "df[df['in_massive_dom_list']]"
   ]
  },
  {
   "cell_type": "code",
   "execution_count": 22,
   "metadata": {},
   "outputs": [],
   "source": [
    "df.to_csv('/global/cfs/cdirs/metatlas/projects/carbon_network/public_and_internal_files_with_massive_and_redu.tsv', sep='\\t',index=False)"
   ]
  },
  {
   "cell_type": "code",
   "execution_count": null,
   "metadata": {},
   "outputs": [],
   "source": [
    "# f = df.loc[1700,'buddy']\n",
    "# # t = pd.read_parquet(f)\n",
    "# process_row(f)\n",
    "# # t"
   ]
  },
  {
   "cell_type": "code",
   "execution_count": null,
   "metadata": {},
   "outputs": [],
   "source": [
    "len(df.loc[df['keyword_DOM']==True,'hash_value'].unique())"
   ]
  },
  {
   "cell_type": "code",
   "execution_count": null,
   "metadata": {},
   "outputs": [],
   "source": [
    "len(df.loc[df['in_massive_dom_list']==True,'hash_value'].unique())"
   ]
  },
  {
   "cell_type": "code",
   "execution_count": null,
   "metadata": {},
   "outputs": [],
   "source": [
    "len(df.loc[(df['in_massive_dom_list']) | df['keyword_DOM'],'hash_value'].unique()),len(df.loc[df['SampleType']=='plant','hash_value'].unique())"
   ]
  },
  {
   "cell_type": "code",
   "execution_count": null,
   "metadata": {},
   "outputs": [],
   "source": [
    "df.groupby('hash_value')['buddy'].count().sort_values(ascending=False)"
   ]
  },
  {
   "cell_type": "code",
   "execution_count": null,
   "metadata": {},
   "outputs": [],
   "source": [
    "import matplotlib.pyplot as plt\n",
    "import seaborn as sns\n",
    "fig,ax = plt.subplots()\n",
    "\n",
    "sns.kdeplot(data=df, x='num_unique_spectra', ax=ax, color='grey', label='All')\n",
    "sns.kdeplot(data=df[df['data_dir']=='/global/cfs/cdirs/metatlas/projects/rawdata_for_scn'], x='num_unique_spectra', ax=ax, color='blue', label='Berkeley Lab',log_scale=False)\n",
    "sns.kdeplot(data=df[df['data_dir']=='/global/cfs/cdirs/metatlas/projects/massive_data_for_scn'], x='num_unique_spectra', ax=ax, color='purple', label='From FASST search',log_scale=False)\n",
    "sns.kdeplot(data=df[~df['in_massive_dom_list']], x='num_unique_spectra', ax=ax, color='orange', label='Not in_massive_dom_list',log_scale=False)\n",
    "sns.kdeplot(data=df[df['in_massive_dom_list']], x='num_unique_spectra', ax=ax, color='green', label='In in_massive_dom_list',log_scale=False)\n",
    "ax.legend()\n",
    "plt.show()\n",
    "\n",
    "# sns.histplot(data=df, x='num_unique_spectra', ax=ax, log_scale=True, kde=True, alpha=0.6)\n",
    "# sns.histplot(data=df[~df['in_massive_dom_list']], x='num_unique_spectra', ax=ax, label='not in_massive_dom_list', log_scale=True, kde=False, alpha=0.6)\n",
    "# sns.histplot(data=df[df['in_massive_dom_list']], x='num_unique_spectra', ax=ax, label='in_massive_dom_list', log_scale=True, kde=True, alpha=0.6)\n",
    "# ax.legend()\n",
    "# plt.show()\n",
    "\n",
    "\n",
    "\n",
    "\n",
    "\n",
    "# sns.scatterplot(data=df,x='num_unique_spectra',y='num_unique_formulas',hue='in_massive_dom_list',ax=ax)\n",
    "# ax.set_xscale('log')\n",
    "# ax.set_yscale('log')\n",
    "# plt.show()"
   ]
  },
  {
   "cell_type": "code",
   "execution_count": null,
   "metadata": {},
   "outputs": [],
   "source": [
    "fig,ax = plt.subplots()\n",
    "\n",
    "sns.kdeplot(data=df, x='fraction_within_half_tolerance', ax=ax, color='grey', label='All')\n",
    "sns.kdeplot(data=df[df['data_dir']=='/global/cfs/cdirs/metatlas/projects/rawdata_for_scn'], x='fraction_within_half_tolerance', ax=ax, color='blue', label='Berkeley Lab',log_scale=False)\n",
    "sns.kdeplot(data=df[df['data_dir']=='/global/cfs/cdirs/metatlas/projects/massive_data_for_scn'], x='fraction_within_half_tolerance', ax=ax, color='purple', label='From FASST search',log_scale=False)\n",
    "sns.kdeplot(data=df[~df['in_massive_dom_list']], x='fraction_within_half_tolerance', ax=ax, color='orange', label='Not in_massive_dom_list',log_scale=False)\n",
    "sns.kdeplot(data=df[df['in_massive_dom_list']], x='fraction_within_half_tolerance', ax=ax, color='green', label='In in_massive_dom_list',log_scale=False)\n",
    "ax.legend()\n",
    "plt.show()"
   ]
  },
  {
   "cell_type": "code",
   "execution_count": null,
   "metadata": {},
   "outputs": [],
   "source": [
    "df.groupby(['massive_id','title'])['num_unique_formula'].sum().sort_values(ascending=False).head(40)"
   ]
  },
  {
   "cell_type": "code",
   "execution_count": null,
   "metadata": {},
   "outputs": [],
   "source": [
    "df['keyword_DOM'] = df['keywords'].str.contains('DOM',case=False,na=False)"
   ]
  },
  {
   "cell_type": "code",
   "execution_count": null,
   "metadata": {},
   "outputs": [],
   "source": [
    "fig,ax = plt.subplots()\n",
    "sns.scatterplot(data=df,x='num_unique_spectra',y='num_unique_formula',hue='keyword_DOM',ax=ax)\n"
   ]
  },
  {
   "cell_type": "code",
   "execution_count": null,
   "metadata": {},
   "outputs": [],
   "source": [
    "fig,ax = plt.subplots()\n",
    "sns.scatterplot(data=df,x='num_unique_spectra',y='num_unique_formula',hue='in_massive_dom_list',ax=ax)\n"
   ]
  },
  {
   "cell_type": "code",
   "execution_count": null,
   "metadata": {},
   "outputs": [],
   "source": [
    "len(df.loc[df['SampleType']=='plant','NCBITaxonomy'].unique())"
   ]
  },
  {
   "cell_type": "code",
   "execution_count": null,
   "metadata": {},
   "outputs": [],
   "source": [
    "\n",
    "unique_values = df['SampleType'].unique()\n",
    "\n",
    "fig, ax = plt.subplots()\n",
    "for value in unique_values:\n",
    "    temp = df[df['SampleType'] == value].copy()\n",
    "    if temp.shape[0]>100:\n",
    "        sns.kdeplot(data=temp, x='num_unique_formula', ax=ax, label=value)\n",
    "\n",
    "ax.legend(title='SampleType', bbox_to_anchor=(1.05, 1), loc='upper left')\n",
    "# ax.set_yscale('log')\n",
    "plt.show()\n"
   ]
  },
  {
   "cell_type": "code",
   "execution_count": null,
   "metadata": {},
   "outputs": [],
   "source": []
  }
 ],
 "metadata": {
  "kernelspec": {
   "display_name": "Python 3",
   "language": "python",
   "name": "python3"
  },
  "language_info": {
   "codemirror_mode": {
    "name": "ipython",
    "version": 3
   },
   "file_extension": ".py",
   "mimetype": "text/x-python",
   "name": "python",
   "nbconvert_exporter": "python",
   "pygments_lexer": "ipython3",
   "version": "3.8.18"
  }
 },
 "nbformat": 4,
 "nbformat_minor": 2
}
