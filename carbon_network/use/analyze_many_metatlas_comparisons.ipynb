{
 "cells": [
  {
   "cell_type": "code",
   "execution_count": 1,
   "metadata": {},
   "outputs": [
    {
     "name": "stderr",
     "output_type": "stream",
     "text": [
      "INFO:rdkit:Enabling RDKit 2023.09.1 jupyter extensions\n"
     ]
    }
   ],
   "source": [
    "from pyteomics import mgf\n",
    "import pandas as pd\n",
    "import numpy as np\n",
    "import glob as glob\n",
    "import os\n",
    "import sys\n",
    "import matplotlib.pyplot as plt\n",
    "import networkx as nx\n",
    "import pingouin as pg\n",
    "import seaborn as sns\n",
    "sys.path.insert(0,'/global/homes/b/bpb/repos/metatlas')\n",
    "from metatlas.io import feature_tools as ft\n",
    "\n",
    "import pandas as pd\n",
    "import numpy as np\n",
    "import glob as glob\n",
    "import matplotlib.pyplot as plt\n",
    "import networkx as nx\n",
    "import os\n",
    "import glob\n",
    "\n",
    "from typing import List, Tuple\n",
    "\n",
    "from tqdm.notebook import tqdm\n",
    "\n",
    "# replace with submodules\n",
    "\n",
    "\n",
    "\n",
    "# sys.path.insert(0,'../')\n",
    "import analysis_tools as at"
   ]
  },
  {
   "cell_type": "code",
   "execution_count": 2,
   "metadata": {},
   "outputs": [
    {
     "name": "stderr",
     "output_type": "stream",
     "text": [
      "INFO:root:Processing original_spectra.mgf\n",
      "INFO:root:Processing nl_spectra.mgf\n"
     ]
    },
    {
     "name": "stdout",
     "output_type": "stream",
     "text": [
      "(6853, 9)\n",
      "(6853, 9)\n"
     ]
    }
   ],
   "source": [
    "    # tolerance in ppm between experimental signal and node mz\n",
    "mz_ppm_tolerance = 5\n",
    "peak_height_min = 1e4\n",
    "num_datapoints_min = 10\n",
    "# minimum MSMS score \n",
    "msms_score_min = 0.5\n",
    "\n",
    "# minimum MSMS matching ion count\n",
    "msms_matches_min = 3\n",
    "\n",
    "# retention time range in minutes for feature finding\n",
    "rt_range = [1, 700]\n",
    "\n",
    "# tolerance in daltons used for calculating MS/MS similarity scores\n",
    "frag_mz_tolerance = 0.05\n",
    "# collect and merge required data and metadata\n",
    "node_data = at.graph_to_df()\n",
    "node_atlas = at.make_node_atlas(node_data, rt_range)\n",
    "merged_node_data = at.merge_spectral_data(node_data)\n",
    "\n",
    "params = {'mz_ppm_tolerance':mz_ppm_tolerance,\n",
    "        'peak_height_min':peak_height_min,\n",
    "        'num_datapoints_min':num_datapoints_min,\n",
    "        'msms_score_min':msms_score_min,\n",
    "        'msms_matches_min':msms_matches_min,\n",
    "        'rt_range':rt_range,\n",
    "        'frag_mz_tolerance':frag_mz_tolerance}"
   ]
  },
  {
   "cell_type": "code",
   "execution_count": 4,
   "metadata": {},
   "outputs": [
    {
     "data": {
      "application/vnd.jupyter.widget-view+json": {
       "model_id": "76370c00e02c4c04890b5379f9e0f4df",
       "version_major": 2,
       "version_minor": 0
      },
      "text/plain": [
       "  0%|          | 0/14 [00:00<?, ?file/s]"
      ]
     },
     "metadata": {},
     "output_type": "display_data"
    },
    {
     "data": {
      "application/vnd.jupyter.widget-view+json": {
       "model_id": "b0587a37238b4b73be0f4fdec64ec5de",
       "version_major": 2,
       "version_minor": 0
      },
      "text/plain": [
       "  0%|          | 0/14 [00:00<?, ?file/s]"
      ]
     },
     "metadata": {},
     "output_type": "display_data"
    },
    {
     "data": {
      "application/vnd.jupyter.widget-view+json": {
       "model_id": "3d447ba5723846808d8bde2b08bae465",
       "version_major": 2,
       "version_minor": 0
      },
      "text/plain": [
       "  0%|          | 0/6 [00:00<?, ?file/s]"
      ]
     },
     "metadata": {},
     "output_type": "display_data"
    },
    {
     "data": {
      "application/vnd.jupyter.widget-view+json": {
       "model_id": "376db3739f8346779f3464bdda7b5b2a",
       "version_major": 2,
       "version_minor": 0
      },
      "text/plain": [
       "  0%|          | 0/6 [00:00<?, ?file/s]"
      ]
     },
     "metadata": {},
     "output_type": "display_data"
    }
   ],
   "source": [
    "# comparison_file = 'wavestab3_comparisons.txt'\n",
    "# comparison_file = 'SynDAC5 comparisons.txt' \n",
    "# comparison_file = 'WAVESTAB comparisons.txt'\n",
    "comparison_file = 'SynCom-Comparisons.txt'\n",
    "with open(comparison_file) as f:\n",
    "    comparisons = f.read()\n",
    "comparisons = comparisons.split('\\n\\n')\n",
    "for row in comparisons:\n",
    "    exec(row)\n",
    "    # combine all parameters into a single dictionary and export to a file\n",
    "    mod_params = params.copy()\n",
    "    mod_params['exp_dir'] = exp_dir\n",
    "    mod_params['my_groups'] = my_groups\n",
    "    mod_params['output_filename'] = output_filename\n",
    "\n",
    "    with open(output_filename.replace('.csv','.params'),'w') as f:\n",
    "        for key in mod_params.keys():\n",
    "            f.write(\"%s: %s\\n\"%(key,mod_params[key]))\n",
    "\n",
    "    files_data = at.get_files_df(exp_dir,parse_filename=True,groups=my_groups)\n",
    "    files = files_data['filename'].tolist()\n",
    "    # get ms1 and ms2 data\n",
    "    ms1_data = at.get_sample_ms1_data(node_atlas, files, mz_ppm_tolerance,peak_height_min,num_datapoints_min)\n",
    "    max_ms1_data = at.get_best_ms1_rawdata(ms1_data,node_data)\n",
    "    ms2_data = at.get_sample_ms2_data(files,merged_node_data,msms_score_min,msms_matches_min,mz_ppm_tolerance,frag_mz_tolerance)\n",
    "    ms2_data = pd.concat(ms2_data)\n",
    "    max_ms2_data = at.get_best_ms2_rawdata(ms2_data)\n",
    "    best_hits = at.get_best_ms1_ms2_combined(max_ms1_data,max_ms2_data)\n",
    "\n",
    "    stats_df = at.do_basic_stats(ms1_data,files_data)\n",
    "    output_df = at.make_output_df(node_data,best_hits,stats_df,filename=output_filename)\n"
   ]
  },
  {
   "cell_type": "code",
   "execution_count": 9,
   "metadata": {},
   "outputs": [],
   "source": [
    "df = pd.read_csv('OUTPUT_yezhang-exudates-syncom_Exud-Bd30-1-Syn-vs-Exud-Bd30-1-NoBact.csv')\n",
    "cols = ['num_datapoints',\n",
    "       'peak_area', 'peak_height', 'mz_centroid', 'rt_peak',\n",
    "       'lcmsrun_observed', 'precursor_mz_best_hit', 'ppm_error', 'ms2_node_id',\n",
    "       'ms2_score', 'ms2_matches', 'ms2_best_match_method',\n",
    "       'ms2_lcmsrun_observed', 'mean-control', 'mean-treatment',\n",
    "       'median-control', 'median-treatment', 'standard_error-control',\n",
    "       'standard_error-treatment', 'std_dev-control', 'std_dev-treatment',\n",
    "       'p_value', 't_score', 'log2_foldchange']\n",
    "df['node_id'] = df['node_id'].astype(str)\n",
    "df.set_index('node_id',inplace=True,drop=True)\n",
    "df.head()\n",
    "G = nx.read_graphml('/global/cfs/cdirs/metatlas/projects/carbon_network/CarbonNetwork.graphml')\n",
    "g = df[cols].to_dict(orient='index')\n",
    "\n",
    "nx.set_node_attributes(G, g)\n",
    "nx.write_graphml(G,'carbon_network_withmetatlas_hits-brachy-syncom-yezhang.graphml')"
   ]
  }
 ],
 "metadata": {
  "kernelspec": {
   "display_name": "Python 3",
   "language": "python",
   "name": "python3"
  },
  "language_info": {
   "codemirror_mode": {
    "name": "ipython",
    "version": 3
   },
   "file_extension": ".py",
   "mimetype": "text/x-python",
   "name": "python",
   "nbconvert_exporter": "python",
   "pygments_lexer": "ipython3",
   "version": "3.8.18"
  }
 },
 "nbformat": 4,
 "nbformat_minor": 2
}
