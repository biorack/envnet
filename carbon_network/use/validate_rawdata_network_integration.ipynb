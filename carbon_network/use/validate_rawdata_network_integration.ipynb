{
 "cells": [
  {
   "cell_type": "markdown",
   "id": "9df259c2-d63a-4db4-88ae-8a0fc0390eb5",
   "metadata": {},
   "source": [
    "# Example Notebook For Associating Experimental Signals With The Carbon Network\n",
    "Prior to running this notebook, the CarbonNetwork graphml file must be present in the build folder"
   ]
  },
  {
   "cell_type": "code",
   "execution_count": 1,
   "id": "ed90f120-02d3-4d73-b797-fb04f141d8a4",
   "metadata": {
    "tags": []
   },
   "outputs": [
    {
     "name": "stderr",
     "output_type": "stream",
     "text": [
      "INFO:rdkit:Enabling RDKit 2023.09.1 jupyter extensions\n"
     ]
    }
   ],
   "source": [
    "import pandas as pd\n",
    "import numpy as np\n",
    "import glob as glob\n",
    "import matplotlib.pyplot as plt\n",
    "import networkx as nx\n",
    "import os\n",
    "import glob\n",
    "\n",
    "from typing import List, Tuple\n",
    "\n",
    "from tqdm.notebook import tqdm\n",
    "\n",
    "# replace with submodules\n",
    "import sys\n",
    "sys.path.insert(0,'/global/homes/b/bpb/repos/metatlas')\n",
    "from metatlas.io import feature_tools as ft\n",
    "\n",
    "\n",
    "import analysis_tools as at"
   ]
  },
  {
   "cell_type": "markdown",
   "id": "81e07a32-cc6e-4b34-9696-84cd9f7c0eb6",
   "metadata": {},
   "source": [
    "## Parameters\n",
    "The next code block sets parameters that are used throughout the remainder of the notebook."
   ]
  },
  {
   "cell_type": "code",
   "execution_count": 2,
   "id": "ee52eb21-0041-468a-bcc2-9d8bd7c4b5e1",
   "metadata": {
    "tags": []
   },
   "outputs": [],
   "source": [
    "# experiment directory\n",
    "## note: must follow Northen Lab file naming conventions and be converted to hdf5 format\n",
    "\n",
    "# tolerance in ppm between experimental signal and node mz\n",
    "mz_ppm_tolerance = 5\n",
    "peak_height_min = 1e4\n",
    "num_datapoints_min = 10\n",
    "# minimum MSMS score \n",
    "msms_score_min = 0.5\n",
    "\n",
    "# minimum MSMS matching ion count\n",
    "msms_matches_min = 3\n",
    "\n",
    "# retention time range in minutes for feature finding\n",
    "rt_range = [1, 700]\n",
    "\n",
    "# tolerance in daltons used for calculating MS/MS similarity scores\n",
    "frag_mz_tolerance = 0.05"
   ]
  },
  {
   "cell_type": "code",
   "execution_count": 17,
   "id": "5e44d300-6133-41f7-a144-d3b24c4d6f14",
   "metadata": {
    "tags": []
   },
   "outputs": [],
   "source": [
    "from importlib import reload\n",
    "at = reload(at)\n",
    "# max_ms1_data = at.get_best_ms1_rawdata(ms1_data,merged_node_data)\n",
    "# max_ms1_data"
   ]
  },
  {
   "cell_type": "code",
   "execution_count": 4,
   "id": "4c6bfdae",
   "metadata": {},
   "outputs": [
    {
     "name": "stderr",
     "output_type": "stream",
     "text": [
      "INFO:root:Processing original_spectra.mgf\n",
      "INFO:root:Processing nl_spectra.mgf\n"
     ]
    }
   ],
   "source": [
    "# collect and merge required data and metadata\n",
    "node_data = at.graph_to_df()\n",
    "node_atlas = at.make_node_atlas(node_data, rt_range)\n",
    "merged_node_data = at.merge_spectral_data(node_data)\n"
   ]
  },
  {
   "cell_type": "code",
   "execution_count": 5,
   "id": "3fc4efd7",
   "metadata": {},
   "outputs": [
    {
     "data": {
      "text/plain": [
       "['/pscratch/sd/b/bpb/massive/v01/MSV000089061/ccms_peak/raw_neg/Soil_F5C_neg.h5',\n",
       " '/pscratch/sd/b/bpb/massive/z01/MSV000088008/ccms_peak/RAW/NEG_MSMS_raw/DOM_Interlab-LCMS_Lab024_M_NEG_MS2_rep2.h5',\n",
       " '/pscratch/sd/b/bpb/massive/z01/MSV000088008/ccms_peak/RAW/NEG_MSMS_raw/DOM_Interlab-LCMS_Lab024_A5M_NEG_MS2_rep3.h5']"
      ]
     },
     "execution_count": 5,
     "metadata": {},
     "output_type": "execute_result"
    }
   ],
   "source": [
    "files = node_data['no_extension_basename'].value_counts().head(3).index.tolist()\n",
    "all_files = pd.read_csv('/global/cfs/cdirs/metatlas/projects/carbon_network/public_and_internal_files_with_massive_and_redu.tsv', sep='\\t')\n",
    "files = all_files[all_files['no_extension_basename'].isin(files)].sort_values('num_unique_spectra',ascending=False).drop_duplicates('no_extension_basename')\n",
    "files = files['h5'].tolist()\n",
    "\n",
    "files"
   ]
  },
  {
   "cell_type": "code",
   "execution_count": 8,
   "id": "ba8190e9-7497-4e0c-bc24-f2cf336ec2cf",
   "metadata": {
    "tags": []
   },
   "outputs": [
    {
     "data": {
      "application/vnd.jupyter.widget-view+json": {
       "model_id": "b96f91a2973e4a3b8a19e3207b6620d0",
       "version_major": 2,
       "version_minor": 0
      },
      "text/plain": [
       "  0%|          | 0/3 [00:00<?, ?file/s]"
      ]
     },
     "metadata": {},
     "output_type": "display_data"
    }
   ],
   "source": [
    "# get ms1 and ms2 data\n",
    "ms1_data = at.get_sample_ms1_data(node_atlas, files, mz_ppm_tolerance,peak_height_min,num_datapoints_min)\n",
    "max_ms1_data = at.get_best_ms1_rawdata(ms1_data,node_data)\n",
    "ms2_data = at.get_sample_ms2_data(files,merged_node_data,msms_score_min,msms_matches_min,mz_ppm_tolerance,frag_mz_tolerance)\n",
    "max_ms2_data = at.get_best_ms2_rawdata(ms2_data)\n",
    "best_hits = at.get_best_ms1_ms2_combined(max_ms1_data,max_ms2_data)\n",
    "\n"
   ]
  },
  {
   "cell_type": "code",
   "execution_count": 19,
   "id": "3cc4cb31",
   "metadata": {},
   "outputs": [
    {
     "data": {
      "text/html": [
       "<div>\n",
       "<style scoped>\n",
       "    .dataframe tbody tr th:only-of-type {\n",
       "        vertical-align: middle;\n",
       "    }\n",
       "\n",
       "    .dataframe tbody tr th {\n",
       "        vertical-align: top;\n",
       "    }\n",
       "\n",
       "    .dataframe thead th {\n",
       "        text-align: right;\n",
       "    }\n",
       "</style>\n",
       "<table border=\"1\" class=\"dataframe\">\n",
       "  <thead>\n",
       "    <tr style=\"text-align: right;\">\n",
       "      <th></th>\n",
       "      <th>node_id</th>\n",
       "      <th>num_datapoints</th>\n",
       "      <th>peak_area</th>\n",
       "      <th>peak_height</th>\n",
       "      <th>mz_centroid</th>\n",
       "      <th>rt_peak</th>\n",
       "      <th>lcmsrun_observed</th>\n",
       "      <th>precursor_mz</th>\n",
       "      <th>ppm_error</th>\n",
       "      <th>ms2_node_id</th>\n",
       "      <th>ms2_score</th>\n",
       "      <th>ms2_matches</th>\n",
       "      <th>ms2_lcmsrun_observed</th>\n",
       "    </tr>\n",
       "  </thead>\n",
       "  <tbody>\n",
       "    <tr>\n",
       "      <th>0</th>\n",
       "      <td>1448.0</td>\n",
       "      <td>445.0</td>\n",
       "      <td>1.737178e+08</td>\n",
       "      <td>4.277070e+06</td>\n",
       "      <td>255.160508</td>\n",
       "      <td>17.243446</td>\n",
       "      <td>/pscratch/sd/b/bpb/massive/z01/MSV000088008/cc...</td>\n",
       "      <td>255.15982</td>\n",
       "      <td>-2.693957</td>\n",
       "      <td>1448.0</td>\n",
       "      <td>1.500329</td>\n",
       "      <td>120.0</td>\n",
       "      <td>/pscratch/sd/b/bpb/massive/v01/MSV000089061/cc...</td>\n",
       "    </tr>\n",
       "    <tr>\n",
       "      <th>1</th>\n",
       "      <td>64.0</td>\n",
       "      <td>817.0</td>\n",
       "      <td>9.289505e+07</td>\n",
       "      <td>3.542237e+06</td>\n",
       "      <td>177.055032</td>\n",
       "      <td>3.239237</td>\n",
       "      <td>/pscratch/sd/b/bpb/massive/v01/MSV000089061/cc...</td>\n",
       "      <td>177.055106</td>\n",
       "      <td>0.423123</td>\n",
       "      <td>64.0</td>\n",
       "      <td>1.453142</td>\n",
       "      <td>87.0</td>\n",
       "      <td>/pscratch/sd/b/bpb/massive/z01/MSV000088008/cc...</td>\n",
       "    </tr>\n",
       "    <tr>\n",
       "      <th>2</th>\n",
       "      <td>43.0</td>\n",
       "      <td>593.0</td>\n",
       "      <td>1.919725e+08</td>\n",
       "      <td>2.533967e+07</td>\n",
       "      <td>277.144841</td>\n",
       "      <td>20.541883</td>\n",
       "      <td>/pscratch/sd/b/bpb/massive/z01/MSV000088008/cc...</td>\n",
       "      <td>277.144094</td>\n",
       "      <td>-2.695288</td>\n",
       "      <td>43.0</td>\n",
       "      <td>1.419878</td>\n",
       "      <td>185.0</td>\n",
       "      <td>/pscratch/sd/b/bpb/massive/v01/MSV000089061/cc...</td>\n",
       "    </tr>\n",
       "    <tr>\n",
       "      <th>3</th>\n",
       "      <td>38.0</td>\n",
       "      <td>991.0</td>\n",
       "      <td>1.728318e+08</td>\n",
       "      <td>6.289111e+06</td>\n",
       "      <td>165.056041</td>\n",
       "      <td>14.989144</td>\n",
       "      <td>/pscratch/sd/b/bpb/massive/z01/MSV000088008/cc...</td>\n",
       "      <td>165.055723</td>\n",
       "      <td>-1.929570</td>\n",
       "      <td>38.0</td>\n",
       "      <td>1.222284</td>\n",
       "      <td>4.0</td>\n",
       "      <td>/pscratch/sd/b/bpb/massive/z01/MSV000088008/cc...</td>\n",
       "    </tr>\n",
       "    <tr>\n",
       "      <th>4</th>\n",
       "      <td>9.0</td>\n",
       "      <td>1981.0</td>\n",
       "      <td>7.480138e+08</td>\n",
       "      <td>1.689511e+07</td>\n",
       "      <td>165.019687</td>\n",
       "      <td>9.229259</td>\n",
       "      <td>/pscratch/sd/b/bpb/massive/z01/MSV000088008/cc...</td>\n",
       "      <td>165.019346</td>\n",
       "      <td>-2.068167</td>\n",
       "      <td>9.0</td>\n",
       "      <td>1.018468</td>\n",
       "      <td>5.0</td>\n",
       "      <td>/pscratch/sd/b/bpb/massive/z01/MSV000088008/cc...</td>\n",
       "    </tr>\n",
       "    <tr>\n",
       "      <th>...</th>\n",
       "      <td>...</td>\n",
       "      <td>...</td>\n",
       "      <td>...</td>\n",
       "      <td>...</td>\n",
       "      <td>...</td>\n",
       "      <td>...</td>\n",
       "      <td>...</td>\n",
       "      <td>...</td>\n",
       "      <td>...</td>\n",
       "      <td>...</td>\n",
       "      <td>...</td>\n",
       "      <td>...</td>\n",
       "      <td>...</td>\n",
       "    </tr>\n",
       "    <tr>\n",
       "      <th>5805</th>\n",
       "      <td>3872.0</td>\n",
       "      <td>152.0</td>\n",
       "      <td>8.280619e+05</td>\n",
       "      <td>1.235276e+04</td>\n",
       "      <td>300.030083</td>\n",
       "      <td>15.107903</td>\n",
       "      <td>/pscratch/sd/b/bpb/massive/v01/MSV000089061/cc...</td>\n",
       "      <td>300.029793</td>\n",
       "      <td>-0.966513</td>\n",
       "      <td>&lt;NA&gt;</td>\n",
       "      <td>NaN</td>\n",
       "      <td>NaN</td>\n",
       "      <td>&lt;NA&gt;</td>\n",
       "    </tr>\n",
       "    <tr>\n",
       "      <th>5806</th>\n",
       "      <td>4434.0</td>\n",
       "      <td>111.0</td>\n",
       "      <td>5.213050e+05</td>\n",
       "      <td>1.234622e+04</td>\n",
       "      <td>290.932206</td>\n",
       "      <td>15.186124</td>\n",
       "      <td>/pscratch/sd/b/bpb/massive/v01/MSV000089061/cc...</td>\n",
       "      <td>290.933515</td>\n",
       "      <td>4.499181</td>\n",
       "      <td>&lt;NA&gt;</td>\n",
       "      <td>NaN</td>\n",
       "      <td>NaN</td>\n",
       "      <td>&lt;NA&gt;</td>\n",
       "    </tr>\n",
       "    <tr>\n",
       "      <th>5807</th>\n",
       "      <td>4449.0</td>\n",
       "      <td>130.0</td>\n",
       "      <td>4.921063e+05</td>\n",
       "      <td>1.226270e+04</td>\n",
       "      <td>166.026488</td>\n",
       "      <td>1.384729</td>\n",
       "      <td>/pscratch/sd/b/bpb/massive/v01/MSV000089061/cc...</td>\n",
       "      <td>166.026219</td>\n",
       "      <td>-1.620694</td>\n",
       "      <td>&lt;NA&gt;</td>\n",
       "      <td>NaN</td>\n",
       "      <td>NaN</td>\n",
       "      <td>&lt;NA&gt;</td>\n",
       "    </tr>\n",
       "    <tr>\n",
       "      <th>5808</th>\n",
       "      <td>1878.0</td>\n",
       "      <td>41.0</td>\n",
       "      <td>8.807930e+04</td>\n",
       "      <td>1.106410e+04</td>\n",
       "      <td>210.004099</td>\n",
       "      <td>2.321516</td>\n",
       "      <td>/pscratch/sd/b/bpb/massive/v01/MSV000089061/cc...</td>\n",
       "      <td>210.003553</td>\n",
       "      <td>-2.600824</td>\n",
       "      <td>&lt;NA&gt;</td>\n",
       "      <td>NaN</td>\n",
       "      <td>NaN</td>\n",
       "      <td>&lt;NA&gt;</td>\n",
       "    </tr>\n",
       "    <tr>\n",
       "      <th>5809</th>\n",
       "      <td>4821.0</td>\n",
       "      <td>124.0</td>\n",
       "      <td>4.258859e+05</td>\n",
       "      <td>1.038637e+04</td>\n",
       "      <td>181.061231</td>\n",
       "      <td>1.370514</td>\n",
       "      <td>/pscratch/sd/b/bpb/massive/v01/MSV000089061/cc...</td>\n",
       "      <td>181.061157</td>\n",
       "      <td>-0.405655</td>\n",
       "      <td>&lt;NA&gt;</td>\n",
       "      <td>NaN</td>\n",
       "      <td>NaN</td>\n",
       "      <td>&lt;NA&gt;</td>\n",
       "    </tr>\n",
       "  </tbody>\n",
       "</table>\n",
       "<p>5810 rows × 13 columns</p>\n",
       "</div>"
      ],
      "text/plain": [
       "     node_id  num_datapoints     peak_area   peak_height  mz_centroid  \\\n",
       "0     1448.0           445.0  1.737178e+08  4.277070e+06   255.160508   \n",
       "1       64.0           817.0  9.289505e+07  3.542237e+06   177.055032   \n",
       "2       43.0           593.0  1.919725e+08  2.533967e+07   277.144841   \n",
       "3       38.0           991.0  1.728318e+08  6.289111e+06   165.056041   \n",
       "4        9.0          1981.0  7.480138e+08  1.689511e+07   165.019687   \n",
       "...      ...             ...           ...           ...          ...   \n",
       "5805  3872.0           152.0  8.280619e+05  1.235276e+04   300.030083   \n",
       "5806  4434.0           111.0  5.213050e+05  1.234622e+04   290.932206   \n",
       "5807  4449.0           130.0  4.921063e+05  1.226270e+04   166.026488   \n",
       "5808  1878.0            41.0  8.807930e+04  1.106410e+04   210.004099   \n",
       "5809  4821.0           124.0  4.258859e+05  1.038637e+04   181.061231   \n",
       "\n",
       "        rt_peak                                   lcmsrun_observed  \\\n",
       "0     17.243446  /pscratch/sd/b/bpb/massive/z01/MSV000088008/cc...   \n",
       "1      3.239237  /pscratch/sd/b/bpb/massive/v01/MSV000089061/cc...   \n",
       "2     20.541883  /pscratch/sd/b/bpb/massive/z01/MSV000088008/cc...   \n",
       "3     14.989144  /pscratch/sd/b/bpb/massive/z01/MSV000088008/cc...   \n",
       "4      9.229259  /pscratch/sd/b/bpb/massive/z01/MSV000088008/cc...   \n",
       "...         ...                                                ...   \n",
       "5805  15.107903  /pscratch/sd/b/bpb/massive/v01/MSV000089061/cc...   \n",
       "5806  15.186124  /pscratch/sd/b/bpb/massive/v01/MSV000089061/cc...   \n",
       "5807   1.384729  /pscratch/sd/b/bpb/massive/v01/MSV000089061/cc...   \n",
       "5808   2.321516  /pscratch/sd/b/bpb/massive/v01/MSV000089061/cc...   \n",
       "5809   1.370514  /pscratch/sd/b/bpb/massive/v01/MSV000089061/cc...   \n",
       "\n",
       "     precursor_mz  ppm_error ms2_node_id  ms2_score  ms2_matches  \\\n",
       "0       255.15982  -2.693957      1448.0   1.500329        120.0   \n",
       "1      177.055106   0.423123        64.0   1.453142         87.0   \n",
       "2      277.144094  -2.695288        43.0   1.419878        185.0   \n",
       "3      165.055723  -1.929570        38.0   1.222284          4.0   \n",
       "4      165.019346  -2.068167         9.0   1.018468          5.0   \n",
       "...           ...        ...         ...        ...          ...   \n",
       "5805   300.029793  -0.966513        <NA>        NaN          NaN   \n",
       "5806   290.933515   4.499181        <NA>        NaN          NaN   \n",
       "5807   166.026219  -1.620694        <NA>        NaN          NaN   \n",
       "5808   210.003553  -2.600824        <NA>        NaN          NaN   \n",
       "5809   181.061157  -0.405655        <NA>        NaN          NaN   \n",
       "\n",
       "                                   ms2_lcmsrun_observed  \n",
       "0     /pscratch/sd/b/bpb/massive/v01/MSV000089061/cc...  \n",
       "1     /pscratch/sd/b/bpb/massive/z01/MSV000088008/cc...  \n",
       "2     /pscratch/sd/b/bpb/massive/v01/MSV000089061/cc...  \n",
       "3     /pscratch/sd/b/bpb/massive/z01/MSV000088008/cc...  \n",
       "4     /pscratch/sd/b/bpb/massive/z01/MSV000088008/cc...  \n",
       "...                                                 ...  \n",
       "5805                                               <NA>  \n",
       "5806                                               <NA>  \n",
       "5807                                               <NA>  \n",
       "5808                                               <NA>  \n",
       "5809                                               <NA>  \n",
       "\n",
       "[5810 rows x 13 columns]"
      ]
     },
     "execution_count": 19,
     "metadata": {},
     "output_type": "execute_result"
    }
   ],
   "source": [
    "best_hits\n"
   ]
  },
  {
   "cell_type": "code",
   "execution_count": null,
   "id": "adcc81ee-f48a-428a-aef8-7eb4f044cbfb",
   "metadata": {
    "tags": []
   },
   "outputs": [],
   "source": [
    "max_ms1_data"
   ]
  },
  {
   "cell_type": "code",
   "execution_count": null,
   "id": "1fa5ed0d-db44-4fc6-91b2-a011c48633b1",
   "metadata": {},
   "outputs": [],
   "source": []
  }
 ],
 "metadata": {
  "kernelspec": {
   "display_name": "Python 3",
   "language": "python",
   "name": "python3"
  },
  "language_info": {
   "codemirror_mode": {
    "name": "ipython",
    "version": 3
   },
   "file_extension": ".py",
   "mimetype": "text/x-python",
   "name": "python",
   "nbconvert_exporter": "python",
   "pygments_lexer": "ipython3",
   "version": "3.8.18"
  }
 },
 "nbformat": 4,
 "nbformat_minor": 5
}
