{
 "cells": [
  {
   "cell_type": "code",
   "execution_count": null,
   "metadata": {
    "tags": []
   },
   "outputs": [],
   "source": [
    "import pandas as pd\n",
    "import numpy as np\n",
    "import glob as glob\n",
    "import os\n",
    "import sys\n",
    "import matplotlib.pyplot as plt\n",
    "import networkx as nx\n",
    "import pingouin as pg\n",
    "import seaborn as sns\n",
    "\n",
    "import pandas as pd\n",
    "import numpy as np\n",
    "import glob as glob\n",
    "import matplotlib.pyplot as plt\n",
    "import networkx as nx\n",
    "import os\n",
    "import glob\n",
    "\n",
    "# sys.path.insert(0,'../')\n",
    "import analysis_tools as at"
   ]
  },
  {
   "cell_type": "code",
   "execution_count": null,
   "metadata": {
    "tags": []
   },
   "outputs": [],
   "source": [
    "# experiment directory\n",
    "## note: must follow JGI file naming conventions and be converted to hdf5 format\n",
    "\n",
    "exp_dir = '/global/cfs/cdirs/metatlas/raw_data/egsb/20231018_EB_MdR_109570-002_WAVEstab_20231017_EXP120A_C18-EP_USDAY72349_vols'\n",
    "group_control = 'supern-WAVE-NatCom-NLDM-Day0'\n",
    "group_treatment = 'supern-WAVE-NatCom-NLDM-Day7'\n",
    "my_groups = {'control':group_control,'treatment':group_treatment}\n",
    "experiment_name = 'wavestab1'\n",
    "output_filename = f'OUTPUT_{experiment_name}_{group_treatment}-vs-{group_control}.csv'\n",
    "\n",
    "# tolerance in ppm between experimental signal and node mz\n",
    "mz_ppm_tolerance = 5\n",
    "peak_height_min = 1e4\n",
    "num_datapoints_min = 10\n",
    "# minimum MSMS score \n",
    "msms_score_min = 0.5\n",
    "\n",
    "# minimum MSMS matching ion count\n",
    "msms_matches_min = 3\n",
    "\n",
    "# retention time range in minutes for feature finding\n",
    "rt_range = [1, 700]\n",
    "\n",
    "# tolerance in daltons used for calculating MS/MS similarity scores\n",
    "frag_mz_tolerance = 0.05\n",
    "\n",
    "# combine all parameters into a single dictionary and export to a file\n",
    "params = {'mz_ppm_tolerance':mz_ppm_tolerance,\n",
    "          'peak_height_min':peak_height_min,\n",
    "          'num_datapoints_min':num_datapoints_min,\n",
    "          'msms_score_min':msms_score_min,\n",
    "          'msms_matches_min':msms_matches_min,\n",
    "          'rt_range':rt_range,\n",
    "          'frag_mz_tolerance':frag_mz_tolerance}\n",
    "\n",
    "params['exp_dir'] = exp_dir\n",
    "params['my_groups'] = my_groups\n",
    "params['output_filename'] = output_filename\n",
    "\n",
    "with open(output_filename.replace('.csv','.params'),'w') as f:\n",
    "    for key in params.keys():\n",
    "        f.write(\"%s: %s\\n\"%(key,params[key]))"
   ]
  },
  {
   "cell_type": "code",
   "execution_count": null,
   "metadata": {
    "tags": []
   },
   "outputs": [],
   "source": [
    "# collect and merge required data and metadata\n",
    "\n",
    "node_data = at.graph_to_df()\n",
    "node_atlas = at.make_node_atlas(node_data, rt_range)\n",
    "merged_node_data = at.merge_spectral_data(node_data)\n",
    "files_data = at.get_files_df(exp_dir,parse_filename=True,groups=my_groups)\n",
    "files = files_data['filename'].tolist()\n",
    "\n",
    "cols = ['inchi_key_identity','smiles_identity']\n",
    "data = node_data[cols].copy()\n",
    "data.drop_duplicates('inchi_key_identity',inplace=True)\n",
    "data = data[pd.notna(data['inchi_key_identity'])]\n",
    "data.rename(columns={'inchi_key_identity':'inchi_key','smiles_identity':'smiles'},inplace=True)\n",
    "data.head()\n",
    "# sys.path.insert(0,'.')\n",
    "from get_compound_descriptors import calc_descriptor_df\n",
    "# from importlib import reload\n",
    "# gcd = reload(gcd)\n",
    "data = calc_descriptor_df(data)"
   ]
  },
  {
   "cell_type": "code",
   "execution_count": null,
   "metadata": {
    "tags": []
   },
   "outputs": [],
   "source": [
    "mzml_files = [file.replace('h5', 'mzML') for file in files]\n",
    "files = mzml_files"
   ]
  },
  {
   "cell_type": "code",
   "execution_count": null,
   "metadata": {
    "tags": []
   },
   "outputs": [],
   "source": [
    "files_data['filename'] = files"
   ]
  },
  {
   "cell_type": "code",
   "execution_count": null,
   "metadata": {
    "tags": []
   },
   "outputs": [],
   "source": [
    "# get ms1 and ms2 data\n",
    "ms1_data = at.get_sample_ms1_data(node_atlas, files, mz_ppm_tolerance,peak_height_min,num_datapoints_min)\n",
    "max_ms1_data = at.get_best_ms1_rawdata(ms1_data,node_data)\n",
    "ms2_data = at.get_sample_ms2_data(files,merged_node_data,msms_score_min,msms_matches_min,mz_ppm_tolerance,frag_mz_tolerance)\n",
    "max_ms2_data = at.get_best_ms2_rawdata(pd.concat(ms2_data))\n",
    "best_hits = at.get_best_ms1_ms2_combined(max_ms1_data,max_ms2_data)\n",
    "\n",
    "stats_df = at.do_basic_stats(ms1_data,files_data)\n",
    "output_df = at.make_output_df(node_data,best_hits,stats_df,filename=output_filename)"
   ]
  },
  {
   "cell_type": "code",
   "execution_count": null,
   "metadata": {
    "tags": []
   },
   "outputs": [],
   "source": [
    "stats_df"
   ]
  },
  {
   "cell_type": "code",
   "execution_count": null,
   "metadata": {},
   "outputs": [],
   "source": [
    "cols = ['inchi_key_identity','log2_foldchange','p_value']\n",
    "d = output_df[cols]\n",
    "d = d[pd.notna(d['inchi_key_identity'])]\n",
    "d = d[pd.notna(d['log2_foldchange'])]\n",
    "d = d[d['p_value'] < 0.05]\n",
    "d = pd.merge(d,data,left_on='inchi_key_identity',right_on='inchikey',how='inner')\n",
    "cols = [c for c in d.columns if c.startswith('property')]\n",
    "for c in cols:\n",
    "    d[c] = d[c].astype(float)\n",
    "    x = d['log2_foldchange']\n",
    "    y = d[c]\n",
    "    idx = pd.notna(x) & pd.notna(y)\n",
    "    corr = pg.corr(x[idx],y[idx])\n",
    "    r = corr[\"r\"].values[0]\n",
    "    p = corr[\"p-val\"].values[0]\n",
    "    if abs(r) > 0.04 and p < 0.05:\n",
    "        print(f'{c}: r={corr[\"r\"].values[0]:.2f}, p={corr[\"p-val\"].values[0]:.2e}')\n",
    "    \n",
    "    # print(f'{c}: r={r:.2f}, p={p:.2e}')\n"
   ]
  },
  {
   "cell_type": "code",
   "execution_count": null,
   "metadata": {},
   "outputs": [],
   "source": [
    "my_prop = 'property: hallKierAlpha'\n",
    "x = d['log2_foldchange']\n",
    "y = d[my_prop]\n",
    "idx = pd.notna(x) & pd.notna(y)\n",
    "x = x[idx]\n",
    "y = y[idx]\n",
    "idx = x > 0 # not eaten?    \n",
    "fig,ax = plt.subplots()\n",
    "bins = np.linspace(y.min(),y.max(),20)\n",
    "sns.histplot(y[idx],ax=ax,bins=bins,label='Increased')\n",
    "idx = x < 0 #eaten?\n",
    "sns.histplot(y[idx],ax=ax,bins=bins,label='Decreased')\n",
    "plt.legend()\n"
   ]
  },
  {
   "cell_type": "code",
   "execution_count": null,
   "metadata": {},
   "outputs": [],
   "source": [
    "df1 = pd.read_csv('OUTPUT_wavestab1_supern-WAVE-NatCom-NLDM-Day7-vs-supern-WAVE-NatCom-NLDM-Day0.csv')\n",
    "df2 = pd.read_csv('OUTPUT_wavestab3_supern-CentExp-OMT1d2-NatCom-d7-NA-vs-supern-CentExp-OMT1d2-Sterile-d0-NA.csv')\n",
    "df1 = df1[df1['p_value']>0.05]\n",
    "df2 = df2[df2['p_value']>0.05]\n",
    "df1 = df1[abs(df1['log2_foldchange'])<0.25]\n",
    "df2 = df2[abs(df2['log2_foldchange'])<0.25]\n",
    "df1 = df1[df1['ms2_matches']>0]\n",
    "df2 = df2[df2['ms2_matches']>0]\n",
    "nodes = list(set(df1['node_id'].tolist()) & set(df2['node_id'].tolist()))\n",
    "smiles = df1.loc[df1['node_id'].isin(nodes),'smiles_identity'].unique()\n",
    "from rdkit import Chem\n",
    "from rdkit.Chem import Draw\n",
    "\n",
    "mols = [Chem.MolFromSmiles(s) for s in smiles]\n",
    "Draw.MolsToGridImage(mols, molsPerRow=4)"
   ]
  },
  {
   "cell_type": "code",
   "execution_count": null,
   "metadata": {},
   "outputs": [],
   "source": [
    "df1.columns"
   ]
  },
  {
   "cell_type": "code",
   "execution_count": null,
   "metadata": {},
   "outputs": [],
   "source": [
    "\n",
    "\n"
   ]
  },
  {
   "cell_type": "code",
   "execution_count": null,
   "metadata": {},
   "outputs": [],
   "source": []
  }
 ],
 "metadata": {
  "kernelspec": {
   "display_name": "MSBuddy",
   "language": "python",
   "name": "msbuddy"
  },
  "language_info": {
   "codemirror_mode": {
    "name": "ipython",
    "version": 3
   },
   "file_extension": ".py",
   "mimetype": "text/x-python",
   "name": "python",
   "nbconvert_exporter": "python",
   "pygments_lexer": "ipython3",
   "version": "3.8.18"
  }
 },
 "nbformat": 4,
 "nbformat_minor": 4
}
