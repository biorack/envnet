{
 "cells": [
  {
   "cell_type": "markdown",
   "id": "9df259c2-d63a-4db4-88ae-8a0fc0390eb5",
   "metadata": {},
   "source": [
    "# Example Notebook For Associating Experimental Signals With The Carbon Network\n",
    "Prior to running this notebook, the CarbonNetwork graphml file must be present in the build folder"
   ]
  },
  {
   "cell_type": "code",
   "execution_count": null,
   "id": "ed90f120-02d3-4d73-b797-fb04f141d8a4",
   "metadata": {
    "tags": []
   },
   "outputs": [],
   "source": [
    "import pandas as pd\n",
    "import numpy as np\n",
    "import glob as glob\n",
    "import matplotlib.pyplot as plt\n",
    "import networkx as nx\n",
    "import os\n",
    "import glob\n",
    "\n",
    "from typing import List, Tuple\n",
    "\n",
    "from tqdm.notebook import tqdm\n",
    "\n",
    "# replace with submodules\n",
    "import sys\n",
    "sys.path.insert(0,'/global/homes/t/tharwood/repos/metatlas')\n",
    "from metatlas.io import feature_tools as ft\n",
    "sys.path.insert(0,'/global/homes/t/tharwood/repos/blink')\n",
    "import blink\n",
    "\n",
    "import analysis_tools as at"
   ]
  },
  {
   "cell_type": "markdown",
   "id": "81e07a32-cc6e-4b34-9696-84cd9f7c0eb6",
   "metadata": {},
   "source": [
    "## Parameters\n",
    "The next code block sets parameters that are used throughout the remainder of the notebook."
   ]
  },
  {
   "cell_type": "code",
   "execution_count": null,
   "id": "ee52eb21-0041-468a-bcc2-9d8bd7c4b5e1",
   "metadata": {
    "tags": []
   },
   "outputs": [],
   "source": [
    "# experiment directory\n",
    "## note: must follow Northen Lab file naming conventions and be converted to hdf5 format\n",
    "exp_dir = '/global/cfs/cdirs/metatlas/raw_data/egsb/20231113_EB_SMK_107002-011_CenturyExp_20230414_EXP120A_C18-EP_USDAY72349'\n",
    "\n",
    "# tolerance in ppm between experimental signal and node mz\n",
    "mz_ppm_tolerance = 4\n",
    "\n",
    "# minimum MSMS score \n",
    "msms_score_min = 0.5\n",
    "\n",
    "# minimum MSMS matching ion count\n",
    "msms_matches_min = 3\n",
    "\n",
    "# retention time range in minutes for feature finding\n",
    "rt_range = [1, 7]\n",
    "\n",
    "# tolerance in daltons used for calculating MS/MS similarity scores\n",
    "frag_mz_tolerance = 0.05"
   ]
  },
  {
   "cell_type": "code",
   "execution_count": null,
   "id": "535bc471-721c-491a-9664-e8ed1f752593",
   "metadata": {
    "tags": []
   },
   "outputs": [],
   "source": [
    "# collect and merge required data and metadata\n",
    "node_data = at.graph_to_df()\n",
    "node_atlas = at.make_node_atlas(node_data, rt_range)\n",
    "merged_node_data = at.merge_spectral_data(node_data)\n",
    "files_data = at.get_files_df(exp_dir)"
   ]
  },
  {
   "cell_type": "code",
   "execution_count": null,
   "id": "5ba67514-162d-4630-ada8-efef8c111e5c",
   "metadata": {
    "tags": []
   },
   "outputs": [],
   "source": [
    "# for testing purposes for faster runtime, remove later\n",
    "files = files_data['filename'].tolist()[:10]"
   ]
  },
  {
   "cell_type": "code",
   "execution_count": null,
   "id": "ba8190e9-7497-4e0c-bc24-f2cf336ec2cf",
   "metadata": {
    "tags": []
   },
   "outputs": [],
   "source": [
    "# get ms1 and ms2 data\n",
    "ms1_data = at.get_sample_ms1_data(node_atlas, files, mz_ppm_tolerance)\n",
    "ms2_data = at.get_sample_ms2_data(files)"
   ]
  },
  {
   "cell_type": "code",
   "execution_count": null,
   "id": "0c748ae8-7062-4d99-9101-6fab65aa7f20",
   "metadata": {
    "tags": []
   },
   "outputs": [],
   "source": []
  },
  {
   "cell_type": "code",
   "execution_count": null,
   "id": "a263b19c-152d-42d5-b999-dbd442264ba7",
   "metadata": {
    "tags": []
   },
   "outputs": [],
   "source": [
    "ms2_data['nl_spectrum'] = ms2_data.apply(lambda x: np.array([x.mdm_mz_vals, x.mdm_i_vals]), axis=1)\n",
    "ms2_data['original_spectrum'] = ms2_data.apply(lambda x: np.array([x.original_mz_vals, x.original_i_vals]), axis=1)"
   ]
  },
  {
   "cell_type": "code",
   "execution_count": null,
   "id": "a83057c5-7ee2-4fc9-94f8-d2eda6bfaffa",
   "metadata": {
    "tags": []
   },
   "outputs": [],
   "source": [
    "all_pmzs = np.array(ms2_data['precursor_mz'].tolist() + merged_node_data['precursor_mz'].tolist())\n",
    "all_pmzs.sort()\n",
    "\n",
    "all_pmz_groups = ft.group_consecutive(all_pmzs)\n",
    "\n",
    "pmz_group_key = dict(zip(all_pmzs, all_pmz_groups))"
   ]
  },
  {
   "cell_type": "code",
   "execution_count": null,
   "id": "12d8a175-c82a-446c-9316-13bf8edeea28",
   "metadata": {
    "tags": []
   },
   "outputs": [],
   "source": [
    "ms2_data['group_idx'] = ms2_data['precursor_mz'].apply(lambda x: pmz_group_key[x])\n",
    "merged_node_data['group_idx'] = merged_node_data['precursor_mz'].apply(lambda x: pmz_group_key[x])"
   ]
  },
  {
   "cell_type": "code",
   "execution_count": null,
   "id": "67295b7e-87ed-4a2e-8250-64be6f2b4417",
   "metadata": {
    "tags": []
   },
   "outputs": [],
   "source": [
    "ms2_and_node_data = pd.merge(ms2_data.rename(columns={'precursor_mz': 'data_calc_precursor_mz'}), \n",
    "                             merged_node_data[['group_idx', 'node_id', 'precursor_mz', 'spectrum_original_spectra', 'spectrum_nl_spectra']], on='group_idx')"
   ]
  },
  {
   "cell_type": "code",
   "execution_count": null,
   "id": "34370eaf-abe3-4121-87c3-98228a9a5c0f",
   "metadata": {
    "tags": []
   },
   "outputs": [],
   "source": [
    "nl_data_spectra = ms2_and_node_data['nl_spectrum'].tolist()\n",
    "nl_ref_spectra = ms2_and_node_data['spectrum_nl_spectra'].tolist()\n",
    "\n",
    "or_data_spectra = ms2_and_node_data['original_spectrum']\n",
    "or_ref_spectra = ms2_and_node_data['spectrum_original_spectra'].tolist()\n",
    "\n",
    "data_pmzs = ms2_and_node_data['data_calc_precursor_mz'].tolist()\n",
    "ref_pmzs = ms2_and_node_data['precursor_mz'].tolist()"
   ]
  },
  {
   "cell_type": "code",
   "execution_count": null,
   "id": "39ccd53a-00ee-4996-9102-8f479e3f5bbd",
   "metadata": {
    "tags": []
   },
   "outputs": [],
   "source": [
    "discretized_spectra = blink.discretize_spectra(nl_data_spectra, nl_ref_spectra, data_pmzs,  ref_pmzs,\n",
    "                                         bin_width=0.001, tolerance=frag_mz_tolerance, intensity_power=0.5, trim_empty=False, remove_duplicates=False, network_score=False)\n",
    "\n",
    "S12 = blink.score_sparse_spectra(discretized_spectra)\n",
    "m = blink.reformat_score_matrix(S12)"
   ]
  },
  {
   "cell_type": "code",
   "execution_count": null,
   "id": "1c7e5677-2f9b-4267-9830-7ff30f3d6451",
   "metadata": {
    "tags": []
   },
   "outputs": [],
   "source": [
    "ms2_and_node_data['nl_blink_score'] = np.diag(S12['mzi'].toarray())\n",
    "ms2_and_node_data['nl_matches'] = np.diag(S12['mzc'].toarray())"
   ]
  },
  {
   "cell_type": "code",
   "execution_count": null,
   "id": "16bc6e76-746d-48e2-ab00-d50c0899b483",
   "metadata": {
    "tags": []
   },
   "outputs": [],
   "source": [
    "discretized_spectra = blink.discretize_spectra(or_data_spectra, or_ref_spectra, data_pmzs,  ref_pmzs,\n",
    "                                         bin_width=0.001, tolerance=frag_mz_tolerance, intensity_power=0.5, trim_empty=False, remove_duplicates=False, network_score=False)\n",
    "\n",
    "S12 = blink.score_sparse_spectra(discretized_spectra)\n",
    "m = blink.reformat_score_matrix(S12)"
   ]
  },
  {
   "cell_type": "code",
   "execution_count": null,
   "id": "1db1e6f2-1ac6-444e-9b88-c3f9a567cb0a",
   "metadata": {
    "tags": []
   },
   "outputs": [],
   "source": [
    "ms2_and_node_data['or_blink_score'] = np.diag(S12['mzi'].toarray())\n",
    "ms2_and_node_data['or_matches'] = np.diag(S12['mzc'].toarray())"
   ]
  },
  {
   "cell_type": "code",
   "execution_count": null,
   "id": "3c4803ee-b2fe-43fc-b7f3-166852504681",
   "metadata": {
    "tags": []
   },
   "outputs": [],
   "source": [
    "ms2_and_node_data"
   ]
  },
  {
   "cell_type": "code",
   "execution_count": null,
   "id": "adcc81ee-f48a-428a-aef8-7eb4f044cbfb",
   "metadata": {
    "tags": []
   },
   "outputs": [],
   "source": [
    "ms1_data"
   ]
  },
  {
   "cell_type": "code",
   "execution_count": null,
   "id": "0eecbf08-7bf5-4bc4-abf6-e507665961b1",
   "metadata": {
    "tags": []
   },
   "outputs": [],
   "source": [
    "ms1_data = ms1_data.astype({'label': 'string', 'lcmsrun_observed': 'string'})"
   ]
  },
  {
   "cell_type": "code",
   "execution_count": null,
   "id": "f664c6fd-8126-461c-9b8d-6dce3e11daf9",
   "metadata": {
    "tags": []
   },
   "outputs": [],
   "source": [
    "max_ms1_data = ms1_data.sort_values('peak_height', ascending=False).drop_duplicates(subset='label').rename(columns={'label': 'node_id'})"
   ]
  },
  {
   "cell_type": "code",
   "execution_count": null,
   "id": "7c20c963-f6bc-4837-b684-8c2e0fe28d8f",
   "metadata": {
    "tags": []
   },
   "outputs": [],
   "source": [
    "# max_ms1_data = pd.merge(max_ms1_data.rename(columns={'label': 'node_id'}), node_data[['node_id', 'precursor_mz']], on='node_id')\n",
    "# max_ms1_data['ppm_error'] = max_ms1_data.apply(lambda x: ((x.precursor_mz - x.mz_centroid) / x.precursor_mz) * 1000000, axis=1)"
   ]
  },
  {
   "cell_type": "code",
   "execution_count": null,
   "id": "620373a9-a3cb-419c-ac7c-0a2af401795c",
   "metadata": {
    "tags": []
   },
   "outputs": [],
   "source": [
    "max_ms2_data = ms2_and_node_data.sort_values(['nl_blink_score', 'or_blink_score'], ascending=False\n",
    "                                            ).drop_duplicates(subset='node_id'\n",
    "                                            ).rename(columns={'filename': 'lcmsrun_observed'}\n",
    "                                            )[['node_id', 'nl_blink_score', 'nl_matches', 'or_blink_score', 'nl_matches', 'or_matches', 'lcmsrun_observed']]"
   ]
  },
  {
   "cell_type": "code",
   "execution_count": null,
   "id": "b97b937e-def7-424c-9477-414dd0343469",
   "metadata": {
    "tags": []
   },
   "outputs": [],
   "source": [
    "max_ms2_data.columns"
   ]
  },
  {
   "cell_type": "code",
   "execution_count": null,
   "id": "be79ccc6-7d95-4e0d-bfbd-5636ea41d2b5",
   "metadata": {
    "tags": []
   },
   "outputs": [],
   "source": [
    "max_ms2_data['max_blink_score'] = max_ms2_data[['nl_blink_score', 'or_blink_score']].max(axis=1)\n",
    "max_ms2_data['max_matches'] = max_ms2_data[['nl_matches', 'or_matches']].max(axis=1)\n",
    "\n",
    "max_ms2_data = max_ms2_data[(max_ms2_data['max_blink_score']>=msms_score_min) & (max_ms2_data['max_matches']>=msms_matches_min)]"
   ]
  },
  {
   "cell_type": "code",
   "execution_count": null,
   "id": "08dab6d9-21e8-42c4-a970-9202274242b9",
   "metadata": {
    "tags": []
   },
   "outputs": [],
   "source": [
    "max_ms1_data"
   ]
  },
  {
   "cell_type": "code",
   "execution_count": null,
   "id": "bae436a0-8562-4aa7-b820-b9d4d096c7e8",
   "metadata": {
    "tags": []
   },
   "outputs": [],
   "source": [
    "max_ms2_data"
   ]
  },
  {
   "cell_type": "code",
   "execution_count": null,
   "id": "fc6defd0-3069-4e09-b23f-a5bbd4638593",
   "metadata": {
    "tags": []
   },
   "outputs": [],
   "source": [
    "ms1_data"
   ]
  },
  {
   "cell_type": "code",
   "execution_count": null,
   "id": "312f83ef-1fe5-43f0-b9df-e86ff8d2229a",
   "metadata": {},
   "outputs": [],
   "source": []
  },
  {
   "cell_type": "code",
   "execution_count": null,
   "id": "1fa5ed0d-db44-4fc6-91b2-a011c48633b1",
   "metadata": {},
   "outputs": [],
   "source": []
  }
 ],
 "metadata": {
  "kernelspec": {
   "display_name": "MSBuddy",
   "language": "python",
   "name": "msbuddy"
  },
  "language_info": {
   "codemirror_mode": {
    "name": "ipython",
    "version": 3
   },
   "file_extension": ".py",
   "mimetype": "text/x-python",
   "name": "python",
   "nbconvert_exporter": "python",
   "pygments_lexer": "ipython3",
   "version": "3.8.18"
  }
 },
 "nbformat": 4,
 "nbformat_minor": 5
}
